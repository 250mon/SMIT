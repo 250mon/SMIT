{
 "cells": [
  {
   "cell_type": "code",
   "execution_count": 152,
   "id": "c46069a4",
   "metadata": {},
   "outputs": [],
   "source": [
    "import tensorflow as tf\n",
    "import numpy as np"
   ]
  },
  {
   "cell_type": "markdown",
   "id": "1c4bb1df",
   "metadata": {},
   "source": [
    "# tf.Session"
   ]
  },
  {
   "cell_type": "markdown",
   "id": "a9e439a3",
   "metadata": {},
   "source": [
    "[tf.Session](https://www.tensorflow.org/versions/r1.15/api_docs/python/tf/Session)"
   ]
  },
  {
   "cell_type": "markdown",
   "id": "776b4df6",
   "metadata": {},
   "source": [
    "A `Session` object encapsulates the environment in which `Operation` objects are executed, and `Tensor` objects are evaluated. For example:"
   ]
  },
  {
   "cell_type": "code",
   "execution_count": 189,
   "id": "0e6083ed",
   "metadata": {},
   "outputs": [
    {
     "name": "stdout",
     "output_type": "stream",
     "text": [
      "30.0\n"
     ]
    }
   ],
   "source": [
    "tf.compat.v1.disable_eager_execution() # need to disable eager in TF2.x\n",
    "# Build a graph.\n",
    "a = tf.constant(5.0)\n",
    "b = tf.constant(6.0)\n",
    "c = a * b\n",
    "\n",
    "# Launch the graph in a session.\n",
    "sess = tf.compat.v1.Session()\n",
    "\n",
    "# Evaluate the tensor `c`.\n",
    "print(sess.run(c)) # prints 30.0"
   ]
  },
  {
   "cell_type": "markdown",
   "id": "85de480d",
   "metadata": {},
   "source": [
    "A session may own resources, such as [`tf.Variable`](https://www.tensorflow.org/api_docs/python/tf/Variable)www.tensorflow.org/api_docs/python/tf/queue/QueueBase), and [`tf.compat.v1.ReaderBase`](https://www.tensorflow.org/api_docs/python/tf/compat/v1/ReaderBase). It is important to release thees when they are no longer required. To do this, either invoke the `tf.Session.close` method on the session, or use the session as a context manager. The following two examples are equivalent:"
   ]
  },
  {
   "cell_type": "code",
   "execution_count": null,
   "id": "920651bd",
   "metadata": {},
   "outputs": [],
   "source": [
    "# Using the `close()` method.\n",
    "sess = tf.compat.v1.Session()\n",
    "sess.run(c)\n",
    "sess.close()"
   ]
  },
  {
   "cell_type": "code",
   "execution_count": 193,
   "id": "0f042e22",
   "metadata": {},
   "outputs": [],
   "source": [
    "# Using the context manager.\n",
    "with tf.compat.v1.Session() as sess:\n",
    "  sess.run(c)\n",
    "# sess.run(c) => closed session error"
   ]
  },
  {
   "cell_type": "markdown",
   "id": "69ef9aff",
   "metadata": {},
   "source": [
    "## session.as_default()"
   ]
  },
  {
   "cell_type": "markdown",
   "id": "2e37fb79",
   "metadata": {},
   "source": [
    "Returns a context manager that makes this object the default session.\n",
    "\n",
    "Use with the `with` keyword to specify that calls to [`tf.Operation.run`](https://www.tensorflow.org/versions/r1.15/api_docs/python/tf/Operation#run) or [`tf.Tensor.eval`](https://www.tensorflow.org/versions/r1.15/api_docs/python/tf/Tensor#eval) should be executed in this sessio"
   ]
  },
  {
   "cell_type": "code",
   "execution_count": 196,
   "id": "d9829cfe",
   "metadata": {},
   "outputs": [
    {
     "name": "stdout",
     "output_type": "stream",
     "text": [
      "30.0\n"
     ]
    }
   ],
   "source": [
    "# as_default() to use tensor.eval()\n",
    "# not close automatically\n",
    "sess1 = tf.compat.v1.Session()\n",
    "with sess1.as_default():\n",
    "  assert tf.compat.v1.get_default_session() is sess1\n",
    "  print(c.eval())\n",
    "\n",
    "# Note: The as_default context manager does not close the session when you exit the context, \n",
    "# and you must close the session explicitly.\n",
    "sess1.run(a)\n",
    "sess1.close()"
   ]
  },
  {
   "cell_type": "code",
   "execution_count": 197,
   "id": "860bdee5",
   "metadata": {},
   "outputs": [
    {
     "name": "stdout",
     "output_type": "stream",
     "text": [
      "30.0\n"
     ]
    }
   ],
   "source": [
    "# Alternatively, you can use with tf.compat.v1.Session(): \n",
    "# to create a session that is automatically closed on exiting the context, \n",
    "# including when an uncaught exception is raised.\n",
    "with tf.compat.v1.Session():\n",
    "  print(c.eval())"
   ]
  },
  {
   "cell_type": "markdown",
   "id": "e79a27cd",
   "metadata": {},
   "source": [
    "The [`ConfigProto`](https://www.tensorflow.org/code/tensorflow/core/protobuf/config.proto) protocol buffer exposes various configuration options for a session. For example, to create a session that uses soft constraints for device placement, and log the resulting placement decisions, create a session as follows:"
   ]
  },
  {
   "cell_type": "code",
   "execution_count": 175,
   "id": "d44c3fd9",
   "metadata": {},
   "outputs": [
    {
     "name": "stdout",
     "output_type": "stream",
     "text": [
      "Device mapping:\n",
      "\n"
     ]
    }
   ],
   "source": [
    "# Launch the graph in a session that allows soft device placement and\n",
    "# logs the placement decisions.\n",
    "sess = tf.compat.v1.Session(config=tf.compat.v1.ConfigProto(\n",
    "    allow_soft_placement=True,\n",
    "    log_device_placement=True))"
   ]
  },
  {
   "cell_type": "markdown",
   "id": "277b758e",
   "metadata": {},
   "source": [
    "# tf.Tensor"
   ]
  },
  {
   "cell_type": "markdown",
   "id": "3c46e4c6",
   "metadata": {},
   "source": [
    "[tf.Tensor](https://www.tensorflow.org/versions/r1.15/api_docs/python/tf/Tensor)"
   ]
  },
  {
   "cell_type": "code",
   "execution_count": null,
   "id": "80f7ddbd",
   "metadata": {},
   "outputs": [],
   "source": [
    "x = tf.constant([[2.0, 3.0]])\n",
    "y = tf.constant([[3.0, -5.0]])\n",
    "x, y"
   ]
  },
  {
   "cell_type": "markdown",
   "id": "6e2c6842",
   "metadata": {},
   "source": [
    "## tf.convert_to_tensor"
   ]
  },
  {
   "cell_type": "code",
   "execution_count": 157,
   "id": "16efb10d",
   "metadata": {},
   "outputs": [],
   "source": [
    "def my_func(arg):\n",
    "  arg = tf.convert_to_tensor(arg, dtype=tf.float32)\n",
    "  return tf.matmul(arg, arg) + arg\n",
    "\n",
    "# The following calls are equivalent.\n",
    "value_1 = my_func(tf.constant([[1.0, 2.0], [3.0, 4.0]]))\n",
    "value_2 = my_func([[1.0, 2.0], [3.0, 4.0]])\n",
    "value_3 = my_func(np.array([[1.0, 2.0], [3.0, 4.0]], dtype=np.float32))"
   ]
  },
  {
   "cell_type": "code",
   "execution_count": 158,
   "id": "1eab4264",
   "metadata": {},
   "outputs": [
    {
     "data": {
      "text/plain": [
       "((array([[ 8., 12.],\n",
       "         [18., 26.]], dtype=float32),\n",
       "  array([[ 8., 12.],\n",
       "         [18., 26.]], dtype=float32),\n",
       "  array([[ 8., 12.],\n",
       "         [18., 26.]], dtype=float32)),\n",
       " <tf.Tensor 'add_11:0' shape=(2, 2) dtype=float32>,\n",
       " <tf.Tensor 'add_12:0' shape=(2, 2) dtype=float32>,\n",
       " <tf.Tensor 'add_13:0' shape=(2, 2) dtype=float32>)"
      ]
     },
     "execution_count": 158,
     "metadata": {},
     "output_type": "execute_result"
    }
   ],
   "source": [
    "sess.run((value_1, value_2, value_3)), value_1, value_2, value_3"
   ]
  },
  {
   "cell_type": "code",
   "execution_count": 185,
   "id": "d02aa49f",
   "metadata": {},
   "outputs": [
    {
     "name": "stdout",
     "output_type": "stream",
     "text": [
      "[3 4]\n",
      "[[3 2 1]\n",
      " [9 8 7]]\n",
      "3\n",
      "[[[1 2 3]\n",
      "  [4 5 6]\n",
      "  [7 8 9]]]\n",
      "[[[1 2 3]]\n",
      "\n",
      " [[4 5 6]]\n",
      "\n",
      " [[7 8 9]]]\n",
      "[[[1]\n",
      "  [2]\n",
      "  [3]]\n",
      "\n",
      " [[4]\n",
      "  [5]\n",
      "  [6]]\n",
      "\n",
      " [[7]\n",
      "  [8]\n",
      "  [9]]]\n",
      "[[[1 2 3]\n",
      "  [4 5 6]\n",
      "  [7 8 9]]]\n",
      "[[[1 2 3]\n",
      "  [4 5 6]\n",
      "  [7 8 9]]]\n",
      "[[[1 2 3]\n",
      "  [4 5 6]\n",
      "  [7 8 9]]]\n",
      "WARNING:tensorflow:From E:\\anaconda3\\envs\\tfv1\\lib\\site-packages\\tensorflow_core\\python\\ops\\array_ops.py:1475: where (from tensorflow.python.ops.array_ops) is deprecated and will be removed in a future version.\n",
      "Instructions for updating:\n",
      "Use tf.where in 2.0, which has the same broadcast rule as np.where\n",
      "[3 4 5 6 7 8 9]\n"
     ]
    }
   ],
   "source": [
    "# Launch the graph in a session.\n",
    "sess2 = tf.compat.v1.Session()\n",
    "with sess2.as_default():\n",
    "    # Strip leading and trailing 2 elements\n",
    "    foo = tf.constant([1,2,3,4,5,6])\n",
    "    print(foo[2:-2].eval())  # => [3,4]\n",
    "    \n",
    "    # Skip every other row and reverse the order of the columns\n",
    "    foo = tf.constant([[1,2,3], [4,5,6], [7,8,9]])\n",
    "    print(foo[::2,::-1].eval())  # => [[3,2,1], [9,8,7]]\n",
    "\n",
    "    # Use scalar tensors as indices on both dimensions\n",
    "    print(foo[tf.constant(0), tf.constant(2)].eval())  # => 3\n",
    "\n",
    "    # Insert another dimension\n",
    "    foo = tf.constant([[1,2,3], [4,5,6], [7,8,9]])\n",
    "    print(foo[tf.newaxis, :, :].eval()) # => [[[1,2,3], [4,5,6], [7,8,9]]]\n",
    "    print(foo[:, tf.newaxis, :].eval()) # => [[[1,2,3]], [[4,5,6]], [[7,8,9]]]\n",
    "    print(foo[:, :, tf.newaxis].eval()) # => [[[1],[2],[3]], [[4],[5],[6]], [[7],[8],[9]]]\n",
    "\n",
    "    # Ellipses (3 equivalent operations)\n",
    "    foo = tf.constant([[1,2,3], [4,5,6], [7,8,9]])\n",
    "    print(foo[tf.newaxis, :, :].eval())  # => [[[1,2,3], [4,5,6], [7,8,9]]]\n",
    "    print(foo[tf.newaxis, ...].eval())  # => [[[1,2,3], [4,5,6], [7,8,9]]]\n",
    "    print(foo[tf.newaxis].eval())  # => [[[1,2,3], [4,5,6], [7,8,9]]]\n",
    "\n",
    "    # Masks\n",
    "    foo = tf.constant([[1,2,3], [4,5,6], [7,8,9]])\n",
    "    print(foo[foo > 2].eval())  # => [3, 4, 5, 6, 7, 8, 9]"
   ]
  },
  {
   "cell_type": "code",
   "execution_count": null,
   "id": "00c37b89",
   "metadata": {},
   "outputs": [],
   "source": []
  },
  {
   "cell_type": "code",
   "execution_count": null,
   "id": "c5111b3a",
   "metadata": {},
   "outputs": [],
   "source": []
  },
  {
   "cell_type": "code",
   "execution_count": null,
   "id": "2c4e5ccc",
   "metadata": {},
   "outputs": [],
   "source": []
  },
  {
   "cell_type": "code",
   "execution_count": null,
   "id": "101b397b",
   "metadata": {},
   "outputs": [],
   "source": []
  },
  {
   "cell_type": "markdown",
   "id": "e958de6a",
   "metadata": {},
   "source": [
    "# tf.Variable"
   ]
  },
  {
   "cell_type": "markdown",
   "id": "462a8309",
   "metadata": {},
   "source": [
    "[tf.Variable](https://www.tensorflow.org/versions/r1.15/api_docs/python/tf/Variable)"
   ]
  },
  {
   "cell_type": "markdown",
   "id": "c64f645e",
   "metadata": {},
   "source": [
    "When you launch the graph, variables have to be explicitly initialized before you can run Ops that use their value. You can initialize a variable by running its *initializer op*, restoring the variable from a save file, or simply running an `assign` Op that assigns a value to the variable. In fact, the variable *initializer op* is just an `assign` Op that assigns the variable's initial value to the variable itself."
   ]
  },
  {
   "cell_type": "code",
   "execution_count": 298,
   "id": "e73838be",
   "metadata": {},
   "outputs": [
    {
     "data": {
      "text/plain": [
       "(<tf.Tensor 'Const_91:0' shape=(1, 2) dtype=float32>,\n",
       " <tf.Tensor 'Const_92:0' shape=(1, 2) dtype=float32>,\n",
       " TensorShape([Dimension(1), Dimension(2)]))"
      ]
     },
     "execution_count": 298,
     "metadata": {},
     "output_type": "execute_result"
    }
   ],
   "source": [
    "x = tf.constant([[2.0, 3.0]])\n",
    "y = tf.constant([[3.0, -5.0]])\n",
    "x, y, x.get_shape()"
   ]
  },
  {
   "cell_type": "code",
   "execution_count": 299,
   "id": "be811d97",
   "metadata": {},
   "outputs": [
    {
     "data": {
      "text/plain": [
       "TensorShape([Dimension(2), Dimension(1)])"
      ]
     },
     "execution_count": 299,
     "metadata": {},
     "output_type": "execute_result"
    }
   ],
   "source": [
    "# Create a variable.\n",
    "w = tf.Variable([[1.0], [1.0]])\n",
    "#w = tf.Variable(tf.ones([2, 1]))\n",
    "w.get_shape()"
   ]
  },
  {
   "cell_type": "code",
   "execution_count": 300,
   "id": "9062b397",
   "metadata": {},
   "outputs": [
    {
     "data": {
      "text/plain": [
       "(<tf.Tensor 'MatMul_21:0' shape=(2, 2) dtype=float32>,\n",
       " <tf.Tensor 'Sigmoid_5:0' shape=(2, 2) dtype=float32>)"
      ]
     },
     "execution_count": 300,
     "metadata": {},
     "output_type": "execute_result"
    }
   ],
   "source": [
    "# Use the variable in the graph like any Tensor.\n",
    "x1 = tf.matmul(w, x)\n",
    "\n",
    "# The overloaded operators are available too.\n",
    "z = tf.sigmoid(w + x1)\n",
    "x1, z"
   ]
  },
  {
   "cell_type": "code",
   "execution_count": 304,
   "id": "4c134d69",
   "metadata": {},
   "outputs": [],
   "source": [
    "ass_op = tf.assign(w, tf.ones([2, 1])) # work\n",
    "# ass_op = w.assign(tf.ones([2, 1])) not work because w is not initialized"
   ]
  },
  {
   "cell_type": "code",
   "execution_count": 305,
   "id": "fe5902e0",
   "metadata": {},
   "outputs": [],
   "source": [
    "sess_v = tf.Session()"
   ]
  },
  {
   "cell_type": "code",
   "execution_count": 307,
   "id": "d0af51a1",
   "metadata": {},
   "outputs": [
    {
     "data": {
      "text/plain": [
       "array([[1.],\n",
       "       [1.]], dtype=float32)"
      ]
     },
     "execution_count": 307,
     "metadata": {},
     "output_type": "execute_result"
    }
   ],
   "source": [
    "sess_v.run(ass_op) # the same as sess_v.run(w.initializer)"
   ]
  },
  {
   "cell_type": "code",
   "execution_count": 308,
   "id": "e930b9de",
   "metadata": {},
   "outputs": [
    {
     "data": {
      "text/plain": [
       "(array([[2., 3.],\n",
       "        [2., 3.]], dtype=float32),\n",
       " array([[0.95257413, 0.98201376],\n",
       "        [0.95257413, 0.98201376]], dtype=float32))"
      ]
     },
     "execution_count": 308,
     "metadata": {},
     "output_type": "execute_result"
    }
   ],
   "source": [
    "sess_v.run((x1, z))"
   ]
  },
  {
   "cell_type": "code",
   "execution_count": 309,
   "id": "3e15921e",
   "metadata": {},
   "outputs": [
    {
     "data": {
      "text/plain": [
       "<tf.Tensor 'Assign_19:0' shape=(2, 1) dtype=float32_ref>"
      ]
     },
     "execution_count": 309,
     "metadata": {},
     "output_type": "execute_result"
    }
   ],
   "source": [
    "# Assign a new value to the variable with `assign()` or a related method.\n",
    "w.assign(tf.add(w, 1.0))"
   ]
  },
  {
   "cell_type": "code",
   "execution_count": 310,
   "id": "6a952a8f",
   "metadata": {},
   "outputs": [
    {
     "data": {
      "text/plain": [
       "<tf.Tensor 'AssignAdd_18:0' shape=(2, 1) dtype=float32_ref>"
      ]
     },
     "execution_count": 310,
     "metadata": {},
     "output_type": "execute_result"
    }
   ],
   "source": [
    "w.assign_add(tf.constant([[1.0], [1.0]]))"
   ]
  },
  {
   "cell_type": "code",
   "execution_count": 311,
   "id": "a1df17a2",
   "metadata": {},
   "outputs": [],
   "source": [
    "sess_v.close()"
   ]
  },
  {
   "cell_type": "markdown",
   "id": "6bdb9979",
   "metadata": {},
   "source": [
    "***"
   ]
  },
  {
   "cell_type": "code",
   "execution_count": 312,
   "id": "b3559997",
   "metadata": {},
   "outputs": [
    {
     "data": {
      "text/plain": [
       "(<tf.Variable 'Variable_43:0' shape=() dtype=float32_ref>,\n",
       " <tf.Tensor 'AssignAdd_19:0' shape=() dtype=float32_ref>)"
      ]
     },
     "execution_count": 312,
     "metadata": {},
     "output_type": "execute_result"
    }
   ],
   "source": [
    "# Create a variable.\n",
    "w = tf.Variable(0.)\n",
    "# Use the variable in the graph like any Tensor.\n",
    "op = w.assign_add(1.)\n",
    "w, op"
   ]
  },
  {
   "cell_type": "code",
   "execution_count": 313,
   "id": "3c725379",
   "metadata": {},
   "outputs": [],
   "source": [
    "sess2 = tf.Session()\n",
    "sess2.run(w.initializer)"
   ]
  },
  {
   "cell_type": "code",
   "execution_count": 315,
   "id": "a66824ae",
   "metadata": {},
   "outputs": [
    {
     "data": {
      "text/plain": [
       "(<tf.Tensor 'AssignAdd_19:0' shape=() dtype=float32_ref>,\n",
       " 1.0,\n",
       " <tf.Variable 'Variable_43:0' shape=() dtype=float32_ref>,\n",
       " 1.0,\n",
       " (2.0, 2.0))"
      ]
     },
     "execution_count": 315,
     "metadata": {},
     "output_type": "execute_result"
    }
   ],
   "source": [
    "# ...you now can run ops that use the value of 'w'...\n",
    "ret_op = sess2.run(op)\n",
    "ret_w = sess2.run(w)\n",
    "ret_both = sess2.run((op, w))\n",
    "op, ret_op, w, ret_w, ret_both"
   ]
  },
  {
   "cell_type": "code",
   "execution_count": 316,
   "id": "b846a399",
   "metadata": {},
   "outputs": [
    {
     "data": {
      "text/plain": [
       "((array([[4., 6.]], dtype=float32), array([[2., 3.]], dtype=float32), 2.0),\n",
       " <tf.Tensor 'mul_19:0' shape=(1, 2) dtype=float32>,\n",
       " <tf.Tensor 'Const_91:0' shape=(1, 2) dtype=float32>,\n",
       " <tf.Variable 'Variable_43:0' shape=() dtype=float32_ref>)"
      ]
     },
     "execution_count": 316,
     "metadata": {},
     "output_type": "execute_result"
    }
   ],
   "source": [
    "y = x * w\n",
    "sess2.run((y, x, w)), y, x, w"
   ]
  },
  {
   "cell_type": "markdown",
   "id": "4dac11e4",
   "metadata": {},
   "source": [
    "***"
   ]
  },
  {
   "cell_type": "markdown",
   "id": "90ced593",
   "metadata": {},
   "source": [
    "# tf.function"
   ]
  },
  {
   "cell_type": "markdown",
   "id": "a456a768",
   "metadata": {},
   "source": [
    "[tf.function](https://www.tensorflow.org/versions/r1.15/api_docs/python/tf/function)"
   ]
  },
  {
   "cell_type": "markdown",
   "id": "5287ab98",
   "metadata": {},
   "source": [
    "```\n",
    "tf.function(\n",
    "    func=None, input_signature=None, autograph=True,\n",
    "    experimental_autograph_options=None, experimental_relax_shapes=False,\n",
    "    experimental_compile=None\n",
    ")\n",
    "```"
   ]
  },
  {
   "cell_type": "markdown",
   "id": "485208ac",
   "metadata": {},
   "source": [
    "`function` constructs a callable that executes a TensorFlow graph (`tf.Graph`) created by tracing the TensorFlow operations in `func`. This allows the TensorFlow runtime to apply optimizations and exploit parallelism in the computation defined by `func`."
   ]
  },
  {
   "cell_type": "code",
   "execution_count": 224,
   "id": "42559dc1",
   "metadata": {},
   "outputs": [],
   "source": [
    "def f(x, y):\n",
    "  return tf.reduce_mean(tf.multiply(x ** 2, 3) + y)"
   ]
  },
  {
   "cell_type": "code",
   "execution_count": 225,
   "id": "784ed7d2",
   "metadata": {},
   "outputs": [],
   "source": [
    "g = tf.function(f)\n",
    "x_1 = tf.constant([[2.0, 3.0]])\n",
    "y_1 = tf.constant([[3.0, -5.0]])"
   ]
  },
  {
   "cell_type": "code",
   "execution_count": 226,
   "id": "b3f098c4",
   "metadata": {},
   "outputs": [
    {
     "data": {
      "text/plain": [
       "(18.5, 18.5)"
      ]
     },
     "execution_count": 226,
     "metadata": {},
     "output_type": "execute_result"
    }
   ],
   "source": [
    "sess = tf.Session()\n",
    "# `f` and `g` will return the same value, but `g` will be executed as a TensorFlow graph.\n",
    "sess.run(g(x_1, y_1)), sess.run(f(x_1, y_1))"
   ]
  },
  {
   "cell_type": "code",
   "execution_count": 227,
   "id": "76edacb0",
   "metadata": {},
   "outputs": [],
   "source": [
    "# Tensors and tf.Variables used by the Python function are captured in the graph.\n",
    "@tf.function\n",
    "def h():\n",
    "  return f(x_1, y_1)"
   ]
  },
  {
   "cell_type": "code",
   "execution_count": 228,
   "id": "7317350f",
   "metadata": {},
   "outputs": [
    {
     "data": {
      "text/plain": [
       "18.5"
      ]
     },
     "execution_count": 228,
     "metadata": {},
     "output_type": "execute_result"
    }
   ],
   "source": [
    "sess.run(h())"
   ]
  },
  {
   "cell_type": "code",
   "execution_count": 229,
   "id": "666cd1f6",
   "metadata": {},
   "outputs": [],
   "source": [
    "# Data-dependent control flow is also captured in the graph.\n",
    "# Supported control flow statements include `if`, `for`, `while`, `break`, `continue`, `return`.\n",
    "@tf.function\n",
    "def gcond(x):\n",
    "  if tf.reduce_sum(x) > 0:\n",
    "    return x * x\n",
    "  else:\n",
    "    return -x // 2"
   ]
  },
  {
   "cell_type": "code",
   "execution_count": 230,
   "id": "c82bdc2b",
   "metadata": {},
   "outputs": [
    {
     "data": {
      "text/plain": [
       "(array([[4., 9.]], dtype=float32), array([[-2.,  2.]], dtype=float32))"
      ]
     },
     "execution_count": 230,
     "metadata": {},
     "output_type": "execute_result"
    }
   ],
   "source": [
    "sess.run(gcond(x_1)), sess.run(gcond(y_1))"
   ]
  },
  {
   "cell_type": "code",
   "execution_count": 231,
   "id": "2cb656c7",
   "metadata": {},
   "outputs": [],
   "source": [
    "# print and TensorFlow side effects are supported, but exercise caution when\n",
    "# using Python side effects like mutating objects, saving to files, etc.\n",
    "l = []\n",
    "v = tf.Variable(0)\n",
    "\n",
    "@tf.function\n",
    "def gpy(x):\n",
    "  for i in x:\n",
    "    print(i)                              # Works\n",
    "    tf.compat.v1.assign(v, i)                       # Works\n",
    "    tf.compat.v1.py_func(lambda i: l.append(i))(i)  # Works\n",
    "    l.append(i)                           # Caution! Doesn't work."
   ]
  },
  {
   "cell_type": "markdown",
   "id": "4cf52675",
   "metadata": {},
   "source": [
    "Note that unlike other TensorFlow operations, we don't convert python numerical inputs to tensors. Moreover, a new graph is generated for each distinct python numerical value, for example calling `g(2)` and `g(3)` will generate two new graphs (while only one is generated if you call `g(tf.constant(2))` and `g(tf.constant(3))`). Therefore, python numerical inputs should be restricted to arguments that will have few distinct values, such as hyperparameters like the number of layers in a neural network. This allows TensorFlow to optimize each variant of the neural network."
   ]
  },
  {
   "cell_type": "code",
   "execution_count": 234,
   "id": "d22ac44f",
   "metadata": {},
   "outputs": [
    {
     "data": {
      "text/plain": [
       "1"
      ]
     },
     "execution_count": 234,
     "metadata": {},
     "output_type": "execute_result"
    }
   ],
   "source": [
    "sess.run(v.initializer)\n",
    "op1 = tf.compat.v1.assign(v, 1) \n",
    "#sess.run(gpy([1, 2]))\n",
    "sess.run(op1)"
   ]
  },
  {
   "cell_type": "markdown",
   "id": "8932fa06",
   "metadata": {},
   "source": [
    "The Python function `func` may reference stateful objects (such as [`tf.Variable`](https://www.tensorflow.org/versions/r1.15/api_docs/python/tf/Variable)red as implicit inputs to the callable returned by `function`. For example:"
   ]
  },
  {
   "cell_type": "code",
   "execution_count": 219,
   "id": "859de687",
   "metadata": {},
   "outputs": [
    {
     "name": "stdout",
     "output_type": "stream",
     "text": [
      "0\n"
     ]
    },
    {
     "ename": "TypeError",
     "evalue": "in converted code:\n\n    <ipython-input-219-4380e908daba>:7 f1  *\n        c.assign_add(1)\n    E:\\anaconda3\\envs\\tfv1\\lib\\site-packages\\tensorflow_core\\python\\ops\\variables.py:2089 assign_add\n        self._variable, delta, use_locking=use_locking, name=name)\n    E:\\anaconda3\\envs\\tfv1\\lib\\site-packages\\tensorflow_core\\python\\ops\\state_ops.py:194 assign_add\n        ref, value, use_locking=use_locking, name=name)\n    E:\\anaconda3\\envs\\tfv1\\lib\\site-packages\\tensorflow_core\\python\\ops\\gen_state_ops.py:113 assign_add\n        \"AssignAdd\", ref=ref, value=value, use_locking=use_locking, name=name)\n    E:\\anaconda3\\envs\\tfv1\\lib\\site-packages\\tensorflow_core\\python\\framework\\op_def_library.py:794 _apply_op_helper\n        op_def=op_def)\n    E:\\anaconda3\\envs\\tfv1\\lib\\site-packages\\tensorflow_core\\python\\framework\\func_graph.py:548 create_op\n        compute_device)\n    E:\\anaconda3\\envs\\tfv1\\lib\\site-packages\\tensorflow_core\\python\\framework\\ops.py:3426 _create_op_internal\n        op_def=op_def)\n    E:\\anaconda3\\envs\\tfv1\\lib\\site-packages\\tensorflow_core\\python\\framework\\ops.py:1726 __init__\n        (node_def.name, [i.dtype for i in inputs], input_types))\n\n    TypeError: In op 'AssignAdd', input types ([tf.int32, tf.int32]) are not compatible with expected types ([tf.int32_ref, tf.int32])\n",
     "output_type": "error",
     "traceback": [
      "\u001b[1;31m---------------------------------------------------------------------------\u001b[0m",
      "\u001b[1;31mTypeError\u001b[0m                                 Traceback (most recent call last)",
      "\u001b[1;32m<ipython-input-219-4380e908daba>\u001b[0m in \u001b[0;36m<module>\u001b[1;34m\u001b[0m\n\u001b[0;32m      9\u001b[0m \u001b[1;33m\u001b[0m\u001b[0m\n\u001b[0;32m     10\u001b[0m     \u001b[0mprint\u001b[0m\u001b[1;33m(\u001b[0m\u001b[0mc\u001b[0m\u001b[1;33m.\u001b[0m\u001b[0meval\u001b[0m\u001b[1;33m(\u001b[0m\u001b[1;33m)\u001b[0m\u001b[1;33m)\u001b[0m\u001b[1;33m\u001b[0m\u001b[1;33m\u001b[0m\u001b[0m\n\u001b[1;32m---> 11\u001b[1;33m     \u001b[0mprint\u001b[0m\u001b[1;33m(\u001b[0m\u001b[0mf1\u001b[0m\u001b[1;33m(\u001b[0m\u001b[1;36m1\u001b[0m\u001b[1;33m)\u001b[0m\u001b[1;33m)\u001b[0m\u001b[1;33m\u001b[0m\u001b[1;33m\u001b[0m\u001b[0m\n\u001b[0m\u001b[0;32m     12\u001b[0m \u001b[1;31m#    print(c.eval())\u001b[0m\u001b[1;33m\u001b[0m\u001b[1;33m\u001b[0m\u001b[1;33m\u001b[0m\u001b[0m\n",
      "\u001b[1;32mE:\\anaconda3\\envs\\tfv1\\lib\\site-packages\\tensorflow_core\\python\\eager\\def_function.py\u001b[0m in \u001b[0;36m__call__\u001b[1;34m(self, *args, **kwds)\u001b[0m\n\u001b[0;32m    447\u001b[0m     \u001b[1;31m# This is the first call of __call__, so we have to initialize.\u001b[0m\u001b[1;33m\u001b[0m\u001b[1;33m\u001b[0m\u001b[1;33m\u001b[0m\u001b[0m\n\u001b[0;32m    448\u001b[0m     \u001b[0minitializer_map\u001b[0m \u001b[1;33m=\u001b[0m \u001b[0mobject_identity\u001b[0m\u001b[1;33m.\u001b[0m\u001b[0mObjectIdentityDictionary\u001b[0m\u001b[1;33m(\u001b[0m\u001b[1;33m)\u001b[0m\u001b[1;33m\u001b[0m\u001b[1;33m\u001b[0m\u001b[0m\n\u001b[1;32m--> 449\u001b[1;33m     \u001b[0mself\u001b[0m\u001b[1;33m.\u001b[0m\u001b[0m_initialize\u001b[0m\u001b[1;33m(\u001b[0m\u001b[0margs\u001b[0m\u001b[1;33m,\u001b[0m \u001b[0mkwds\u001b[0m\u001b[1;33m,\u001b[0m \u001b[0madd_initializers_to\u001b[0m\u001b[1;33m=\u001b[0m\u001b[0minitializer_map\u001b[0m\u001b[1;33m)\u001b[0m\u001b[1;33m\u001b[0m\u001b[1;33m\u001b[0m\u001b[0m\n\u001b[0m\u001b[0;32m    450\u001b[0m     \u001b[1;32mif\u001b[0m \u001b[0mself\u001b[0m\u001b[1;33m.\u001b[0m\u001b[0m_created_variables\u001b[0m\u001b[1;33m:\u001b[0m\u001b[1;33m\u001b[0m\u001b[1;33m\u001b[0m\u001b[0m\n\u001b[0;32m    451\u001b[0m       \u001b[1;32mtry\u001b[0m\u001b[1;33m:\u001b[0m\u001b[1;33m\u001b[0m\u001b[1;33m\u001b[0m\u001b[0m\n",
      "\u001b[1;32mE:\\anaconda3\\envs\\tfv1\\lib\\site-packages\\tensorflow_core\\python\\eager\\def_function.py\u001b[0m in \u001b[0;36m_initialize\u001b[1;34m(self, args, kwds, add_initializers_to)\u001b[0m\n\u001b[0;32m    390\u001b[0m     self._concrete_stateful_fn = (\n\u001b[0;32m    391\u001b[0m         self._stateful_fn._get_concrete_function_internal_garbage_collected(  # pylint: disable=protected-access\n\u001b[1;32m--> 392\u001b[1;33m             *args, **kwds))\n\u001b[0m\u001b[0;32m    393\u001b[0m \u001b[1;33m\u001b[0m\u001b[0m\n\u001b[0;32m    394\u001b[0m     \u001b[1;32mdef\u001b[0m \u001b[0minvalid_creator_scope\u001b[0m\u001b[1;33m(\u001b[0m\u001b[1;33m*\u001b[0m\u001b[0munused_args\u001b[0m\u001b[1;33m,\u001b[0m \u001b[1;33m**\u001b[0m\u001b[0munused_kwds\u001b[0m\u001b[1;33m)\u001b[0m\u001b[1;33m:\u001b[0m\u001b[1;33m\u001b[0m\u001b[1;33m\u001b[0m\u001b[0m\n",
      "\u001b[1;32mE:\\anaconda3\\envs\\tfv1\\lib\\site-packages\\tensorflow_core\\python\\eager\\function.py\u001b[0m in \u001b[0;36m_get_concrete_function_internal_garbage_collected\u001b[1;34m(self, *args, **kwargs)\u001b[0m\n\u001b[0;32m   1845\u001b[0m     \u001b[1;32mif\u001b[0m \u001b[0mself\u001b[0m\u001b[1;33m.\u001b[0m\u001b[0minput_signature\u001b[0m\u001b[1;33m:\u001b[0m\u001b[1;33m\u001b[0m\u001b[1;33m\u001b[0m\u001b[0m\n\u001b[0;32m   1846\u001b[0m       \u001b[0margs\u001b[0m\u001b[1;33m,\u001b[0m \u001b[0mkwargs\u001b[0m \u001b[1;33m=\u001b[0m \u001b[1;32mNone\u001b[0m\u001b[1;33m,\u001b[0m \u001b[1;32mNone\u001b[0m\u001b[1;33m\u001b[0m\u001b[1;33m\u001b[0m\u001b[0m\n\u001b[1;32m-> 1847\u001b[1;33m     \u001b[0mgraph_function\u001b[0m\u001b[1;33m,\u001b[0m \u001b[0m_\u001b[0m\u001b[1;33m,\u001b[0m \u001b[0m_\u001b[0m \u001b[1;33m=\u001b[0m \u001b[0mself\u001b[0m\u001b[1;33m.\u001b[0m\u001b[0m_maybe_define_function\u001b[0m\u001b[1;33m(\u001b[0m\u001b[0margs\u001b[0m\u001b[1;33m,\u001b[0m \u001b[0mkwargs\u001b[0m\u001b[1;33m)\u001b[0m\u001b[1;33m\u001b[0m\u001b[1;33m\u001b[0m\u001b[0m\n\u001b[0m\u001b[0;32m   1848\u001b[0m     \u001b[1;32mreturn\u001b[0m \u001b[0mgraph_function\u001b[0m\u001b[1;33m\u001b[0m\u001b[1;33m\u001b[0m\u001b[0m\n\u001b[0;32m   1849\u001b[0m \u001b[1;33m\u001b[0m\u001b[0m\n",
      "\u001b[1;32mE:\\anaconda3\\envs\\tfv1\\lib\\site-packages\\tensorflow_core\\python\\eager\\function.py\u001b[0m in \u001b[0;36m_maybe_define_function\u001b[1;34m(self, args, kwargs)\u001b[0m\n\u001b[0;32m   2145\u001b[0m         \u001b[0mgraph_function\u001b[0m \u001b[1;33m=\u001b[0m \u001b[0mself\u001b[0m\u001b[1;33m.\u001b[0m\u001b[0m_function_cache\u001b[0m\u001b[1;33m.\u001b[0m\u001b[0mprimary\u001b[0m\u001b[1;33m.\u001b[0m\u001b[0mget\u001b[0m\u001b[1;33m(\u001b[0m\u001b[0mcache_key\u001b[0m\u001b[1;33m,\u001b[0m \u001b[1;32mNone\u001b[0m\u001b[1;33m)\u001b[0m\u001b[1;33m\u001b[0m\u001b[1;33m\u001b[0m\u001b[0m\n\u001b[0;32m   2146\u001b[0m         \u001b[1;32mif\u001b[0m \u001b[0mgraph_function\u001b[0m \u001b[1;32mis\u001b[0m \u001b[1;32mNone\u001b[0m\u001b[1;33m:\u001b[0m\u001b[1;33m\u001b[0m\u001b[1;33m\u001b[0m\u001b[0m\n\u001b[1;32m-> 2147\u001b[1;33m           \u001b[0mgraph_function\u001b[0m \u001b[1;33m=\u001b[0m \u001b[0mself\u001b[0m\u001b[1;33m.\u001b[0m\u001b[0m_create_graph_function\u001b[0m\u001b[1;33m(\u001b[0m\u001b[0margs\u001b[0m\u001b[1;33m,\u001b[0m \u001b[0mkwargs\u001b[0m\u001b[1;33m)\u001b[0m\u001b[1;33m\u001b[0m\u001b[1;33m\u001b[0m\u001b[0m\n\u001b[0m\u001b[0;32m   2148\u001b[0m           \u001b[0mself\u001b[0m\u001b[1;33m.\u001b[0m\u001b[0m_function_cache\u001b[0m\u001b[1;33m.\u001b[0m\u001b[0mprimary\u001b[0m\u001b[1;33m[\u001b[0m\u001b[0mcache_key\u001b[0m\u001b[1;33m]\u001b[0m \u001b[1;33m=\u001b[0m \u001b[0mgraph_function\u001b[0m\u001b[1;33m\u001b[0m\u001b[1;33m\u001b[0m\u001b[0m\n\u001b[0;32m   2149\u001b[0m         \u001b[1;32mreturn\u001b[0m \u001b[0mgraph_function\u001b[0m\u001b[1;33m,\u001b[0m \u001b[0margs\u001b[0m\u001b[1;33m,\u001b[0m \u001b[0mkwargs\u001b[0m\u001b[1;33m\u001b[0m\u001b[1;33m\u001b[0m\u001b[0m\n",
      "\u001b[1;32mE:\\anaconda3\\envs\\tfv1\\lib\\site-packages\\tensorflow_core\\python\\eager\\function.py\u001b[0m in \u001b[0;36m_create_graph_function\u001b[1;34m(self, args, kwargs, override_flat_arg_shapes)\u001b[0m\n\u001b[0;32m   2036\u001b[0m             \u001b[0marg_names\u001b[0m\u001b[1;33m=\u001b[0m\u001b[0marg_names\u001b[0m\u001b[1;33m,\u001b[0m\u001b[1;33m\u001b[0m\u001b[1;33m\u001b[0m\u001b[0m\n\u001b[0;32m   2037\u001b[0m             \u001b[0moverride_flat_arg_shapes\u001b[0m\u001b[1;33m=\u001b[0m\u001b[0moverride_flat_arg_shapes\u001b[0m\u001b[1;33m,\u001b[0m\u001b[1;33m\u001b[0m\u001b[1;33m\u001b[0m\u001b[0m\n\u001b[1;32m-> 2038\u001b[1;33m             capture_by_value=self._capture_by_value),\n\u001b[0m\u001b[0;32m   2039\u001b[0m         \u001b[0mself\u001b[0m\u001b[1;33m.\u001b[0m\u001b[0m_function_attributes\u001b[0m\u001b[1;33m,\u001b[0m\u001b[1;33m\u001b[0m\u001b[1;33m\u001b[0m\u001b[0m\n\u001b[0;32m   2040\u001b[0m         \u001b[1;31m# Tell the ConcreteFunction to clean up its graph once it goes out of\u001b[0m\u001b[1;33m\u001b[0m\u001b[1;33m\u001b[0m\u001b[1;33m\u001b[0m\u001b[0m\n",
      "\u001b[1;32mE:\\anaconda3\\envs\\tfv1\\lib\\site-packages\\tensorflow_core\\python\\framework\\func_graph.py\u001b[0m in \u001b[0;36mfunc_graph_from_py_func\u001b[1;34m(name, python_func, args, kwargs, signature, func_graph, autograph, autograph_options, add_control_dependencies, arg_names, op_return_value, collections, capture_by_value, override_flat_arg_shapes)\u001b[0m\n\u001b[0;32m    913\u001b[0m                                           converted_func)\n\u001b[0;32m    914\u001b[0m \u001b[1;33m\u001b[0m\u001b[0m\n\u001b[1;32m--> 915\u001b[1;33m       \u001b[0mfunc_outputs\u001b[0m \u001b[1;33m=\u001b[0m \u001b[0mpython_func\u001b[0m\u001b[1;33m(\u001b[0m\u001b[1;33m*\u001b[0m\u001b[0mfunc_args\u001b[0m\u001b[1;33m,\u001b[0m \u001b[1;33m**\u001b[0m\u001b[0mfunc_kwargs\u001b[0m\u001b[1;33m)\u001b[0m\u001b[1;33m\u001b[0m\u001b[1;33m\u001b[0m\u001b[0m\n\u001b[0m\u001b[0;32m    916\u001b[0m \u001b[1;33m\u001b[0m\u001b[0m\n\u001b[0;32m    917\u001b[0m       \u001b[1;31m# invariant: `func_outputs` contains only Tensors, CompositeTensors,\u001b[0m\u001b[1;33m\u001b[0m\u001b[1;33m\u001b[0m\u001b[1;33m\u001b[0m\u001b[0m\n",
      "\u001b[1;32mE:\\anaconda3\\envs\\tfv1\\lib\\site-packages\\tensorflow_core\\python\\eager\\def_function.py\u001b[0m in \u001b[0;36mwrapped_fn\u001b[1;34m(*args, **kwds)\u001b[0m\n\u001b[0;32m    333\u001b[0m         \u001b[1;31m# __wrapped__ allows AutoGraph to swap in a converted function. We give\u001b[0m\u001b[1;33m\u001b[0m\u001b[1;33m\u001b[0m\u001b[1;33m\u001b[0m\u001b[0m\n\u001b[0;32m    334\u001b[0m         \u001b[1;31m# the function a weak reference to itself to avoid a reference cycle.\u001b[0m\u001b[1;33m\u001b[0m\u001b[1;33m\u001b[0m\u001b[1;33m\u001b[0m\u001b[0m\n\u001b[1;32m--> 335\u001b[1;33m         \u001b[1;32mreturn\u001b[0m \u001b[0mweak_wrapped_fn\u001b[0m\u001b[1;33m(\u001b[0m\u001b[1;33m)\u001b[0m\u001b[1;33m.\u001b[0m\u001b[0m__wrapped__\u001b[0m\u001b[1;33m(\u001b[0m\u001b[1;33m*\u001b[0m\u001b[0margs\u001b[0m\u001b[1;33m,\u001b[0m \u001b[1;33m**\u001b[0m\u001b[0mkwds\u001b[0m\u001b[1;33m)\u001b[0m\u001b[1;33m\u001b[0m\u001b[1;33m\u001b[0m\u001b[0m\n\u001b[0m\u001b[0;32m    336\u001b[0m     \u001b[0mweak_wrapped_fn\u001b[0m \u001b[1;33m=\u001b[0m \u001b[0mweakref\u001b[0m\u001b[1;33m.\u001b[0m\u001b[0mref\u001b[0m\u001b[1;33m(\u001b[0m\u001b[0mwrapped_fn\u001b[0m\u001b[1;33m)\u001b[0m\u001b[1;33m\u001b[0m\u001b[1;33m\u001b[0m\u001b[0m\n\u001b[0;32m    337\u001b[0m \u001b[1;33m\u001b[0m\u001b[0m\n",
      "\u001b[1;32mE:\\anaconda3\\envs\\tfv1\\lib\\site-packages\\tensorflow_core\\python\\framework\\func_graph.py\u001b[0m in \u001b[0;36mwrapper\u001b[1;34m(*args, **kwargs)\u001b[0m\n\u001b[0;32m    903\u001b[0m           \u001b[1;32mexcept\u001b[0m \u001b[0mException\u001b[0m \u001b[1;32mas\u001b[0m \u001b[0me\u001b[0m\u001b[1;33m:\u001b[0m  \u001b[1;31m# pylint:disable=broad-except\u001b[0m\u001b[1;33m\u001b[0m\u001b[1;33m\u001b[0m\u001b[0m\n\u001b[0;32m    904\u001b[0m             \u001b[1;32mif\u001b[0m \u001b[0mhasattr\u001b[0m\u001b[1;33m(\u001b[0m\u001b[0me\u001b[0m\u001b[1;33m,\u001b[0m \u001b[1;34m\"ag_error_metadata\"\u001b[0m\u001b[1;33m)\u001b[0m\u001b[1;33m:\u001b[0m\u001b[1;33m\u001b[0m\u001b[1;33m\u001b[0m\u001b[0m\n\u001b[1;32m--> 905\u001b[1;33m               \u001b[1;32mraise\u001b[0m \u001b[0me\u001b[0m\u001b[1;33m.\u001b[0m\u001b[0mag_error_metadata\u001b[0m\u001b[1;33m.\u001b[0m\u001b[0mto_exception\u001b[0m\u001b[1;33m(\u001b[0m\u001b[0me\u001b[0m\u001b[1;33m)\u001b[0m\u001b[1;33m\u001b[0m\u001b[1;33m\u001b[0m\u001b[0m\n\u001b[0m\u001b[0;32m    906\u001b[0m             \u001b[1;32melse\u001b[0m\u001b[1;33m:\u001b[0m\u001b[1;33m\u001b[0m\u001b[1;33m\u001b[0m\u001b[0m\n\u001b[0;32m    907\u001b[0m               \u001b[1;32mraise\u001b[0m\u001b[1;33m\u001b[0m\u001b[1;33m\u001b[0m\u001b[0m\n",
      "\u001b[1;31mTypeError\u001b[0m: in converted code:\n\n    <ipython-input-219-4380e908daba>:7 f1  *\n        c.assign_add(1)\n    E:\\anaconda3\\envs\\tfv1\\lib\\site-packages\\tensorflow_core\\python\\ops\\variables.py:2089 assign_add\n        self._variable, delta, use_locking=use_locking, name=name)\n    E:\\anaconda3\\envs\\tfv1\\lib\\site-packages\\tensorflow_core\\python\\ops\\state_ops.py:194 assign_add\n        ref, value, use_locking=use_locking, name=name)\n    E:\\anaconda3\\envs\\tfv1\\lib\\site-packages\\tensorflow_core\\python\\ops\\gen_state_ops.py:113 assign_add\n        \"AssignAdd\", ref=ref, value=value, use_locking=use_locking, name=name)\n    E:\\anaconda3\\envs\\tfv1\\lib\\site-packages\\tensorflow_core\\python\\framework\\op_def_library.py:794 _apply_op_helper\n        op_def=op_def)\n    E:\\anaconda3\\envs\\tfv1\\lib\\site-packages\\tensorflow_core\\python\\framework\\func_graph.py:548 create_op\n        compute_device)\n    E:\\anaconda3\\envs\\tfv1\\lib\\site-packages\\tensorflow_core\\python\\framework\\ops.py:3426 _create_op_internal\n        op_def=op_def)\n    E:\\anaconda3\\envs\\tfv1\\lib\\site-packages\\tensorflow_core\\python\\framework\\ops.py:1726 __init__\n        (node_def.name, [i.dtype for i in inputs], input_types))\n\n    TypeError: In op 'AssignAdd', input types ([tf.int32, tf.int32]) are not compatible with expected types ([tf.int32_ref, tf.int32])\n"
     ]
    }
   ],
   "source": [
    "with tf.compat.v1.Session() as sess1:\n",
    "    c = tf.Variable(0)\n",
    "    sess1.run(c.initializer)\n",
    "    \n",
    "    @tf.function\n",
    "    def f1(x):\n",
    "      c.assign_add(1)\n",
    "      return x + tf.compat.v1.to_float(c)\n",
    "\n",
    "    print(c.eval())\n",
    "    print(f1(1))\n",
    "#    print(c.eval())"
   ]
  },
  {
   "cell_type": "code",
   "execution_count": null,
   "id": "815e68bf",
   "metadata": {},
   "outputs": [],
   "source": [
    "c = tf.constant([[1.0, 2.0], [3.0, 4.0]])\n",
    "d = tf.constant([[1.0, 1.0], [0.0, 1.0]])\n",
    "e = tf.matmul(c, d)\n",
    "sess.run(e)"
   ]
  },
  {
   "cell_type": "code",
   "execution_count": null,
   "id": "46e0f26b",
   "metadata": {},
   "outputs": [],
   "source": []
  }
 ],
 "metadata": {
  "kernelspec": {
   "display_name": "Python 3",
   "language": "python",
   "name": "python3"
  },
  "language_info": {
   "codemirror_mode": {
    "name": "ipython",
    "version": 3
   },
   "file_extension": ".py",
   "mimetype": "text/x-python",
   "name": "python",
   "nbconvert_exporter": "python",
   "pygments_lexer": "ipython3",
   "version": "3.7.10"
  }
 },
 "nbformat": 4,
 "nbformat_minor": 5
}
