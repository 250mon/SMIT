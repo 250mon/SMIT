{
 "cells": [
  {
   "cell_type": "code",
   "execution_count": 88,
   "id": "923b306a",
   "metadata": {},
   "outputs": [
    {
     "data": {
      "text/plain": [
       "0    86\n",
       "1    84\n",
       "Name: Class, dtype: int64"
      ]
     },
     "execution_count": 88,
     "metadata": {},
     "output_type": "execute_result"
    }
   ],
   "source": [
    "import os\n",
    "import pandas as pd\n",
    "import numpy as np\n",
    "\n",
    "DATASET_PATH = os.path.join(\"dataset\", \"divorce\")\n",
    "csv_path = os.path.join(DATASET_PATH, \"divorce.csv\")\n",
    "divorce = pd.read_csv(csv_path, sep=\";\")\n",
    "divorce['Class'].value_counts()"
   ]
  },
  {
   "cell_type": "code",
   "execution_count": 85,
   "id": "4194e90d",
   "metadata": {},
   "outputs": [
    {
     "data": {
      "text/plain": [
       "({'Atr1': 'If one of us apologizes when our discussion deteriorates, the discussion ends',\n",
       "  'Atr2': 'I know we can ignore our differences, even if things get hard sometimes',\n",
       "  'Atr3': 'When we need it, we can take our discussions with my spouse from the beginning and correct it',\n",
       "  'Atr4': 'When I discuss with my spouse, to contact him will eventually work',\n",
       "  'Atr5': 'The time I spent with my wife is special for us',\n",
       "  'Atr6': \"We don't have time at home as partners\",\n",
       "  'Atr7': 'We are like two strangers who share the same environment at home rather than family',\n",
       "  'Atr8': 'I enjoy our holidays with my wife',\n",
       "  'Atr9': 'I enjoy traveling with my wife',\n",
       "  'Atr10': 'Most of our goals are common to my spouse',\n",
       "  'Atr11': 'I think that one day in the future, when I look back, I see that my spouse and I have been in harmony with each other',\n",
       "  'Atr12': 'My spouse and I have similar values in terms of personal freedom',\n",
       "  'Atr13': 'My spouse and I have similar sense of entertainment',\n",
       "  'Atr14': 'Most of our goals for people (children, friends, etc.) are the same',\n",
       "  'Atr15': 'Our dreams with my spouse are similar and harmonious',\n",
       "  'Atr16': \"We're compatible with my spouse about what love should be\",\n",
       "  'Atr17': 'We share the same views about being happy in our life with my spouse',\n",
       "  'Atr18': 'My spouse and I have similar ideas about how marriage should be',\n",
       "  'Atr19': 'My spouse and I have similar ideas about how roles should be in marriage',\n",
       "  'Atr20': 'My spouse and I have similar values in trust',\n",
       "  'Atr21': 'I know exactly what my wife likes',\n",
       "  'Atr22': 'I know how my spouse wants to be taken care of when she/he sick',\n",
       "  'Atr23': \"I know my spouse's favorite food\",\n",
       "  'Atr24': 'I can tell you what kind of stress my spouse is facing in her/his life',\n",
       "  'Atr25': \"I have knowledge of my spouse's inner world\",\n",
       "  'Atr26': \"I know my spouse's basic anxieties\",\n",
       "  'Atr27': \"I know what my spouse's current sources of stress are\",\n",
       "  'Atr28': \"I know my spouse's hopes and wishes\",\n",
       "  'Atr29': 'I know my spouse very well',\n",
       "  'Atr30': \"I know my spouse's friends and their social relationships\",\n",
       "  'Atr31': 'I feel aggressive when I argue with my spouse',\n",
       "  'Atr32': 'When discussing with my spouse, I usually use expressions such as ‘you always’ or ‘you never’ ',\n",
       "  'Atr33': \"I can use negative statements about my spouse's personality during our discussions\",\n",
       "  'Atr34': 'I can use offensive expressions during our discussions',\n",
       "  'Atr35': 'I can insult my spouse during our discussions',\n",
       "  'Atr36': 'I can be humiliating when we discussions',\n",
       "  'Atr37': 'My discussion with my spouse is not calm',\n",
       "  'Atr38': \"I hate my spouse's way of open a subject\",\n",
       "  'Atr39': 'Our discussions often occur suddenly',\n",
       "  'Atr40': \"We're just starting a discussion before I know what's going on\",\n",
       "  'Atr41': 'When I talk to my spouse about something, my calm suddenly breaks',\n",
       "  'Atr42': \"When I argue with my spouse, ı only go out and I don't say a word\",\n",
       "  'Atr43': 'I mostly stay silent to calm the environment a little bit',\n",
       "  'Atr44': \"Sometimes I think it's good for me to leave home for a while\",\n",
       "  'Atr45': \"I'd rather stay silent than discuss with my spouse\",\n",
       "  'Atr46': \"Even if I'm right in the discussion, I stay silent to hurt my spouse\",\n",
       "  'Atr47': 'When I discuss with my spouse, I stay silent because I am afraid of not being able to control my anger',\n",
       "  'Atr48': 'I feel right in our discussions',\n",
       "  'Atr49': \"I have nothing to do with what I've been accused of\",\n",
       "  'Atr50': \"I'm not actually the one who's guilty about what I'm accused of\",\n",
       "  'Atr51': \"I'm not the one who's wrong about problems at home\",\n",
       "  'Atr52': \"I wouldn't hesitate to tell my spouse about her/his inadequacy\",\n",
       "  'Atr53': 'When I discuss, I remind my spouse of her/his inadequacy',\n",
       "  'Atr54': \"I'm not afraid to tell my spouse about her/his incompetence\"},\n",
       " 54)"
      ]
     },
     "execution_count": 85,
     "metadata": {},
     "output_type": "execute_result"
    }
   ],
   "source": [
    "attribs_path = os.path.join(DATASET_PATH, \"divorce_attribs\")\n",
    "attribs_file = open(attribs_path)\n",
    "attribs_str = [attrib.rstrip('.\\n').split(maxsplit=1)[1] for attrib in attribs_file.readlines()]\n",
    "attribs_dic = {'Atr' + str(i+1): attrib for i, attrib in enumerate(attribs_str)}\n",
    "attribs_dic, len(attribs_dic)"
   ]
  },
  {
   "cell_type": "code",
   "execution_count": 46,
   "id": "27383637",
   "metadata": {},
   "outputs": [
    {
     "data": {
      "text/html": [
       "<div>\n",
       "<style scoped>\n",
       "    .dataframe tbody tr th:only-of-type {\n",
       "        vertical-align: middle;\n",
       "    }\n",
       "\n",
       "    .dataframe tbody tr th {\n",
       "        vertical-align: top;\n",
       "    }\n",
       "\n",
       "    .dataframe thead th {\n",
       "        text-align: right;\n",
       "    }\n",
       "</style>\n",
       "<table border=\"1\" class=\"dataframe\">\n",
       "  <thead>\n",
       "    <tr style=\"text-align: right;\">\n",
       "      <th></th>\n",
       "      <th>Atr1</th>\n",
       "      <th>Atr2</th>\n",
       "      <th>Atr3</th>\n",
       "      <th>Atr4</th>\n",
       "      <th>Atr5</th>\n",
       "      <th>Atr6</th>\n",
       "      <th>Atr7</th>\n",
       "      <th>Atr8</th>\n",
       "      <th>Atr9</th>\n",
       "      <th>Atr10</th>\n",
       "      <th>...</th>\n",
       "      <th>Atr46</th>\n",
       "      <th>Atr47</th>\n",
       "      <th>Atr48</th>\n",
       "      <th>Atr49</th>\n",
       "      <th>Atr50</th>\n",
       "      <th>Atr51</th>\n",
       "      <th>Atr52</th>\n",
       "      <th>Atr53</th>\n",
       "      <th>Atr54</th>\n",
       "      <th>Class</th>\n",
       "    </tr>\n",
       "  </thead>\n",
       "  <tbody>\n",
       "    <tr>\n",
       "      <th>count</th>\n",
       "      <td>170.000000</td>\n",
       "      <td>170.000000</td>\n",
       "      <td>170.000000</td>\n",
       "      <td>170.000000</td>\n",
       "      <td>170.000000</td>\n",
       "      <td>170.000000</td>\n",
       "      <td>170.000000</td>\n",
       "      <td>170.000000</td>\n",
       "      <td>170.000000</td>\n",
       "      <td>170.000000</td>\n",
       "      <td>...</td>\n",
       "      <td>170.000000</td>\n",
       "      <td>170.000000</td>\n",
       "      <td>170.000000</td>\n",
       "      <td>170.000000</td>\n",
       "      <td>170.000000</td>\n",
       "      <td>170.000000</td>\n",
       "      <td>170.000000</td>\n",
       "      <td>170.000000</td>\n",
       "      <td>170.000000</td>\n",
       "      <td>170.000000</td>\n",
       "    </tr>\n",
       "    <tr>\n",
       "      <th>mean</th>\n",
       "      <td>1.776471</td>\n",
       "      <td>1.652941</td>\n",
       "      <td>1.764706</td>\n",
       "      <td>1.482353</td>\n",
       "      <td>1.541176</td>\n",
       "      <td>0.747059</td>\n",
       "      <td>0.494118</td>\n",
       "      <td>1.452941</td>\n",
       "      <td>1.458824</td>\n",
       "      <td>1.576471</td>\n",
       "      <td>...</td>\n",
       "      <td>2.552941</td>\n",
       "      <td>2.270588</td>\n",
       "      <td>2.741176</td>\n",
       "      <td>2.382353</td>\n",
       "      <td>2.429412</td>\n",
       "      <td>2.476471</td>\n",
       "      <td>2.517647</td>\n",
       "      <td>2.241176</td>\n",
       "      <td>2.011765</td>\n",
       "      <td>0.494118</td>\n",
       "    </tr>\n",
       "    <tr>\n",
       "      <th>std</th>\n",
       "      <td>1.627257</td>\n",
       "      <td>1.468654</td>\n",
       "      <td>1.415444</td>\n",
       "      <td>1.504327</td>\n",
       "      <td>1.632169</td>\n",
       "      <td>0.904046</td>\n",
       "      <td>0.898698</td>\n",
       "      <td>1.546371</td>\n",
       "      <td>1.557976</td>\n",
       "      <td>1.421529</td>\n",
       "      <td>...</td>\n",
       "      <td>1.371786</td>\n",
       "      <td>1.586841</td>\n",
       "      <td>1.137348</td>\n",
       "      <td>1.511587</td>\n",
       "      <td>1.405090</td>\n",
       "      <td>1.260238</td>\n",
       "      <td>1.476537</td>\n",
       "      <td>1.505634</td>\n",
       "      <td>1.667611</td>\n",
       "      <td>0.501442</td>\n",
       "    </tr>\n",
       "    <tr>\n",
       "      <th>min</th>\n",
       "      <td>0.000000</td>\n",
       "      <td>0.000000</td>\n",
       "      <td>0.000000</td>\n",
       "      <td>0.000000</td>\n",
       "      <td>0.000000</td>\n",
       "      <td>0.000000</td>\n",
       "      <td>0.000000</td>\n",
       "      <td>0.000000</td>\n",
       "      <td>0.000000</td>\n",
       "      <td>0.000000</td>\n",
       "      <td>...</td>\n",
       "      <td>0.000000</td>\n",
       "      <td>0.000000</td>\n",
       "      <td>0.000000</td>\n",
       "      <td>0.000000</td>\n",
       "      <td>0.000000</td>\n",
       "      <td>0.000000</td>\n",
       "      <td>0.000000</td>\n",
       "      <td>0.000000</td>\n",
       "      <td>0.000000</td>\n",
       "      <td>0.000000</td>\n",
       "    </tr>\n",
       "    <tr>\n",
       "      <th>25%</th>\n",
       "      <td>0.000000</td>\n",
       "      <td>0.000000</td>\n",
       "      <td>0.000000</td>\n",
       "      <td>0.000000</td>\n",
       "      <td>0.000000</td>\n",
       "      <td>0.000000</td>\n",
       "      <td>0.000000</td>\n",
       "      <td>0.000000</td>\n",
       "      <td>0.000000</td>\n",
       "      <td>0.000000</td>\n",
       "      <td>...</td>\n",
       "      <td>2.000000</td>\n",
       "      <td>1.000000</td>\n",
       "      <td>2.000000</td>\n",
       "      <td>1.000000</td>\n",
       "      <td>1.000000</td>\n",
       "      <td>2.000000</td>\n",
       "      <td>1.000000</td>\n",
       "      <td>1.000000</td>\n",
       "      <td>0.000000</td>\n",
       "      <td>0.000000</td>\n",
       "    </tr>\n",
       "    <tr>\n",
       "      <th>50%</th>\n",
       "      <td>2.000000</td>\n",
       "      <td>2.000000</td>\n",
       "      <td>2.000000</td>\n",
       "      <td>1.000000</td>\n",
       "      <td>1.000000</td>\n",
       "      <td>0.000000</td>\n",
       "      <td>0.000000</td>\n",
       "      <td>1.000000</td>\n",
       "      <td>1.000000</td>\n",
       "      <td>2.000000</td>\n",
       "      <td>...</td>\n",
       "      <td>3.000000</td>\n",
       "      <td>2.000000</td>\n",
       "      <td>3.000000</td>\n",
       "      <td>3.000000</td>\n",
       "      <td>2.000000</td>\n",
       "      <td>3.000000</td>\n",
       "      <td>3.000000</td>\n",
       "      <td>2.000000</td>\n",
       "      <td>2.000000</td>\n",
       "      <td>0.000000</td>\n",
       "    </tr>\n",
       "    <tr>\n",
       "      <th>75%</th>\n",
       "      <td>3.000000</td>\n",
       "      <td>3.000000</td>\n",
       "      <td>3.000000</td>\n",
       "      <td>3.000000</td>\n",
       "      <td>3.000000</td>\n",
       "      <td>1.000000</td>\n",
       "      <td>1.000000</td>\n",
       "      <td>3.000000</td>\n",
       "      <td>3.000000</td>\n",
       "      <td>3.000000</td>\n",
       "      <td>...</td>\n",
       "      <td>4.000000</td>\n",
       "      <td>4.000000</td>\n",
       "      <td>4.000000</td>\n",
       "      <td>4.000000</td>\n",
       "      <td>4.000000</td>\n",
       "      <td>4.000000</td>\n",
       "      <td>4.000000</td>\n",
       "      <td>4.000000</td>\n",
       "      <td>4.000000</td>\n",
       "      <td>1.000000</td>\n",
       "    </tr>\n",
       "    <tr>\n",
       "      <th>max</th>\n",
       "      <td>4.000000</td>\n",
       "      <td>4.000000</td>\n",
       "      <td>4.000000</td>\n",
       "      <td>4.000000</td>\n",
       "      <td>4.000000</td>\n",
       "      <td>4.000000</td>\n",
       "      <td>4.000000</td>\n",
       "      <td>4.000000</td>\n",
       "      <td>4.000000</td>\n",
       "      <td>4.000000</td>\n",
       "      <td>...</td>\n",
       "      <td>4.000000</td>\n",
       "      <td>4.000000</td>\n",
       "      <td>4.000000</td>\n",
       "      <td>4.000000</td>\n",
       "      <td>4.000000</td>\n",
       "      <td>4.000000</td>\n",
       "      <td>4.000000</td>\n",
       "      <td>4.000000</td>\n",
       "      <td>4.000000</td>\n",
       "      <td>1.000000</td>\n",
       "    </tr>\n",
       "  </tbody>\n",
       "</table>\n",
       "<p>8 rows × 55 columns</p>\n",
       "</div>"
      ],
      "text/plain": [
       "             Atr1        Atr2        Atr3        Atr4        Atr5        Atr6  \\\n",
       "count  170.000000  170.000000  170.000000  170.000000  170.000000  170.000000   \n",
       "mean     1.776471    1.652941    1.764706    1.482353    1.541176    0.747059   \n",
       "std      1.627257    1.468654    1.415444    1.504327    1.632169    0.904046   \n",
       "min      0.000000    0.000000    0.000000    0.000000    0.000000    0.000000   \n",
       "25%      0.000000    0.000000    0.000000    0.000000    0.000000    0.000000   \n",
       "50%      2.000000    2.000000    2.000000    1.000000    1.000000    0.000000   \n",
       "75%      3.000000    3.000000    3.000000    3.000000    3.000000    1.000000   \n",
       "max      4.000000    4.000000    4.000000    4.000000    4.000000    4.000000   \n",
       "\n",
       "             Atr7        Atr8        Atr9       Atr10  ...       Atr46  \\\n",
       "count  170.000000  170.000000  170.000000  170.000000  ...  170.000000   \n",
       "mean     0.494118    1.452941    1.458824    1.576471  ...    2.552941   \n",
       "std      0.898698    1.546371    1.557976    1.421529  ...    1.371786   \n",
       "min      0.000000    0.000000    0.000000    0.000000  ...    0.000000   \n",
       "25%      0.000000    0.000000    0.000000    0.000000  ...    2.000000   \n",
       "50%      0.000000    1.000000    1.000000    2.000000  ...    3.000000   \n",
       "75%      1.000000    3.000000    3.000000    3.000000  ...    4.000000   \n",
       "max      4.000000    4.000000    4.000000    4.000000  ...    4.000000   \n",
       "\n",
       "            Atr47       Atr48       Atr49       Atr50       Atr51       Atr52  \\\n",
       "count  170.000000  170.000000  170.000000  170.000000  170.000000  170.000000   \n",
       "mean     2.270588    2.741176    2.382353    2.429412    2.476471    2.517647   \n",
       "std      1.586841    1.137348    1.511587    1.405090    1.260238    1.476537   \n",
       "min      0.000000    0.000000    0.000000    0.000000    0.000000    0.000000   \n",
       "25%      1.000000    2.000000    1.000000    1.000000    2.000000    1.000000   \n",
       "50%      2.000000    3.000000    3.000000    2.000000    3.000000    3.000000   \n",
       "75%      4.000000    4.000000    4.000000    4.000000    4.000000    4.000000   \n",
       "max      4.000000    4.000000    4.000000    4.000000    4.000000    4.000000   \n",
       "\n",
       "            Atr53       Atr54       Class  \n",
       "count  170.000000  170.000000  170.000000  \n",
       "mean     2.241176    2.011765    0.494118  \n",
       "std      1.505634    1.667611    0.501442  \n",
       "min      0.000000    0.000000    0.000000  \n",
       "25%      1.000000    0.000000    0.000000  \n",
       "50%      2.000000    2.000000    0.000000  \n",
       "75%      4.000000    4.000000    1.000000  \n",
       "max      4.000000    4.000000    1.000000  \n",
       "\n",
       "[8 rows x 55 columns]"
      ]
     },
     "execution_count": 46,
     "metadata": {},
     "output_type": "execute_result"
    }
   ],
   "source": [
    "divorce.describe()"
   ]
  },
  {
   "cell_type": "code",
   "execution_count": 47,
   "id": "8681663e",
   "metadata": {},
   "outputs": [
    {
     "data": {
      "text/plain": [
       "array([[<AxesSubplot:title={'center':'Atr1'}>,\n",
       "        <AxesSubplot:title={'center':'Atr2'}>,\n",
       "        <AxesSubplot:title={'center':'Atr3'}>,\n",
       "        <AxesSubplot:title={'center':'Atr4'}>,\n",
       "        <AxesSubplot:title={'center':'Atr5'}>,\n",
       "        <AxesSubplot:title={'center':'Atr6'}>,\n",
       "        <AxesSubplot:title={'center':'Atr7'}>],\n",
       "       [<AxesSubplot:title={'center':'Atr8'}>,\n",
       "        <AxesSubplot:title={'center':'Atr9'}>,\n",
       "        <AxesSubplot:title={'center':'Atr10'}>,\n",
       "        <AxesSubplot:title={'center':'Atr11'}>,\n",
       "        <AxesSubplot:title={'center':'Atr12'}>,\n",
       "        <AxesSubplot:title={'center':'Atr13'}>,\n",
       "        <AxesSubplot:title={'center':'Atr14'}>],\n",
       "       [<AxesSubplot:title={'center':'Atr15'}>,\n",
       "        <AxesSubplot:title={'center':'Atr16'}>,\n",
       "        <AxesSubplot:title={'center':'Atr17'}>,\n",
       "        <AxesSubplot:title={'center':'Atr18'}>,\n",
       "        <AxesSubplot:title={'center':'Atr19'}>,\n",
       "        <AxesSubplot:title={'center':'Atr20'}>,\n",
       "        <AxesSubplot:title={'center':'Atr21'}>],\n",
       "       [<AxesSubplot:title={'center':'Atr22'}>,\n",
       "        <AxesSubplot:title={'center':'Atr23'}>,\n",
       "        <AxesSubplot:title={'center':'Atr24'}>,\n",
       "        <AxesSubplot:title={'center':'Atr25'}>,\n",
       "        <AxesSubplot:title={'center':'Atr26'}>,\n",
       "        <AxesSubplot:title={'center':'Atr27'}>,\n",
       "        <AxesSubplot:title={'center':'Atr28'}>],\n",
       "       [<AxesSubplot:title={'center':'Atr29'}>,\n",
       "        <AxesSubplot:title={'center':'Atr30'}>,\n",
       "        <AxesSubplot:title={'center':'Atr31'}>,\n",
       "        <AxesSubplot:title={'center':'Atr32'}>,\n",
       "        <AxesSubplot:title={'center':'Atr33'}>,\n",
       "        <AxesSubplot:title={'center':'Atr34'}>,\n",
       "        <AxesSubplot:title={'center':'Atr35'}>],\n",
       "       [<AxesSubplot:title={'center':'Atr36'}>,\n",
       "        <AxesSubplot:title={'center':'Atr37'}>,\n",
       "        <AxesSubplot:title={'center':'Atr38'}>,\n",
       "        <AxesSubplot:title={'center':'Atr39'}>,\n",
       "        <AxesSubplot:title={'center':'Atr40'}>,\n",
       "        <AxesSubplot:title={'center':'Atr41'}>,\n",
       "        <AxesSubplot:title={'center':'Atr42'}>],\n",
       "       [<AxesSubplot:title={'center':'Atr43'}>,\n",
       "        <AxesSubplot:title={'center':'Atr44'}>,\n",
       "        <AxesSubplot:title={'center':'Atr45'}>,\n",
       "        <AxesSubplot:title={'center':'Atr46'}>,\n",
       "        <AxesSubplot:title={'center':'Atr47'}>,\n",
       "        <AxesSubplot:title={'center':'Atr48'}>,\n",
       "        <AxesSubplot:title={'center':'Atr49'}>],\n",
       "       [<AxesSubplot:title={'center':'Atr50'}>,\n",
       "        <AxesSubplot:title={'center':'Atr51'}>,\n",
       "        <AxesSubplot:title={'center':'Atr52'}>,\n",
       "        <AxesSubplot:title={'center':'Atr53'}>,\n",
       "        <AxesSubplot:title={'center':'Atr54'}>,\n",
       "        <AxesSubplot:title={'center':'Class'}>, <AxesSubplot:>]],\n",
       "      dtype=object)"
      ]
     },
     "execution_count": 47,
     "metadata": {},
     "output_type": "execute_result"
    },
    {
     "data": {
      "image/png": "[encoded data removed]",
      "text/plain": [
       "<Figure size 1080x864 with 56 Axes>"
      ]
     },
     "metadata": {
      "needs_background": "light"
     },
     "output_type": "display_data"
    }
   ],
   "source": [
    "%matplotlib inline\n",
    "import matplotlib.pyplot as plt\n",
    "\n",
    "divorce.hist(figsize=(15,12))"
   ]
  },
  {
   "cell_type": "code",
   "execution_count": 48,
   "id": "9809d9e9",
   "metadata": {},
   "outputs": [],
   "source": [
    "from sklearn.model_selection import train_test_split\n",
    "\n",
    "train_set, test_set = train_test_split(divorce, test_size=0.3, random_state=42)"
   ]
  },
  {
   "cell_type": "code",
   "execution_count": 105,
   "id": "25b92bc5",
   "metadata": {},
   "outputs": [
    {
     "name": "stdout",
     "output_type": "stream",
     "text": [
      "We're just starting a discussion before I know what's going on\n",
      "I hate my spouse's way of open a subject\n",
      "My spouse and I have similar ideas about how roles should be in marriage\n",
      "We share the same views about being happy in our life with my spouse\n",
      "My spouse and I have similar ideas about how marriage should be\n",
      "I enjoy traveling with my wife\n",
      "My spouse and I have similar values in trust\n",
      "Our dreams with my spouse are similar and harmonious\n",
      "I can be humiliating when we discussions\n",
      "I think that one day in the future, when I look back, I see that my spouse and I have been in harmony with each other\n"
     ]
    }
   ],
   "source": [
    "corr_matrix = train_set.corr()\n",
    "corr_div = corr_matrix[\"Class\"]# .sort_values(ascending=False)\n",
    "corr_div_str = sorted(zip(corr_div, attribs_str), reverse=True)[:10]\n",
    "df_corr = pd.DataFrame(corr_div_str, columns=[\"Correlation\", \"Attributes\"])\n",
    "corr = df_corr[\"Attributes\"]\n",
    "for x in corr:\n",
    "    print(f'{x}')"
   ]
  },
  {
   "cell_type": "code",
   "execution_count": 50,
   "id": "47e9fa95",
   "metadata": {},
   "outputs": [],
   "source": [
    "divorce_train_X = train_set.drop(\"Class\", axis=1)\n",
    "divorce_train_y = train_set[\"Class\"].copy()"
   ]
  },
  {
   "cell_type": "markdown",
   "id": "7edfc247",
   "metadata": {},
   "source": [
    "# Gaussian Naive Bayes"
   ]
  },
  {
   "cell_type": "markdown",
   "id": "aa0fc8fe",
   "metadata": {},
   "source": [
    "## Train"
   ]
  },
  {
   "cell_type": "code",
   "execution_count": 60,
   "id": "76b7bc1a",
   "metadata": {},
   "outputs": [
    {
     "data": {
      "text/plain": [
       "GaussianNB()"
      ]
     },
     "execution_count": 60,
     "metadata": {},
     "output_type": "execute_result"
    }
   ],
   "source": [
    "from sklearn.naive_bayes import GaussianNB\n",
    "\n",
    "nb = GaussianNB()\n",
    "nb.fit(divorce_train_X, divorce_train_y)"
   ]
  },
  {
   "cell_type": "code",
   "execution_count": 61,
   "id": "b358a457",
   "metadata": {},
   "outputs": [
    {
     "data": {
      "text/plain": [
       "0.9747899159663865"
      ]
     },
     "execution_count": 61,
     "metadata": {},
     "output_type": "execute_result"
    }
   ],
   "source": [
    "nb.score(divorce_train_X, divorce_train_y)"
   ]
  },
  {
   "cell_type": "code",
   "execution_count": 62,
   "id": "dd42fafe",
   "metadata": {},
   "outputs": [],
   "source": [
    "from sklearn.model_selection import cross_val_score\n",
    "\n",
    "scores = cross_val_score(nb, divorce_train_X, divorce_train_y, scoring='neg_mean_squared_error', cv=3)\n",
    "nb_rmse_scores = np.sqrt(-scores)"
   ]
  },
  {
   "cell_type": "code",
   "execution_count": 63,
   "id": "b75f696a",
   "metadata": {},
   "outputs": [
    {
     "name": "stdout",
     "output_type": "stream",
     "text": [
      "Scores [0.31622777 0.15811388 0.        ]\n",
      "Mean 0.15811388300841897\n",
      "Standard deviation 0.12909944487358055\n"
     ]
    }
   ],
   "source": [
    "def display_scores(scores):\n",
    "    print(\"Scores\", scores)\n",
    "    print(\"Mean\", scores.mean())\n",
    "    print(\"Standard deviation\", scores.std())\n",
    "\n",
    "display_scores(nb_rmse_scores)"
   ]
  },
  {
   "cell_type": "markdown",
   "id": "b93f273b",
   "metadata": {},
   "source": [
    "## Evaluation"
   ]
  },
  {
   "cell_type": "code",
   "execution_count": 64,
   "id": "edcb2521",
   "metadata": {},
   "outputs": [],
   "source": [
    "X_test = test_set.drop(\"Class\", axis=1)\n",
    "y_test = test_set[\"Class\"].copy()"
   ]
  },
  {
   "cell_type": "code",
   "execution_count": 65,
   "id": "5b170a3c",
   "metadata": {},
   "outputs": [],
   "source": [
    "predictions = nb.predict(X_test)"
   ]
  },
  {
   "cell_type": "code",
   "execution_count": 67,
   "id": "ef8f3035",
   "metadata": {},
   "outputs": [
    {
     "name": "stdout",
     "output_type": "stream",
     "text": [
      "              precision    recall  f1-score   support\n",
      "\n",
      "           0       1.00      0.96      0.98        25\n",
      "           1       0.96      1.00      0.98        26\n",
      "\n",
      "    accuracy                           0.98        51\n",
      "   macro avg       0.98      0.98      0.98        51\n",
      "weighted avg       0.98      0.98      0.98        51\n",
      "\n"
     ]
    }
   ],
   "source": [
    "from sklearn.metrics import classification_report, confusion_matrix\n",
    "print(classification_report(y_test, predictions))"
   ]
  },
  {
   "cell_type": "code",
   "execution_count": 69,
   "id": "a2f6ba74",
   "metadata": {},
   "outputs": [
    {
     "name": "stdout",
     "output_type": "stream",
     "text": [
      "[[24  1]\n",
      " [ 0 26]]\n"
     ]
    }
   ],
   "source": [
    "print(confusion_matrix(y_test,predictions))"
   ]
  },
  {
   "cell_type": "markdown",
   "id": "1937a690",
   "metadata": {},
   "source": [
    "# RandomForest"
   ]
  },
  {
   "cell_type": "markdown",
   "id": "80ca470a",
   "metadata": {},
   "source": [
    "## Train"
   ]
  },
  {
   "cell_type": "code",
   "execution_count": 72,
   "id": "8156a45d",
   "metadata": {},
   "outputs": [
    {
     "data": {
      "text/plain": [
       "RandomForestClassifier(random_state=42)"
      ]
     },
     "execution_count": 72,
     "metadata": {},
     "output_type": "execute_result"
    }
   ],
   "source": [
    "from sklearn.ensemble import RandomForestClassifier\n",
    "\n",
    "rf = RandomForestClassifier(random_state=42)\n",
    "rf.fit(divorce_train_X, divorce_train_y)"
   ]
  },
  {
   "cell_type": "code",
   "execution_count": 73,
   "id": "90de0344",
   "metadata": {},
   "outputs": [
    {
     "data": {
      "text/plain": [
       "1.0"
      ]
     },
     "execution_count": 73,
     "metadata": {},
     "output_type": "execute_result"
    }
   ],
   "source": [
    "rf.score(divorce_train_X, divorce_train_y)"
   ]
  },
  {
   "cell_type": "code",
   "execution_count": 75,
   "id": "e92ae5c7",
   "metadata": {},
   "outputs": [
    {
     "name": "stdout",
     "output_type": "stream",
     "text": [
      "Scores [0.2236068  0.15811388 0.        ]\n",
      "Mean 0.127240226919466\n",
      "Standard deviation 0.09386119887090089\n"
     ]
    }
   ],
   "source": [
    "scores = cross_val_score(rf, divorce_train_X, divorce_train_y, scoring='neg_mean_squared_error', cv=3)\n",
    "rf_rmse_scores = np.sqrt(-scores)\n",
    "display_scores(rf_rmse_scores)"
   ]
  },
  {
   "cell_type": "markdown",
   "id": "39371213",
   "metadata": {},
   "source": [
    "## Evaluation"
   ]
  },
  {
   "cell_type": "code",
   "execution_count": 76,
   "id": "c2a61763",
   "metadata": {},
   "outputs": [],
   "source": [
    "predictions = rf.predict(X_test)"
   ]
  },
  {
   "cell_type": "code",
   "execution_count": 77,
   "id": "c30f26f3",
   "metadata": {},
   "outputs": [
    {
     "name": "stdout",
     "output_type": "stream",
     "text": [
      "              precision    recall  f1-score   support\n",
      "\n",
      "           0       0.96      1.00      0.98        25\n",
      "           1       1.00      0.96      0.98        26\n",
      "\n",
      "    accuracy                           0.98        51\n",
      "   macro avg       0.98      0.98      0.98        51\n",
      "weighted avg       0.98      0.98      0.98        51\n",
      "\n"
     ]
    }
   ],
   "source": [
    "print(classification_report(y_test, predictions))"
   ]
  },
  {
   "cell_type": "code",
   "execution_count": 78,
   "id": "ed036108",
   "metadata": {},
   "outputs": [
    {
     "name": "stdout",
     "output_type": "stream",
     "text": [
      "[[25  0]\n",
      " [ 1 25]]\n"
     ]
    }
   ],
   "source": [
    "print(confusion_matrix(y_test,predictions))"
   ]
  },
  {
   "cell_type": "code",
   "execution_count": 109,
   "id": "d090e116",
   "metadata": {},
   "outputs": [
    {
     "name": "stdout",
     "output_type": "stream",
     "text": [
      "0.1066\n",
      "0.1065\n",
      "0.0889\n",
      "0.0819\n",
      "0.0769\n",
      "0.0664\n",
      "0.0626\n",
      "0.0551\n",
      "0.0512\n",
      "0.0372\n"
     ]
    }
   ],
   "source": [
    "feature_importances_ = rf.feature_importances_\n",
    "fi = sorted(zip(feature_importances_, attribs_str), reverse=True)[:10]\n",
    "df_fi = pd.DataFrame(fi, columns=[\"Importances\", \"Attributes\"])\n",
    "fis = df_fi[\"Importances\"]\n",
    "for x in fis:\n",
    "    print(f'{x:.4f}')"
   ]
  },
  {
   "cell_type": "code",
   "execution_count": null,
   "id": "6026879e",
   "metadata": {},
   "outputs": [],
   "source": []
  }
 ],
 "metadata": {
  "kernelspec": {
   "display_name": "Python 3",
   "language": "python",
   "name": "python3"
  },
  "language_info": {
   "codemirror_mode": {
    "name": "ipython",
    "version": 3
   },
   "file_extension": ".py",
   "mimetype": "text/x-python",
   "name": "python",
   "nbconvert_exporter": "python",
   "pygments_lexer": "ipython3",
   "version": "3.8.8"
  }
 },
 "nbformat": 4,
 "nbformat_minor": 5
}
