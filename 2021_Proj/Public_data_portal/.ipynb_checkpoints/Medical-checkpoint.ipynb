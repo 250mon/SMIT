{
 "cells": [
  {
   "cell_type": "markdown",
   "id": "9d0b213d",
   "metadata": {},
   "source": [
    "## Test\n",
    "\n",
    "* `urllib.Request` module does not work for the portal (maybe, because it doesn't send a keep-alive HTTP request)\n",
    "* `requests` works very well"
   ]
  },
  {
   "cell_type": "code",
   "execution_count": 1,
   "id": "7ff05139",
   "metadata": {},
   "outputs": [],
   "source": [
    "from urllib import parse\n",
    "from urllib.parse import urlencode, quote_plus\n",
    "import requests as rq"
   ]
  },
  {
   "cell_type": "code",
   "execution_count": 8,
   "id": "07ef51ce",
   "metadata": {},
   "outputs": [],
   "source": [
    "test_key = \"LIOA3wf7FAl9dxmpqo68JF8FXDcx2SA7Lwscv98sJiqAJGmXPhrea%2Bm9Pe4fPX1LsJclvAH5T9UWap9sLWSycA%3D%3D\"\n",
    "url = 'http://openapi.kepco.co.kr/service/EvInfoServiceV2/getEvSearchList'\n",
    "test_query = f'?{parse.quote_plus(\"ServiceKey\")}={test_key}&' + urlencode({    \n",
    "    quote_plus('pageNo') : '1', \n",
    "    quote_plus('numOfRows') : '10'\n",
    "    })"
   ]
  },
  {
   "cell_type": "code",
   "execution_count": 9,
   "id": "fc00bed7",
   "metadata": {},
   "outputs": [
    {
     "data": {
      "text/plain": [
       "'?ServiceKey=LIOA3wf7FAl9dxmpqo68JF8FXDcx2SA7Lwscv98sJiqAJGmXPhrea%2Bm9Pe4fPX1LsJclvAH5T9UWap9sLWSycA%3D%3D&pageNo=1&numOfRows=10'"
      ]
     },
     "execution_count": 9,
     "metadata": {},
     "output_type": "execute_result"
    }
   ],
   "source": [
    "test_query"
   ]
  },
  {
   "cell_type": "code",
   "execution_count": 29,
   "id": "152f84d0",
   "metadata": {},
   "outputs": [
    {
     "name": "stdout",
     "output_type": "stream",
     "text": [
      "<Response [200]>\n"
     ]
    }
   ],
   "source": [
    "test_response = rq.get(url + test_query)\n",
    "print(test_response)"
   ]
  },
  {
   "cell_type": "markdown",
   "id": "26584066",
   "metadata": {},
   "source": [
    "# 건강보험심사평가원_의료영상진료정보조회서비스"
   ]
  },
  {
   "cell_type": "markdown",
   "id": "6c7a1c6c",
   "metadata": {},
   "source": [
    "## test1"
   ]
  },
  {
   "cell_type": "code",
   "execution_count": 1,
   "id": "afe40608",
   "metadata": {},
   "outputs": [],
   "source": [
    "from urllib import parse\n",
    "from urllib.parse import urlencode, quote_plus\n",
    "import requests as rq"
   ]
  },
  {
   "cell_type": "code",
   "execution_count": 2,
   "id": "f2cb1de9",
   "metadata": {},
   "outputs": [
    {
     "data": {
      "text/plain": [
       "<Response [200]>"
      ]
     },
     "execution_count": 2,
     "metadata": {},
     "output_type": "execute_result"
    }
   ],
   "source": [
    "url_query = \"http://apis.data.go.kr/B551182/medImgInfoService/getMedImgList?serviceKey=TYhFRHWADtyZmeVywB8xkrwllZs5aBvUFz1ovQbu1qByMvt1GaZagON8KcM7cSemwxtR2KFRz2rZ92Q%2FvPqOfA%3D%3D&pageNo=1&numOfRows=10&DIAG_FLD_NAME=%EB%82%B4%EA%B3%BC%EB%B6%84%EC%95%BC\"\n",
    "res = rq.get(url_query)\n",
    "res"
   ]
  },
  {
   "cell_type": "markdown",
   "id": "3a5b9fb9",
   "metadata": {},
   "source": [
    "## test2"
   ]
  },
  {
   "cell_type": "code",
   "execution_count": 57,
   "id": "92eea8c8",
   "metadata": {},
   "outputs": [],
   "source": [
    "API_KEY = 'TYhFRHWADtyZmeVywB8xkrwllZs5aBvUFz1ovQbu1qByMvt1GaZagON8KcM7cSemwxtR2KFRz2rZ92Q%2FvPqOfA%3D%3D'\n",
    "url = 'http://apis.data.go.kr/B551182/medImgInfoService/getMedImgList'"
   ]
  },
  {
   "cell_type": "code",
   "execution_count": 58,
   "id": "2559c0cb",
   "metadata": {},
   "outputs": [],
   "source": [
    "test_query = f'?{quote_plus(\"ServiceKey\")}={API_KEY}&' + urlencode({\n",
    "    quote_plus('pageNo'): '1', \n",
    "    quote_plus('numOfRows'): '10', \n",
    "    quote_plus('DIAG_FLD_NAME'): '내과분야', \n",
    "    })"
   ]
  },
  {
   "cell_type": "code",
   "execution_count": 59,
   "id": "cba5c2e2",
   "metadata": {},
   "outputs": [
    {
     "name": "stdout",
     "output_type": "stream",
     "text": [
      "<Response [200]>\n"
     ]
    }
   ],
   "source": [
    "test_rsp = rq.get(url + test_query)\n",
    "print(test_rsp)"
   ]
  },
  {
   "cell_type": "markdown",
   "id": "db438386",
   "metadata": {},
   "source": [
    "### Request function"
   ]
  },
  {
   "cell_type": "code",
   "execution_count": 3,
   "id": "739b998f",
   "metadata": {},
   "outputs": [],
   "source": [
    "API_KEY = 'TYhFRHWADtyZmeVywB8xkrwllZs5aBvUFz1ovQbu1qByMvt1GaZagON8KcM7cSemwxtR2KFRz2rZ92Q%2FvPqOfA%3D%3D'\n",
    "\n",
    "def get_data_from_portal(url, params, bjason=False):    \n",
    "    svc_key = f'?{quote_plus(\"ServiceKey\")}={API_KEY}&'\n",
    "    \n",
    "    parsed_params = {}\n",
    "    for p_key, p_value in params.items():\n",
    "        parsed_params[quote_plus(p_key)] = p_value\n",
    "    if bjason == True:\n",
    "        parsed_params[quote_plus('_type')] = 'json'\n",
    "    \n",
    "    encoded_params = svc_key + urlencode(parsed_params)    \n",
    "    response = rq.get(url + encoded_params)\n",
    "    return response"
   ]
  },
  {
   "cell_type": "code",
   "execution_count": 4,
   "id": "59939ea1",
   "metadata": {},
   "outputs": [
    {
     "data": {
      "text/plain": [
       "<Response [200]>"
      ]
     },
     "execution_count": 4,
     "metadata": {},
     "output_type": "execute_result"
    }
   ],
   "source": [
    "url = 'http://apis.data.go.kr/B551182/medImgInfoService/getMedImgList'\n",
    "params = {\n",
    "    'pageNo': '1', \n",
    "    'numOfRows': '100', \n",
    "    'DIAG_FLD_NAME': '내과분야',\n",
    "}\n",
    "response = get_data_from_portal(url, params)\n",
    "response"
   ]
  },
  {
   "cell_type": "code",
   "execution_count": 5,
   "id": "91ed6494",
   "metadata": {},
   "outputs": [
    {
     "data": {
      "text/plain": [
       "'response'"
      ]
     },
     "execution_count": 5,
     "metadata": {},
     "output_type": "execute_result"
    }
   ],
   "source": [
    "import xml.etree.ElementTree as ET \n",
    "\n",
    "root = ET.fromstring(response.text)\n",
    "root.tag"
   ]
  },
  {
   "cell_type": "code",
   "execution_count": 6,
   "id": "43ba47e6",
   "metadata": {},
   "outputs": [
    {
     "data": {
      "text/html": [
       "<div>\n",
       "<style scoped>\n",
       "    .dataframe tbody tr th:only-of-type {\n",
       "        vertical-align: middle;\n",
       "    }\n",
       "\n",
       "    .dataframe tbody tr th {\n",
       "        vertical-align: top;\n",
       "    }\n",
       "\n",
       "    .dataframe thead th {\n",
       "        text-align: right;\n",
       "    }\n",
       "</style>\n",
       "<table border=\"1\" class=\"dataframe\">\n",
       "  <thead>\n",
       "    <tr style=\"text-align: right;\">\n",
       "      <th></th>\n",
       "      <th>bodypart</th>\n",
       "      <th>diagFldName</th>\n",
       "      <th>diagTpName</th>\n",
       "      <th>exmImgNo</th>\n",
       "      <th>modality</th>\n",
       "      <th>patientAge</th>\n",
       "      <th>patientSex</th>\n",
       "      <th>studyDesc</th>\n",
       "    </tr>\n",
       "  </thead>\n",
       "  <tbody>\n",
       "    <tr>\n",
       "      <th>0</th>\n",
       "      <td>SHOULDER</td>\n",
       "      <td>일반분야                                          ...</td>\n",
       "      <td>의과                                            ...</td>\n",
       "      <td>2746234</td>\n",
       "      <td>DR</td>\n",
       "      <td>056Y</td>\n",
       "      <td>F</td>\n",
       "      <td>RT Shoulder AP/Lat/Y-view</td>\n",
       "    </tr>\n",
       "    <tr>\n",
       "      <th>1</th>\n",
       "      <td>T-L SPINE</td>\n",
       "      <td>일반분야                                          ...</td>\n",
       "      <td>의과                                            ...</td>\n",
       "      <td>2745864</td>\n",
       "      <td>CR</td>\n",
       "      <td>080Y</td>\n",
       "      <td>F</td>\n",
       "      <td>T-L SPINE AP/LAT2매(계)</td>\n",
       "    </tr>\n",
       "    <tr>\n",
       "      <th>2</th>\n",
       "      <td>KNEE</td>\n",
       "      <td>일반분야                                          ...</td>\n",
       "      <td>의과                                            ...</td>\n",
       "      <td>2746259</td>\n",
       "      <td>CR</td>\n",
       "      <td>076Y</td>\n",
       "      <td>F</td>\n",
       "      <td>(Both) Knee (STD)AP&amp;FLEX-PA&amp;LAT&amp;Merchant view</td>\n",
       "    </tr>\n",
       "    <tr>\n",
       "      <th>3</th>\n",
       "      <td>NaN</td>\n",
       "      <td>일반분야                                          ...</td>\n",
       "      <td>의과                                            ...</td>\n",
       "      <td>2745858</td>\n",
       "      <td>MR</td>\n",
       "      <td>000Y</td>\n",
       "      <td>F</td>\n",
       "      <td>T-L Spine MRI</td>\n",
       "    </tr>\n",
       "    <tr>\n",
       "      <th>4</th>\n",
       "      <td>TSPINE</td>\n",
       "      <td>외과분야                                          ...</td>\n",
       "      <td>의과                                            ...</td>\n",
       "      <td>2742866</td>\n",
       "      <td>CR</td>\n",
       "      <td>087Y</td>\n",
       "      <td>M</td>\n",
       "      <td>T-L Spine Ap,Lat</td>\n",
       "    </tr>\n",
       "  </tbody>\n",
       "</table>\n",
       "</div>"
      ],
      "text/plain": [
       "    bodypart                                        diagFldName  \\\n",
       "0   SHOULDER  일반분야                                          ...   \n",
       "1  T-L SPINE  일반분야                                          ...   \n",
       "2       KNEE  일반분야                                          ...   \n",
       "3        NaN  일반분야                                          ...   \n",
       "4     TSPINE  외과분야                                          ...   \n",
       "\n",
       "                                          diagTpName exmImgNo modality  \\\n",
       "0  의과                                            ...  2746234       DR   \n",
       "1  의과                                            ...  2745864       CR   \n",
       "2  의과                                            ...  2746259       CR   \n",
       "3  의과                                            ...  2745858       MR   \n",
       "4  의과                                            ...  2742866       CR   \n",
       "\n",
       "  patientAge patientSex                                      studyDesc  \n",
       "0       056Y          F                      RT Shoulder AP/Lat/Y-view  \n",
       "1       080Y          F                          T-L SPINE AP/LAT2매(계)  \n",
       "2       076Y          F  (Both) Knee (STD)AP&FLEX-PA&LAT&Merchant view  \n",
       "3       000Y          F                                  T-L Spine MRI  \n",
       "4       087Y          M                               T-L Spine Ap,Lat  "
      ]
     },
     "execution_count": 6,
     "metadata": {},
     "output_type": "execute_result"
    }
   ],
   "source": [
    "import pandas as pd\n",
    "\n",
    "# for child in root:\n",
    "#     print(child.tag, child.attrib)\n",
    "\n",
    "# for item in root.iter(tag='item'):\n",
    "#     for nodes in item:\n",
    "#         print(nodes.tag, nodes.text)\n",
    "\n",
    "items_dict = []\n",
    "for item_elem in root.iter(tag='item'):\n",
    "    item_dict = {}\n",
    "    for nodes in item_elem:\n",
    "        item_dict.update({nodes.tag: nodes.text})\n",
    "    items_dict.append(item_dict)\n",
    "\n",
    "items_df = pd.DataFrame(items_dict)\n",
    "items_df.head()"
   ]
  },
  {
   "cell_type": "code",
   "execution_count": 7,
   "id": "7b0b48a3",
   "metadata": {},
   "outputs": [
    {
     "name": "stderr",
     "output_type": "stream",
     "text": [
      "E:\\anaconda3\\envs\\shared_smit\\lib\\site-packages\\IPython\\core\\interactiveshell.py:3437: PerformanceWarning: \n",
      "your performance may suffer as PyTables will pickle object types that it cannot\n",
      "map directly to c-types [inferred_type->mixed,key->block0_values] [items->Index(['bodypart', 'diagFldName', 'diagTpName', 'exmImgNo', 'modality',\n",
      "       'patientAge', 'patientSex', 'studyDesc'],\n",
      "      dtype='object')]\n",
      "\n",
      "  exec(code_obj, self.user_global_ns, self.user_ns)\n"
     ]
    }
   ],
   "source": [
    "# Serialization\n",
    "test_store = pd.HDFStore(\"test.h5\")\n",
    "test_store[\"df\"] = items_df"
   ]
  },
  {
   "cell_type": "code",
   "execution_count": 8,
   "id": "ebeb2e26",
   "metadata": {},
   "outputs": [
    {
     "data": {
      "text/html": [
       "<div>\n",
       "<style scoped>\n",
       "    .dataframe tbody tr th:only-of-type {\n",
       "        vertical-align: middle;\n",
       "    }\n",
       "\n",
       "    .dataframe tbody tr th {\n",
       "        vertical-align: top;\n",
       "    }\n",
       "\n",
       "    .dataframe thead th {\n",
       "        text-align: right;\n",
       "    }\n",
       "</style>\n",
       "<table border=\"1\" class=\"dataframe\">\n",
       "  <thead>\n",
       "    <tr style=\"text-align: right;\">\n",
       "      <th></th>\n",
       "      <th>bodypart</th>\n",
       "      <th>diagFldName</th>\n",
       "      <th>diagTpName</th>\n",
       "      <th>exmImgNo</th>\n",
       "      <th>modality</th>\n",
       "      <th>patientAge</th>\n",
       "      <th>patientSex</th>\n",
       "      <th>studyDesc</th>\n",
       "    </tr>\n",
       "  </thead>\n",
       "  <tbody>\n",
       "    <tr>\n",
       "      <th>0</th>\n",
       "      <td>SHOULDER</td>\n",
       "      <td>일반분야                                          ...</td>\n",
       "      <td>의과                                            ...</td>\n",
       "      <td>2746234</td>\n",
       "      <td>DR</td>\n",
       "      <td>056Y</td>\n",
       "      <td>F</td>\n",
       "      <td>RT Shoulder AP/Lat/Y-view</td>\n",
       "    </tr>\n",
       "    <tr>\n",
       "      <th>1</th>\n",
       "      <td>T-L SPINE</td>\n",
       "      <td>일반분야                                          ...</td>\n",
       "      <td>의과                                            ...</td>\n",
       "      <td>2745864</td>\n",
       "      <td>CR</td>\n",
       "      <td>080Y</td>\n",
       "      <td>F</td>\n",
       "      <td>T-L SPINE AP/LAT2매(계)</td>\n",
       "    </tr>\n",
       "    <tr>\n",
       "      <th>2</th>\n",
       "      <td>KNEE</td>\n",
       "      <td>일반분야                                          ...</td>\n",
       "      <td>의과                                            ...</td>\n",
       "      <td>2746259</td>\n",
       "      <td>CR</td>\n",
       "      <td>076Y</td>\n",
       "      <td>F</td>\n",
       "      <td>(Both) Knee (STD)AP&amp;FLEX-PA&amp;LAT&amp;Merchant view</td>\n",
       "    </tr>\n",
       "    <tr>\n",
       "      <th>3</th>\n",
       "      <td>NaN</td>\n",
       "      <td>일반분야                                          ...</td>\n",
       "      <td>의과                                            ...</td>\n",
       "      <td>2745858</td>\n",
       "      <td>MR</td>\n",
       "      <td>000Y</td>\n",
       "      <td>F</td>\n",
       "      <td>T-L Spine MRI</td>\n",
       "    </tr>\n",
       "    <tr>\n",
       "      <th>4</th>\n",
       "      <td>TSPINE</td>\n",
       "      <td>외과분야                                          ...</td>\n",
       "      <td>의과                                            ...</td>\n",
       "      <td>2742866</td>\n",
       "      <td>CR</td>\n",
       "      <td>087Y</td>\n",
       "      <td>M</td>\n",
       "      <td>T-L Spine Ap,Lat</td>\n",
       "    </tr>\n",
       "  </tbody>\n",
       "</table>\n",
       "</div>"
      ],
      "text/plain": [
       "    bodypart                                        diagFldName  \\\n",
       "0   SHOULDER  일반분야                                          ...   \n",
       "1  T-L SPINE  일반분야                                          ...   \n",
       "2       KNEE  일반분야                                          ...   \n",
       "3        NaN  일반분야                                          ...   \n",
       "4     TSPINE  외과분야                                          ...   \n",
       "\n",
       "                                          diagTpName exmImgNo modality  \\\n",
       "0  의과                                            ...  2746234       DR   \n",
       "1  의과                                            ...  2745864       CR   \n",
       "2  의과                                            ...  2746259       CR   \n",
       "3  의과                                            ...  2745858       MR   \n",
       "4  의과                                            ...  2742866       CR   \n",
       "\n",
       "  patientAge patientSex                                      studyDesc  \n",
       "0       056Y          F                      RT Shoulder AP/Lat/Y-view  \n",
       "1       080Y          F                          T-L SPINE AP/LAT2매(계)  \n",
       "2       076Y          F  (Both) Knee (STD)AP&FLEX-PA&LAT&Merchant view  \n",
       "3       000Y          F                                  T-L Spine MRI  \n",
       "4       087Y          M                               T-L Spine Ap,Lat  "
      ]
     },
     "execution_count": 8,
     "metadata": {},
     "output_type": "execute_result"
    }
   ],
   "source": [
    "df_from_file = test_store[\"df\"]\n",
    "test_store.close()\n",
    "df_from_file.head()"
   ]
  }
 ],
 "metadata": {
  "kernelspec": {
   "display_name": "Python 3",
   "language": "python",
   "name": "python3"
  },
  "language_info": {
   "codemirror_mode": {
    "name": "ipython",
    "version": 3
   },
   "file_extension": ".py",
   "mimetype": "text/x-python",
   "name": "python",
   "nbconvert_exporter": "python",
   "pygments_lexer": "ipython3",
   "version": "3.8.8"
  }
 },
 "nbformat": 4,
 "nbformat_minor": 5
}
