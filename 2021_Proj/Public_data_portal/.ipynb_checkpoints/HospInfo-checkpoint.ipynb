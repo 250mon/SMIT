{
 "cells": [
  {
   "cell_type": "code",
   "execution_count": null,
   "id": "2df446d2",
   "metadata": {},
   "outputs": [],
   "source": [
    "from urllib import parse\n",
    "from urllib.parse import urlencode, quote_plus\n",
    "import requests as rq"
   ]
  },
  {
   "cell_type": "code",
   "execution_count": null,
   "id": "f08dfe63",
   "metadata": {},
   "outputs": [],
   "source": [
    "API_KEY = 'TYhFRHWADtyZmeVywB8xkrwllZs5aBvUFz1ovQbu1qByMvt1GaZagON8KcM7cSemwxtR2KFRz2rZ92Q%2FvPqOfA%3D%3D'\n",
    "\n",
    "def get_data_from_portal(url, params, bjason=False):    \n",
    "    svc_key = f'?{quote_plus(\"ServiceKey\")}={API_KEY}&'\n",
    "    \n",
    "    parsed_params = {}\n",
    "    for p_key, p_value in params.items():\n",
    "        parsed_params[quote_plus(p_key)] = p_value\n",
    "    if bjason == True:\n",
    "        parsed_params[quote_plus('_type')] = 'json'\n",
    "    \n",
    "    encoded_params = svc_key + urlencode(parsed_params)    \n",
    "    response = rq.get(url + encoded_params)\n",
    "    return response"
   ]
  },
  {
   "cell_type": "code",
   "execution_count": null,
   "id": "fdfa090e",
   "metadata": {},
   "outputs": [],
   "source": [
    "url = 'http://apis.data.go.kr/B551182/medImgInfoService/getMedImgList'\n",
    "params = {\n",
    "    'pageNo': '1', \n",
    "    'numOfRows': '100', \n",
    "    'DIAG_FLD_NAME': '내과분야',\n",
    "}\n",
    "response = get_data_from_portal(url, params)\n",
    "response"
   ]
  },
  {
   "cell_type": "code",
   "execution_count": 68,
   "id": "429c0b41",
   "metadata": {},
   "outputs": [
    {
     "data": {
      "text/plain": [
       "'response'"
      ]
     },
     "execution_count": 68,
     "metadata": {},
     "output_type": "execute_result"
    }
   ],
   "source": [
    "import xml.etree.ElementTree as ET \n",
    "\n",
    "root = ET.fromstring(response.text)\n",
    "root.tag"
   ]
  },
  {
   "cell_type": "code",
   "execution_count": 73,
   "id": "00c448e4",
   "metadata": {},
   "outputs": [
    {
     "data": {
      "text/html": [
       "<div>\n",
       "<style scoped>\n",
       "    .dataframe tbody tr th:only-of-type {\n",
       "        vertical-align: middle;\n",
       "    }\n",
       "\n",
       "    .dataframe tbody tr th {\n",
       "        vertical-align: top;\n",
       "    }\n",
       "\n",
       "    .dataframe thead th {\n",
       "        text-align: right;\n",
       "    }\n",
       "</style>\n",
       "<table border=\"1\" class=\"dataframe\">\n",
       "  <thead>\n",
       "    <tr style=\"text-align: right;\">\n",
       "      <th></th>\n",
       "      <th>bodypart</th>\n",
       "      <th>diagFldName</th>\n",
       "      <th>diagTpName</th>\n",
       "      <th>exmImgNo</th>\n",
       "      <th>modality</th>\n",
       "      <th>patientAge</th>\n",
       "      <th>patientSex</th>\n",
       "      <th>studyDesc</th>\n",
       "    </tr>\n",
       "  </thead>\n",
       "  <tbody>\n",
       "    <tr>\n",
       "      <th>0</th>\n",
       "      <td>SHOULDER</td>\n",
       "      <td>일반분야                                          ...</td>\n",
       "      <td>의과                                            ...</td>\n",
       "      <td>2746234</td>\n",
       "      <td>DR</td>\n",
       "      <td>056Y</td>\n",
       "      <td>F</td>\n",
       "      <td>RT Shoulder AP/Lat/Y-view</td>\n",
       "    </tr>\n",
       "    <tr>\n",
       "      <th>1</th>\n",
       "      <td>T-L SPINE</td>\n",
       "      <td>일반분야                                          ...</td>\n",
       "      <td>의과                                            ...</td>\n",
       "      <td>2745864</td>\n",
       "      <td>CR</td>\n",
       "      <td>080Y</td>\n",
       "      <td>F</td>\n",
       "      <td>T-L SPINE AP/LAT2매(계)</td>\n",
       "    </tr>\n",
       "    <tr>\n",
       "      <th>2</th>\n",
       "      <td>KNEE</td>\n",
       "      <td>일반분야                                          ...</td>\n",
       "      <td>의과                                            ...</td>\n",
       "      <td>2746259</td>\n",
       "      <td>CR</td>\n",
       "      <td>076Y</td>\n",
       "      <td>F</td>\n",
       "      <td>(Both) Knee (STD)AP&amp;FLEX-PA&amp;LAT&amp;Merchant view</td>\n",
       "    </tr>\n",
       "    <tr>\n",
       "      <th>3</th>\n",
       "      <td>NaN</td>\n",
       "      <td>일반분야                                          ...</td>\n",
       "      <td>의과                                            ...</td>\n",
       "      <td>2745858</td>\n",
       "      <td>MR</td>\n",
       "      <td>000Y</td>\n",
       "      <td>F</td>\n",
       "      <td>T-L Spine MRI</td>\n",
       "    </tr>\n",
       "    <tr>\n",
       "      <th>4</th>\n",
       "      <td>TSPINE</td>\n",
       "      <td>외과분야                                          ...</td>\n",
       "      <td>의과                                            ...</td>\n",
       "      <td>2742866</td>\n",
       "      <td>CR</td>\n",
       "      <td>087Y</td>\n",
       "      <td>M</td>\n",
       "      <td>T-L Spine Ap,Lat</td>\n",
       "    </tr>\n",
       "  </tbody>\n",
       "</table>\n",
       "</div>"
      ],
      "text/plain": [
       "    bodypart                                        diagFldName  \\\n",
       "0   SHOULDER  일반분야                                          ...   \n",
       "1  T-L SPINE  일반분야                                          ...   \n",
       "2       KNEE  일반분야                                          ...   \n",
       "3        NaN  일반분야                                          ...   \n",
       "4     TSPINE  외과분야                                          ...   \n",
       "\n",
       "                                          diagTpName exmImgNo modality  \\\n",
       "0  의과                                            ...  2746234       DR   \n",
       "1  의과                                            ...  2745864       CR   \n",
       "2  의과                                            ...  2746259       CR   \n",
       "3  의과                                            ...  2745858       MR   \n",
       "4  의과                                            ...  2742866       CR   \n",
       "\n",
       "  patientAge patientSex                                      studyDesc  \n",
       "0       056Y          F                      RT Shoulder AP/Lat/Y-view  \n",
       "1       080Y          F                          T-L SPINE AP/LAT2매(계)  \n",
       "2       076Y          F  (Both) Knee (STD)AP&FLEX-PA&LAT&Merchant view  \n",
       "3       000Y          F                                  T-L Spine MRI  \n",
       "4       087Y          M                               T-L Spine Ap,Lat  "
      ]
     },
     "execution_count": 73,
     "metadata": {},
     "output_type": "execute_result"
    }
   ],
   "source": [
    "import pandas as pd\n",
    "\n",
    "# for child in root:\n",
    "#     print(child.tag, child.attrib)\n",
    "\n",
    "# for item in root.iter(tag='item'):\n",
    "#     for nodes in item:\n",
    "#         print(nodes.tag, nodes.text)\n",
    "\n",
    "items_dict = []\n",
    "for item_elem in root.iter(tag='item'):\n",
    "    item_dict = {}\n",
    "    for nodes in item_elem:\n",
    "        item_dict.update({nodes.tag: nodes.text})\n",
    "    items_dict.append(item_dict)\n",
    "\n",
    "items_df = pd.DataFrame(items_dict)\n",
    "items_df.head()"
   ]
  },
  {
   "cell_type": "code",
   "execution_count": 76,
   "id": "40890dbb",
   "metadata": {},
   "outputs": [],
   "source": [
    "# Serialization\n",
    "test_store = pd.HDFStore(\"test.h5\")\n",
    "test_store[\"df\"] = items_df"
   ]
  },
  {
   "cell_type": "code",
   "execution_count": 77,
   "id": "dab61451",
   "metadata": {},
   "outputs": [],
   "source": [
    "test_store.close()"
   ]
  },
  {
   "cell_type": "code",
   "execution_count": null,
   "id": "509125de",
   "metadata": {},
   "outputs": [],
   "source": []
  },
  {
   "cell_type": "code",
   "execution_count": null,
   "id": "7000ea98",
   "metadata": {},
   "outputs": [],
   "source": []
  },
  {
   "cell_type": "code",
   "execution_count": null,
   "id": "1e1dcbec",
   "metadata": {},
   "outputs": [],
   "source": []
  },
  {
   "cell_type": "code",
   "execution_count": null,
   "id": "fe9a298c",
   "metadata": {},
   "outputs": [],
   "source": []
  },
  {
   "cell_type": "code",
   "execution_count": null,
   "id": "02872288",
   "metadata": {},
   "outputs": [],
   "source": []
  },
  {
   "cell_type": "markdown",
   "id": "0073d5d4",
   "metadata": {},
   "source": [
    "# 건강보험심사평가원_병원정보서비스"
   ]
  },
  {
   "cell_type": "code",
   "execution_count": null,
   "id": "c2bc2192",
   "metadata": {},
   "outputs": [],
   "source": []
  },
  {
   "cell_type": "code",
   "execution_count": null,
   "id": "d17bef92",
   "metadata": {},
   "outputs": [],
   "source": []
  },
  {
   "cell_type": "code",
   "execution_count": null,
   "id": "ad67bc0b",
   "metadata": {},
   "outputs": [],
   "source": []
  },
  {
   "cell_type": "code",
   "execution_count": null,
   "id": "c66d17bc",
   "metadata": {},
   "outputs": [],
   "source": []
  },
  {
   "cell_type": "code",
   "execution_count": null,
   "id": "bededad6",
   "metadata": {},
   "outputs": [],
   "source": []
  },
  {
   "cell_type": "code",
   "execution_count": null,
   "id": "e579d8b3",
   "metadata": {},
   "outputs": [],
   "source": []
  },
  {
   "cell_type": "code",
   "execution_count": null,
   "id": "41611378",
   "metadata": {},
   "outputs": [],
   "source": []
  },
  {
   "cell_type": "code",
   "execution_count": null,
   "id": "ec50350a",
   "metadata": {},
   "outputs": [],
   "source": []
  },
  {
   "cell_type": "code",
   "execution_count": null,
   "id": "4a2f71b8",
   "metadata": {},
   "outputs": [],
   "source": []
  },
  {
   "cell_type": "code",
   "execution_count": null,
   "id": "32851815",
   "metadata": {},
   "outputs": [],
   "source": []
  },
  {
   "cell_type": "markdown",
   "id": "51a90237",
   "metadata": {},
   "source": [
    "# 건강보험심사평가원_의료기관별상세정보서비스"
   ]
  },
  {
   "cell_type": "code",
   "execution_count": 5,
   "id": "6054fafb",
   "metadata": {},
   "outputs": [],
   "source": [
    "url = 'http://apis.data.go.kr/B551182/medicInsttDetailInfoService/getFacilityInfo'\n",
    "API_KEY2 = 'TYhFRHWADtyZmeVywB8xkrwllZs5aBvUFz1ovQbu1qByMvt1GaZagON8KcM7cSemwxtR2KFRz2rZ92Q/vPqOfA=='\n",
    "queryParams = '?' + urlencode({ \n",
    "    quote_plus('ServiceKey') : API_KEY2, \n",
    "    quote_plus('pageNo') : '1', \n",
    "    quote_plus('numOfRows') : '10', \n",
    "    quote_plus('ykiho') : '{생략}' })"
   ]
  },
  {
   "cell_type": "code",
   "execution_count": 6,
   "id": "8724ca4e",
   "metadata": {},
   "outputs": [],
   "source": [
    "request2 = Request(url1 + queryParams1)\n",
    "request2.get_method = lambda: 'GET'"
   ]
  },
  {
   "cell_type": "code",
   "execution_count": 7,
   "id": "ec855f41",
   "metadata": {},
   "outputs": [
    {
     "name": "stdout",
     "output_type": "stream",
     "text": [
      "b'<OpenAPI_ServiceResponse>\\n\\t<cmmMsgHeader>\\n\\t\\t<errMsg>SERVICE ERROR</errMsg>\\n\\t\\t<returnAuthMsg>SERVICE_KEY_IS_NOT_REGISTERED_ERROR</returnAuthMsg>\\n\\t\\t<returnReasonCode>30</returnReasonCode>\\n\\t</cmmMsgHeader>\\n</OpenAPI_ServiceResponse>'\n"
     ]
    }
   ],
   "source": [
    "response_body2 = urlopen(request2).read()\n",
    "print (response_body2)"
   ]
  },
  {
   "cell_type": "code",
   "execution_count": null,
   "id": "918f77ea",
   "metadata": {},
   "outputs": [],
   "source": [
    "http://openapi.kepco.co.kr/service/EvInfoServiceV2/getEvSearchList?serviceKey=LIOA3wf7FAl9dxmpqo68JF8FXDcx2SA7Lwscv98sJiqAJGmXPhrea%2Bm9Pe4fPX1LsJclvAH5T9UWap9sLWSycA%3D%3D&pageNo=1&numOfRows=10"
   ]
  }
 ],
 "metadata": {
  "kernelspec": {
   "display_name": "Python 3",
   "language": "python",
   "name": "python3"
  },
  "language_info": {
   "codemirror_mode": {
    "name": "ipython",
    "version": 3
   },
   "file_extension": ".py",
   "mimetype": "text/x-python",
   "name": "python",
   "nbconvert_exporter": "python",
   "pygments_lexer": "ipython3",
   "version": "3.8.8"
  }
 },
 "nbformat": 4,
 "nbformat_minor": 5
}
