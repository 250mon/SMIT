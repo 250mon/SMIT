{
 "cells": [
  {
   "cell_type": "code",
   "execution_count": 24,
   "id": "15330969",
   "metadata": {},
   "outputs": [],
   "source": [
    "import pandas as pd"
   ]
  },
  {
   "cell_type": "code",
   "execution_count": 25,
   "id": "1d50b862",
   "metadata": {},
   "outputs": [
    {
     "data": {
      "text/html": [
       "<div>\n",
       "<style scoped>\n",
       "    .dataframe tbody tr th:only-of-type {\n",
       "        vertical-align: middle;\n",
       "    }\n",
       "\n",
       "    .dataframe tbody tr th {\n",
       "        vertical-align: top;\n",
       "    }\n",
       "\n",
       "    .dataframe thead th {\n",
       "        text-align: right;\n",
       "    }\n",
       "</style>\n",
       "<table border=\"1\" class=\"dataframe\">\n",
       "  <thead>\n",
       "    <tr style=\"text-align: right;\">\n",
       "      <th></th>\n",
       "      <th>WNRD</th>\n",
       "      <th>WNVol</th>\n",
       "      <th>WNNCD</th>\n",
       "      <th>Class</th>\n",
       "    </tr>\n",
       "    <tr>\n",
       "      <th>TestID</th>\n",
       "      <th></th>\n",
       "      <th></th>\n",
       "      <th></th>\n",
       "      <th></th>\n",
       "    </tr>\n",
       "  </thead>\n",
       "  <tbody>\n",
       "    <tr>\n",
       "      <th>1</th>\n",
       "      <td>0.000120</td>\n",
       "      <td>0.012339</td>\n",
       "      <td>0.008525</td>\n",
       "      <td>Similar</td>\n",
       "    </tr>\n",
       "    <tr>\n",
       "      <th>2</th>\n",
       "      <td>0.000120</td>\n",
       "      <td>0.011953</td>\n",
       "      <td>0.008375</td>\n",
       "      <td>Similar</td>\n",
       "    </tr>\n",
       "    <tr>\n",
       "      <th>3</th>\n",
       "      <td>0.000196</td>\n",
       "      <td>0.007618</td>\n",
       "      <td>0.004438</td>\n",
       "      <td>Similar</td>\n",
       "    </tr>\n",
       "    <tr>\n",
       "      <th>4</th>\n",
       "      <td>0.000197</td>\n",
       "      <td>0.007452</td>\n",
       "      <td>0.004424</td>\n",
       "      <td>Similar</td>\n",
       "    </tr>\n",
       "    <tr>\n",
       "      <th>5</th>\n",
       "      <td>0.000162</td>\n",
       "      <td>0.012785</td>\n",
       "      <td>0.009120</td>\n",
       "      <td>Similar</td>\n",
       "    </tr>\n",
       "    <tr>\n",
       "      <th>...</th>\n",
       "      <td>...</td>\n",
       "      <td>...</td>\n",
       "      <td>...</td>\n",
       "      <td>...</td>\n",
       "    </tr>\n",
       "    <tr>\n",
       "      <th>962</th>\n",
       "      <td>0.091940</td>\n",
       "      <td>0.124211</td>\n",
       "      <td>0.153080</td>\n",
       "      <td>Different</td>\n",
       "    </tr>\n",
       "    <tr>\n",
       "      <th>963</th>\n",
       "      <td>0.082274</td>\n",
       "      <td>0.117211</td>\n",
       "      <td>0.140817</td>\n",
       "      <td>Different</td>\n",
       "    </tr>\n",
       "    <tr>\n",
       "      <th>964</th>\n",
       "      <td>0.091940</td>\n",
       "      <td>0.124431</td>\n",
       "      <td>0.153347</td>\n",
       "      <td>Different</td>\n",
       "    </tr>\n",
       "    <tr>\n",
       "      <th>965</th>\n",
       "      <td>0.082279</td>\n",
       "      <td>0.111474</td>\n",
       "      <td>0.135962</td>\n",
       "      <td>Different</td>\n",
       "    </tr>\n",
       "    <tr>\n",
       "      <th>966</th>\n",
       "      <td>0.091942</td>\n",
       "      <td>0.124134</td>\n",
       "      <td>0.153054</td>\n",
       "      <td>Different</td>\n",
       "    </tr>\n",
       "  </tbody>\n",
       "</table>\n",
       "<p>966 rows × 4 columns</p>\n",
       "</div>"
      ],
      "text/plain": [
       "            WNRD     WNVol     WNNCD      Class\n",
       "TestID                                         \n",
       "1       0.000120  0.012339  0.008525    Similar\n",
       "2       0.000120  0.011953  0.008375    Similar\n",
       "3       0.000196  0.007618  0.004438    Similar\n",
       "4       0.000197  0.007452  0.004424    Similar\n",
       "5       0.000162  0.012785  0.009120    Similar\n",
       "...          ...       ...       ...        ...\n",
       "962     0.091940  0.124211  0.153080  Different\n",
       "963     0.082274  0.117211  0.140817  Different\n",
       "964     0.091940  0.124431  0.153347  Different\n",
       "965     0.082279  0.111474  0.135962  Different\n",
       "966     0.091942  0.124134  0.153054  Different\n",
       "\n",
       "[966 rows x 4 columns]"
      ]
     },
     "execution_count": 25,
     "metadata": {},
     "output_type": "execute_result"
    }
   ],
   "source": [
    "df = pd.read_excel('../data/PM_ML_Data_Final.xlsx', index_col='TestID')\n",
    "df"
   ]
  },
  {
   "cell_type": "code",
   "execution_count": 27,
   "id": "2de62914",
   "metadata": {},
   "outputs": [],
   "source": [
    "from sklearn.model_selection import train_test_split"
   ]
  },
  {
   "cell_type": "code",
   "execution_count": 28,
   "id": "ecff1b38",
   "metadata": {},
   "outputs": [],
   "source": [
    "seed = 7"
   ]
  },
  {
   "cell_type": "code",
   "execution_count": 29,
   "id": "1544d7ed",
   "metadata": {},
   "outputs": [],
   "source": [
    "X = df.drop(\"Class\",axis=1)\n",
    "y = df[\"Class\"]"
   ]
  },
  {
   "cell_type": "code",
   "execution_count": 30,
   "id": "a132468b",
   "metadata": {},
   "outputs": [],
   "source": [
    "X_train, X_test, y_train, y_test = train_test_split(X, y, test_size=0.3, random_state=seed)"
   ]
  },
  {
   "cell_type": "code",
   "execution_count": 31,
   "id": "5adbf208",
   "metadata": {},
   "outputs": [
    {
     "data": {
      "text/html": [
       "<div>\n",
       "<style scoped>\n",
       "    .dataframe tbody tr th:only-of-type {\n",
       "        vertical-align: middle;\n",
       "    }\n",
       "\n",
       "    .dataframe tbody tr th {\n",
       "        vertical-align: top;\n",
       "    }\n",
       "\n",
       "    .dataframe thead th {\n",
       "        text-align: right;\n",
       "    }\n",
       "</style>\n",
       "<table border=\"1\" class=\"dataframe\">\n",
       "  <thead>\n",
       "    <tr style=\"text-align: right;\">\n",
       "      <th></th>\n",
       "      <th>WNRD</th>\n",
       "      <th>WNVol</th>\n",
       "      <th>WNNCD</th>\n",
       "    </tr>\n",
       "    <tr>\n",
       "      <th>TestID</th>\n",
       "      <th></th>\n",
       "      <th></th>\n",
       "      <th></th>\n",
       "    </tr>\n",
       "  </thead>\n",
       "  <tbody>\n",
       "    <tr>\n",
       "      <th>415</th>\n",
       "      <td>0.002227</td>\n",
       "      <td>0.105717</td>\n",
       "      <td>0.062179</td>\n",
       "    </tr>\n",
       "    <tr>\n",
       "      <th>319</th>\n",
       "      <td>0.198656</td>\n",
       "      <td>0.127894</td>\n",
       "      <td>0.233370</td>\n",
       "    </tr>\n",
       "    <tr>\n",
       "      <th>573</th>\n",
       "      <td>0.002356</td>\n",
       "      <td>0.169175</td>\n",
       "      <td>0.120250</td>\n",
       "    </tr>\n",
       "    <tr>\n",
       "      <th>506</th>\n",
       "      <td>0.008541</td>\n",
       "      <td>0.089513</td>\n",
       "      <td>0.060240</td>\n",
       "    </tr>\n",
       "    <tr>\n",
       "      <th>601</th>\n",
       "      <td>0.000945</td>\n",
       "      <td>0.168636</td>\n",
       "      <td>0.136925</td>\n",
       "    </tr>\n",
       "    <tr>\n",
       "      <th>...</th>\n",
       "      <td>...</td>\n",
       "      <td>...</td>\n",
       "      <td>...</td>\n",
       "    </tr>\n",
       "    <tr>\n",
       "      <th>580</th>\n",
       "      <td>0.002454</td>\n",
       "      <td>0.114904</td>\n",
       "      <td>0.083363</td>\n",
       "    </tr>\n",
       "    <tr>\n",
       "      <th>503</th>\n",
       "      <td>0.007232</td>\n",
       "      <td>0.093650</td>\n",
       "      <td>0.066664</td>\n",
       "    </tr>\n",
       "    <tr>\n",
       "      <th>538</th>\n",
       "      <td>0.000882</td>\n",
       "      <td>0.123532</td>\n",
       "      <td>0.086431</td>\n",
       "    </tr>\n",
       "    <tr>\n",
       "      <th>197</th>\n",
       "      <td>0.167056</td>\n",
       "      <td>0.122953</td>\n",
       "      <td>0.199955</td>\n",
       "    </tr>\n",
       "    <tr>\n",
       "      <th>176</th>\n",
       "      <td>0.192594</td>\n",
       "      <td>0.087238</td>\n",
       "      <td>0.208814</td>\n",
       "    </tr>\n",
       "  </tbody>\n",
       "</table>\n",
       "<p>676 rows × 3 columns</p>\n",
       "</div>"
      ],
      "text/plain": [
       "            WNRD     WNVol     WNNCD\n",
       "TestID                              \n",
       "415     0.002227  0.105717  0.062179\n",
       "319     0.198656  0.127894  0.233370\n",
       "573     0.002356  0.169175  0.120250\n",
       "506     0.008541  0.089513  0.060240\n",
       "601     0.000945  0.168636  0.136925\n",
       "...          ...       ...       ...\n",
       "580     0.002454  0.114904  0.083363\n",
       "503     0.007232  0.093650  0.066664\n",
       "538     0.000882  0.123532  0.086431\n",
       "197     0.167056  0.122953  0.199955\n",
       "176     0.192594  0.087238  0.208814\n",
       "\n",
       "[676 rows x 3 columns]"
      ]
     },
     "execution_count": 31,
     "metadata": {},
     "output_type": "execute_result"
    }
   ],
   "source": [
    "X_train"
   ]
  },
  {
   "cell_type": "code",
   "execution_count": 32,
   "id": "c864c791",
   "metadata": {},
   "outputs": [
    {
     "data": {
      "text/html": [
       "<div>\n",
       "<style scoped>\n",
       "    .dataframe tbody tr th:only-of-type {\n",
       "        vertical-align: middle;\n",
       "    }\n",
       "\n",
       "    .dataframe tbody tr th {\n",
       "        vertical-align: top;\n",
       "    }\n",
       "\n",
       "    .dataframe thead th {\n",
       "        text-align: right;\n",
       "    }\n",
       "</style>\n",
       "<table border=\"1\" class=\"dataframe\">\n",
       "  <thead>\n",
       "    <tr style=\"text-align: right;\">\n",
       "      <th></th>\n",
       "      <th>WNRD</th>\n",
       "      <th>WNVol</th>\n",
       "      <th>WNNCD</th>\n",
       "    </tr>\n",
       "    <tr>\n",
       "      <th>TestID</th>\n",
       "      <th></th>\n",
       "      <th></th>\n",
       "      <th></th>\n",
       "    </tr>\n",
       "  </thead>\n",
       "  <tbody>\n",
       "    <tr>\n",
       "      <th>238</th>\n",
       "      <td>0.186641</td>\n",
       "      <td>0.127044</td>\n",
       "      <td>0.224919</td>\n",
       "    </tr>\n",
       "    <tr>\n",
       "      <th>564</th>\n",
       "      <td>0.006220</td>\n",
       "      <td>0.098347</td>\n",
       "      <td>0.082061</td>\n",
       "    </tr>\n",
       "    <tr>\n",
       "      <th>676</th>\n",
       "      <td>0.006239</td>\n",
       "      <td>0.134682</td>\n",
       "      <td>0.100609</td>\n",
       "    </tr>\n",
       "    <tr>\n",
       "      <th>25</th>\n",
       "      <td>0.000435</td>\n",
       "      <td>0.008095</td>\n",
       "      <td>0.005574</td>\n",
       "    </tr>\n",
       "    <tr>\n",
       "      <th>205</th>\n",
       "      <td>0.160748</td>\n",
       "      <td>0.140607</td>\n",
       "      <td>0.210533</td>\n",
       "    </tr>\n",
       "    <tr>\n",
       "      <th>...</th>\n",
       "      <td>...</td>\n",
       "      <td>...</td>\n",
       "      <td>...</td>\n",
       "    </tr>\n",
       "    <tr>\n",
       "      <th>796</th>\n",
       "      <td>0.000386</td>\n",
       "      <td>0.022569</td>\n",
       "      <td>0.016738</td>\n",
       "    </tr>\n",
       "    <tr>\n",
       "      <th>189</th>\n",
       "      <td>0.167908</td>\n",
       "      <td>0.161788</td>\n",
       "      <td>0.215418</td>\n",
       "    </tr>\n",
       "    <tr>\n",
       "      <th>252</th>\n",
       "      <td>0.185649</td>\n",
       "      <td>0.130624</td>\n",
       "      <td>0.223735</td>\n",
       "    </tr>\n",
       "    <tr>\n",
       "      <th>72</th>\n",
       "      <td>0.000503</td>\n",
       "      <td>0.009268</td>\n",
       "      <td>0.008367</td>\n",
       "    </tr>\n",
       "    <tr>\n",
       "      <th>682</th>\n",
       "      <td>0.006198</td>\n",
       "      <td>0.131619</td>\n",
       "      <td>0.100041</td>\n",
       "    </tr>\n",
       "  </tbody>\n",
       "</table>\n",
       "<p>290 rows × 3 columns</p>\n",
       "</div>"
      ],
      "text/plain": [
       "            WNRD     WNVol     WNNCD\n",
       "TestID                              \n",
       "238     0.186641  0.127044  0.224919\n",
       "564     0.006220  0.098347  0.082061\n",
       "676     0.006239  0.134682  0.100609\n",
       "25      0.000435  0.008095  0.005574\n",
       "205     0.160748  0.140607  0.210533\n",
       "...          ...       ...       ...\n",
       "796     0.000386  0.022569  0.016738\n",
       "189     0.167908  0.161788  0.215418\n",
       "252     0.185649  0.130624  0.223735\n",
       "72      0.000503  0.009268  0.008367\n",
       "682     0.006198  0.131619  0.100041\n",
       "\n",
       "[290 rows x 3 columns]"
      ]
     },
     "execution_count": 32,
     "metadata": {},
     "output_type": "execute_result"
    }
   ],
   "source": [
    "X_test"
   ]
  },
  {
   "cell_type": "code",
   "execution_count": 39,
   "id": "cd059b06",
   "metadata": {},
   "outputs": [
    {
     "data": {
      "text/plain": [
       "TestID\n",
       "415           Lab\n",
       "319     Different\n",
       "573    Instrument\n",
       "506    Instrument\n",
       "601    Instrument\n",
       "          ...    \n",
       "580    Instrument\n",
       "503    Instrument\n",
       "538    Instrument\n",
       "197     Different\n",
       "176     Different\n",
       "Name: Class, Length: 676, dtype: object"
      ]
     },
     "execution_count": 39,
     "metadata": {},
     "output_type": "execute_result"
    }
   ],
   "source": [
    "y_train"
   ]
  },
  {
   "cell_type": "code",
   "execution_count": 40,
   "id": "36c4b87a",
   "metadata": {},
   "outputs": [
    {
     "data": {
      "text/plain": [
       "TestID\n",
       "238     Different\n",
       "564    Instrument\n",
       "676    Instrument\n",
       "25        Similar\n",
       "205     Different\n",
       "          ...    \n",
       "796           Day\n",
       "189     Different\n",
       "252     Different\n",
       "72        Similar\n",
       "682    Instrument\n",
       "Name: Class, Length: 290, dtype: object"
      ]
     },
     "execution_count": 40,
     "metadata": {},
     "output_type": "execute_result"
    }
   ],
   "source": [
    "y_test"
   ]
  },
  {
   "cell_type": "code",
   "execution_count": null,
   "id": "1317205c",
   "metadata": {},
   "outputs": [],
   "source": []
  },
  {
   "cell_type": "code",
   "execution_count": null,
   "id": "9a7c1fd7",
   "metadata": {},
   "outputs": [],
   "source": []
  },
  {
   "cell_type": "code",
   "execution_count": 33,
   "id": "f7f44eaa",
   "metadata": {},
   "outputs": [
    {
     "ename": "NameError",
     "evalue": "name 'x_cluser' is not defined",
     "output_type": "error",
     "traceback": [
      "\u001b[0;31m---------------------------------------------------------------------------\u001b[0m",
      "\u001b[0;31mNameError\u001b[0m                                 Traceback (most recent call last)",
      "\u001b[0;32m<ipython-input-33-47296053d3d6>\u001b[0m in \u001b[0;36m<module>\u001b[0;34m\u001b[0m\n\u001b[0;32m----> 1\u001b[0;31m \u001b[0mct\u001b[0m \u001b[0;34m=\u001b[0m \u001b[0mpd\u001b[0m\u001b[0;34m.\u001b[0m\u001b[0mcrosstab\u001b[0m\u001b[0;34m(\u001b[0m\u001b[0mx_cluser\u001b[0m\u001b[0;34m[\u001b[0m\u001b[0;34m\"Class\"\u001b[0m\u001b[0;34m]\u001b[0m\u001b[0;34m,\u001b[0m \u001b[0mx_clusters\u001b[0m\u001b[0;34m[\u001b[0m\u001b[0;34m\"cluster\"\u001b[0m\u001b[0;34m]\u001b[0m\u001b[0;34m)\u001b[0m\u001b[0;34m\u001b[0m\u001b[0;34m\u001b[0m\u001b[0m\n\u001b[0m\u001b[1;32m      2\u001b[0m \u001b[0mprint\u001b[0m\u001b[0;34m(\u001b[0m\u001b[0mct\u001b[0m\u001b[0;34m)\u001b[0m\u001b[0;34m\u001b[0m\u001b[0;34m\u001b[0m\u001b[0m\n",
      "\u001b[0;31mNameError\u001b[0m: name 'x_cluser' is not defined"
     ]
    }
   ],
   "source": [
    "ct = pd.crosstab(x_cluser[\"Class\"], x_clusters[\"cluster\"])\n",
    "print(ct)"
   ]
  },
  {
   "cell_type": "code",
   "execution_count": null,
   "id": "e07f8fb1",
   "metadata": {},
   "outputs": [],
   "source": [
    "ks = range(1, 10)\n",
    "inertias = []"
   ]
  },
  {
   "cell_type": "code",
   "execution_count": null,
   "id": "46fd59c9",
   "metadata": {},
   "outputs": [],
   "source": [
    "for k in ks:\n",
    "    model = KMeans(n_clusters=k)\n",
    "    model.fit(X)\n",
    "    inertias.append(model.inertia_)"
   ]
  },
  {
   "cell_type": "markdown",
   "id": "486ed78f",
   "metadata": {},
   "source": [
    "## Drawing a Graph"
   ]
  },
  {
   "cell_type": "code",
   "execution_count": null,
   "id": "7302f13c",
   "metadata": {},
   "outputs": [],
   "source": [
    "import matplotlib.pyplot as plt"
   ]
  },
  {
   "cell_type": "code",
   "execution_count": null,
   "id": "3e466605",
   "metadata": {},
   "outputs": [],
   "source": [
    "plt.plot(ks.inertias)\n",
    "plt.xlabel('number of clusters, k')\n",
    "plt.ylabel('inertia')\n",
    "plt.xticks(ks)\n",
    "plt.show()"
   ]
  },
  {
   "cell_type": "code",
   "execution_count": null,
   "id": "953b2549",
   "metadata": {},
   "outputs": [],
   "source": [
    "x_cluster.to_csv(\"../data/PM_Kmean_Clustering_Result.csv\")"
   ]
  },
  {
   "cell_type": "code",
   "execution_count": null,
   "id": "604b0d12",
   "metadata": {},
   "outputs": [],
   "source": [
    "df2 = read_csv(\"../data/PM_Kmean_Clustering_Result.csv\")\n",
    "df2"
   ]
  },
  {
   "cell_type": "code",
   "execution_count": 36,
   "id": "45ddc085",
   "metadata": {},
   "outputs": [
    {
     "data": {
      "text/html": [
       "<div>\n",
       "<style scoped>\n",
       "    .dataframe tbody tr th:only-of-type {\n",
       "        vertical-align: middle;\n",
       "    }\n",
       "\n",
       "    .dataframe tbody tr th {\n",
       "        vertical-align: top;\n",
       "    }\n",
       "\n",
       "    .dataframe thead th {\n",
       "        text-align: right;\n",
       "    }\n",
       "</style>\n",
       "<table border=\"1\" class=\"dataframe\">\n",
       "  <thead>\n",
       "    <tr style=\"text-align: right;\">\n",
       "      <th></th>\n",
       "      <th>WNRD</th>\n",
       "      <th>WNVol</th>\n",
       "      <th>WNNCD</th>\n",
       "    </tr>\n",
       "    <tr>\n",
       "      <th>TestID</th>\n",
       "      <th></th>\n",
       "      <th></th>\n",
       "      <th></th>\n",
       "    </tr>\n",
       "  </thead>\n",
       "  <tbody>\n",
       "    <tr>\n",
       "      <th>14</th>\n",
       "      <td>0.000206</td>\n",
       "      <td>0.019164</td>\n",
       "      <td>0.012985</td>\n",
       "    </tr>\n",
       "    <tr>\n",
       "      <th>70</th>\n",
       "      <td>0.000307</td>\n",
       "      <td>0.008519</td>\n",
       "      <td>0.009125</td>\n",
       "    </tr>\n",
       "    <tr>\n",
       "      <th>176</th>\n",
       "      <td>0.192594</td>\n",
       "      <td>0.087238</td>\n",
       "      <td>0.208814</td>\n",
       "    </tr>\n",
       "    <tr>\n",
       "      <th>295</th>\n",
       "      <td>0.199662</td>\n",
       "      <td>0.149283</td>\n",
       "      <td>0.246484</td>\n",
       "    </tr>\n",
       "    <tr>\n",
       "      <th>382</th>\n",
       "      <td>0.001103</td>\n",
       "      <td>0.047906</td>\n",
       "      <td>0.036669</td>\n",
       "    </tr>\n",
       "    <tr>\n",
       "      <th>419</th>\n",
       "      <td>0.002454</td>\n",
       "      <td>0.099070</td>\n",
       "      <td>0.057033</td>\n",
       "    </tr>\n",
       "    <tr>\n",
       "      <th>425</th>\n",
       "      <td>0.006560</td>\n",
       "      <td>0.139213</td>\n",
       "      <td>0.094563</td>\n",
       "    </tr>\n",
       "    <tr>\n",
       "      <th>723</th>\n",
       "      <td>0.006616</td>\n",
       "      <td>0.149104</td>\n",
       "      <td>0.099622</td>\n",
       "    </tr>\n",
       "    <tr>\n",
       "      <th>731</th>\n",
       "      <td>0.000245</td>\n",
       "      <td>0.024575</td>\n",
       "      <td>0.018870</td>\n",
       "    </tr>\n",
       "    <tr>\n",
       "      <th>833</th>\n",
       "      <td>0.000363</td>\n",
       "      <td>0.010278</td>\n",
       "      <td>0.008227</td>\n",
       "    </tr>\n",
       "  </tbody>\n",
       "</table>\n",
       "</div>"
      ],
      "text/plain": [
       "            WNRD     WNVol     WNNCD\n",
       "TestID                              \n",
       "14      0.000206  0.019164  0.012985\n",
       "70      0.000307  0.008519  0.009125\n",
       "176     0.192594  0.087238  0.208814\n",
       "295     0.199662  0.149283  0.246484\n",
       "382     0.001103  0.047906  0.036669\n",
       "419     0.002454  0.099070  0.057033\n",
       "425     0.006560  0.139213  0.094563\n",
       "723     0.006616  0.149104  0.099622\n",
       "731     0.000245  0.024575  0.018870\n",
       "833     0.000363  0.010278  0.008227"
      ]
     },
     "execution_count": 36,
     "metadata": {},
     "output_type": "execute_result"
    }
   ],
   "source": [
    "un = pd.read_excel(\"../data/PM_ML_Unknown.xlsx\", index_col=\"TestID\")\n",
    "un"
   ]
  },
  {
   "cell_type": "code",
   "execution_count": 38,
   "id": "36b9376a",
   "metadata": {},
   "outputs": [
    {
     "ename": "NameError",
     "evalue": "name 'train_clusters' is not defined",
     "output_type": "error",
     "traceback": [
      "\u001b[0;31m---------------------------------------------------------------------------\u001b[0m",
      "\u001b[0;31mNameError\u001b[0m                                 Traceback (most recent call last)",
      "\u001b[0;32m<ipython-input-38-a94bbcc265ca>\u001b[0m in \u001b[0;36m<module>\u001b[0;34m\u001b[0m\n\u001b[0;32m----> 1\u001b[0;31m \u001b[0mcluster_distance_Unknown\u001b[0m \u001b[0;34m=\u001b[0m \u001b[0mtrain_clusters\u001b[0m\u001b[0;34m.\u001b[0m\u001b[0mfit_transform\u001b[0m\u001b[0;34m(\u001b[0m\u001b[0mun\u001b[0m\u001b[0;34m)\u001b[0m\u001b[0;34m\u001b[0m\u001b[0;34m\u001b[0m\u001b[0m\n\u001b[0m",
      "\u001b[0;31mNameError\u001b[0m: name 'train_clusters' is not defined"
     ]
    }
   ],
   "source": [
    "cluster_distance_Unknown = train_clusters.fit_transform(un)"
   ]
  },
  {
   "cell_type": "code",
   "execution_count": null,
   "id": "6ad65fbc",
   "metadata": {},
   "outputs": [],
   "source": [
    "cluster_distance_un = "
   ]
  }
 ],
 "metadata": {
  "kernelspec": {
   "display_name": "Python 3",
   "language": "python",
   "name": "python3"
  },
  "language_info": {
   "codemirror_mode": {
    "name": "ipython",
    "version": 3
   },
   "file_extension": ".py",
   "mimetype": "text/x-python",
   "name": "python",
   "nbconvert_exporter": "python",
   "pygments_lexer": "ipython3",
   "version": "3.8.8"
  }
 },
 "nbformat": 4,
 "nbformat_minor": 5
}
