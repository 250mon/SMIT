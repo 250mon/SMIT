{
 "cells": [
  {
   "cell_type": "code",
   "execution_count": 1,
   "metadata": {},
   "outputs": [],
   "source": [
    "import pandas as pd\n",
    "import numpy as np\n",
    "import matplotlib.pyplot as plt"
   ]
  },
  {
   "cell_type": "code",
   "execution_count": 2,
   "metadata": {},
   "outputs": [],
   "source": [
    "df=pd.read_excel(\"../data/PM_ML_Data_Final.xlsx\",index_col=\"TestID\")"
   ]
  },
  {
   "cell_type": "code",
   "execution_count": 3,
   "metadata": {},
   "outputs": [
    {
     "data": {
      "text/html": [
       "<div>\n",
       "<style scoped>\n",
       "    .dataframe tbody tr th:only-of-type {\n",
       "        vertical-align: middle;\n",
       "    }\n",
       "\n",
       "    .dataframe tbody tr th {\n",
       "        vertical-align: top;\n",
       "    }\n",
       "\n",
       "    .dataframe thead th {\n",
       "        text-align: right;\n",
       "    }\n",
       "</style>\n",
       "<table border=\"1\" class=\"dataframe\">\n",
       "  <thead>\n",
       "    <tr style=\"text-align: right;\">\n",
       "      <th></th>\n",
       "      <th>WNRD</th>\n",
       "      <th>WNVol</th>\n",
       "      <th>WNNCD</th>\n",
       "      <th>Class</th>\n",
       "    </tr>\n",
       "    <tr>\n",
       "      <th>TestID</th>\n",
       "      <th></th>\n",
       "      <th></th>\n",
       "      <th></th>\n",
       "      <th></th>\n",
       "    </tr>\n",
       "  </thead>\n",
       "  <tbody>\n",
       "    <tr>\n",
       "      <th>1</th>\n",
       "      <td>0.000120</td>\n",
       "      <td>0.012339</td>\n",
       "      <td>0.008525</td>\n",
       "      <td>Similar</td>\n",
       "    </tr>\n",
       "    <tr>\n",
       "      <th>2</th>\n",
       "      <td>0.000120</td>\n",
       "      <td>0.011953</td>\n",
       "      <td>0.008375</td>\n",
       "      <td>Similar</td>\n",
       "    </tr>\n",
       "    <tr>\n",
       "      <th>3</th>\n",
       "      <td>0.000196</td>\n",
       "      <td>0.007618</td>\n",
       "      <td>0.004438</td>\n",
       "      <td>Similar</td>\n",
       "    </tr>\n",
       "    <tr>\n",
       "      <th>4</th>\n",
       "      <td>0.000197</td>\n",
       "      <td>0.007452</td>\n",
       "      <td>0.004424</td>\n",
       "      <td>Similar</td>\n",
       "    </tr>\n",
       "    <tr>\n",
       "      <th>5</th>\n",
       "      <td>0.000162</td>\n",
       "      <td>0.012785</td>\n",
       "      <td>0.009120</td>\n",
       "      <td>Similar</td>\n",
       "    </tr>\n",
       "  </tbody>\n",
       "</table>\n",
       "</div>"
      ],
      "text/plain": [
       "            WNRD     WNVol     WNNCD    Class\n",
       "TestID                                       \n",
       "1       0.000120  0.012339  0.008525  Similar\n",
       "2       0.000120  0.011953  0.008375  Similar\n",
       "3       0.000196  0.007618  0.004438  Similar\n",
       "4       0.000197  0.007452  0.004424  Similar\n",
       "5       0.000162  0.012785  0.009120  Similar"
      ]
     },
     "execution_count": 3,
     "metadata": {},
     "output_type": "execute_result"
    }
   ],
   "source": [
    "df.head()"
   ]
  },
  {
   "cell_type": "code",
   "execution_count": 4,
   "metadata": {},
   "outputs": [],
   "source": [
    "from sklearn.model_selection import train_test_split"
   ]
  },
  {
   "cell_type": "code",
   "execution_count": 6,
   "metadata": {},
   "outputs": [],
   "source": [
    "X=df.drop('Class',axis=1)"
   ]
  },
  {
   "cell_type": "code",
   "execution_count": 7,
   "metadata": {},
   "outputs": [],
   "source": [
    "y=df['Class']"
   ]
  },
  {
   "cell_type": "code",
   "execution_count": 9,
   "metadata": {},
   "outputs": [],
   "source": [
    "X_train,X_test,y_train,y_test=train_test_split(X,y,test_size=0.3,random_state=7)"
   ]
  },
  {
   "cell_type": "code",
   "execution_count": 10,
   "metadata": {},
   "outputs": [],
   "source": [
    "from sklearn.svm import SVC"
   ]
  },
  {
   "cell_type": "code",
   "execution_count": 11,
   "metadata": {},
   "outputs": [],
   "source": [
    "svc_model=SVC()"
   ]
  },
  {
   "cell_type": "code",
   "execution_count": 12,
   "metadata": {},
   "outputs": [
    {
     "data": {
      "text/plain": [
       "SVC()"
      ]
     },
     "execution_count": 12,
     "metadata": {},
     "output_type": "execute_result"
    }
   ],
   "source": [
    "svc_model.fit(X_train,y_train)"
   ]
  },
  {
   "cell_type": "code",
   "execution_count": 13,
   "metadata": {},
   "outputs": [],
   "source": [
    "predictions=svc_model.predict(X_test)"
   ]
  },
  {
   "cell_type": "code",
   "execution_count": 14,
   "metadata": {},
   "outputs": [],
   "source": [
    "from sklearn.metrics import classification_report,confusion_matrix"
   ]
  },
  {
   "cell_type": "code",
   "execution_count": 15,
   "metadata": {},
   "outputs": [
    {
     "name": "stdout",
     "output_type": "stream",
     "text": [
      "              precision    recall  f1-score   support\n",
      "\n",
      "         Day       0.00      0.00      0.00        35\n",
      "   Different       1.00      1.00      1.00        80\n",
      "  Instrument       0.91      0.99      0.95        92\n",
      "         Lab       1.00      0.15      0.27        13\n",
      "     Similar       0.65      1.00      0.79        70\n",
      "\n",
      "    accuracy                           0.84       290\n",
      "   macro avg       0.71      0.63      0.60       290\n",
      "weighted avg       0.77      0.84      0.78       290\n",
      "\n"
     ]
    },
    {
     "name": "stderr",
     "output_type": "stream",
     "text": [
      "C:\\Users\\jksuh\\anaconda3\\lib\\site-packages\\sklearn\\metrics\\_classification.py:1221: UndefinedMetricWarning: Precision and F-score are ill-defined and being set to 0.0 in labels with no predicted samples. Use `zero_division` parameter to control this behavior.\n",
      "  _warn_prf(average, modifier, msg_start, len(result))\n"
     ]
    }
   ],
   "source": [
    "print(classification_report(y_test,predictions))"
   ]
  },
  {
   "cell_type": "code",
   "execution_count": 16,
   "metadata": {},
   "outputs": [
    {
     "name": "stdout",
     "output_type": "stream",
     "text": [
      "[[ 0  0  0  0 35]\n",
      " [ 0 80  0  0  0]\n",
      " [ 0  0 91  0  1]\n",
      " [ 0  0  9  2  2]\n",
      " [ 0  0  0  0 70]]\n"
     ]
    }
   ],
   "source": [
    "print(confusion_matrix(y_test,predictions))"
   ]
  },
  {
   "cell_type": "code",
   "execution_count": 19,
   "metadata": {},
   "outputs": [
    {
     "name": "stdout",
     "output_type": "stream",
     "text": [
      "훈련정확도: 0.849\n"
     ]
    }
   ],
   "source": [
    "print(\"훈련정확도: {:.3f}\".format(svc_model.score(X_train,y_train)))"
   ]
  },
  {
   "cell_type": "code",
   "execution_count": 20,
   "metadata": {},
   "outputs": [
    {
     "name": "stdout",
     "output_type": "stream",
     "text": [
      "예측정확도: 0.838\n"
     ]
    }
   ],
   "source": [
    "print(\"예측정확도: {:.3f}\".format(svc_model.score(X_test,y_test)))"
   ]
  },
  {
   "cell_type": "code",
   "execution_count": 21,
   "metadata": {},
   "outputs": [],
   "source": [
    "un=pd.read_excel(\"../data/PM_ML_Unknown.xlsx\",index_col=\"TestID\")"
   ]
  },
  {
   "cell_type": "code",
   "execution_count": 22,
   "metadata": {},
   "outputs": [],
   "source": [
    "un_prediction=svc_model.predict(un)"
   ]
  },
  {
   "cell_type": "code",
   "execution_count": 23,
   "metadata": {},
   "outputs": [
    {
     "data": {
      "text/plain": [
       "array(['Similar', 'Similar', 'Different', 'Different', 'Lab',\n",
       "       'Instrument', 'Instrument', 'Instrument', 'Similar', 'Similar'],\n",
       "      dtype=object)"
      ]
     },
     "execution_count": 23,
     "metadata": {},
     "output_type": "execute_result"
    }
   ],
   "source": [
    "un_prediction"
   ]
  },
  {
   "cell_type": "code",
   "execution_count": 24,
   "metadata": {},
   "outputs": [],
   "source": [
    "un[\"Predition\"]=un_prediction[:]"
   ]
  },
  {
   "cell_type": "code",
   "execution_count": 25,
   "metadata": {},
   "outputs": [
    {
     "data": {
      "text/html": [
       "<div>\n",
       "<style scoped>\n",
       "    .dataframe tbody tr th:only-of-type {\n",
       "        vertical-align: middle;\n",
       "    }\n",
       "\n",
       "    .dataframe tbody tr th {\n",
       "        vertical-align: top;\n",
       "    }\n",
       "\n",
       "    .dataframe thead th {\n",
       "        text-align: right;\n",
       "    }\n",
       "</style>\n",
       "<table border=\"1\" class=\"dataframe\">\n",
       "  <thead>\n",
       "    <tr style=\"text-align: right;\">\n",
       "      <th></th>\n",
       "      <th>WNRD</th>\n",
       "      <th>WNVol</th>\n",
       "      <th>WNNCD</th>\n",
       "      <th>Predition</th>\n",
       "    </tr>\n",
       "    <tr>\n",
       "      <th>TestID</th>\n",
       "      <th></th>\n",
       "      <th></th>\n",
       "      <th></th>\n",
       "      <th></th>\n",
       "    </tr>\n",
       "  </thead>\n",
       "  <tbody>\n",
       "    <tr>\n",
       "      <th>14</th>\n",
       "      <td>0.000206</td>\n",
       "      <td>0.019164</td>\n",
       "      <td>0.012985</td>\n",
       "      <td>Similar</td>\n",
       "    </tr>\n",
       "    <tr>\n",
       "      <th>70</th>\n",
       "      <td>0.000307</td>\n",
       "      <td>0.008519</td>\n",
       "      <td>0.009125</td>\n",
       "      <td>Similar</td>\n",
       "    </tr>\n",
       "    <tr>\n",
       "      <th>176</th>\n",
       "      <td>0.192594</td>\n",
       "      <td>0.087238</td>\n",
       "      <td>0.208814</td>\n",
       "      <td>Different</td>\n",
       "    </tr>\n",
       "    <tr>\n",
       "      <th>295</th>\n",
       "      <td>0.199662</td>\n",
       "      <td>0.149283</td>\n",
       "      <td>0.246484</td>\n",
       "      <td>Different</td>\n",
       "    </tr>\n",
       "    <tr>\n",
       "      <th>382</th>\n",
       "      <td>0.001103</td>\n",
       "      <td>0.047906</td>\n",
       "      <td>0.036669</td>\n",
       "      <td>Lab</td>\n",
       "    </tr>\n",
       "    <tr>\n",
       "      <th>419</th>\n",
       "      <td>0.002454</td>\n",
       "      <td>0.099070</td>\n",
       "      <td>0.057033</td>\n",
       "      <td>Instrument</td>\n",
       "    </tr>\n",
       "    <tr>\n",
       "      <th>425</th>\n",
       "      <td>0.006560</td>\n",
       "      <td>0.139213</td>\n",
       "      <td>0.094563</td>\n",
       "      <td>Instrument</td>\n",
       "    </tr>\n",
       "    <tr>\n",
       "      <th>723</th>\n",
       "      <td>0.006616</td>\n",
       "      <td>0.149104</td>\n",
       "      <td>0.099622</td>\n",
       "      <td>Instrument</td>\n",
       "    </tr>\n",
       "    <tr>\n",
       "      <th>731</th>\n",
       "      <td>0.000245</td>\n",
       "      <td>0.024575</td>\n",
       "      <td>0.018870</td>\n",
       "      <td>Similar</td>\n",
       "    </tr>\n",
       "    <tr>\n",
       "      <th>833</th>\n",
       "      <td>0.000363</td>\n",
       "      <td>0.010278</td>\n",
       "      <td>0.008227</td>\n",
       "      <td>Similar</td>\n",
       "    </tr>\n",
       "  </tbody>\n",
       "</table>\n",
       "</div>"
      ],
      "text/plain": [
       "            WNRD     WNVol     WNNCD   Predition\n",
       "TestID                                          \n",
       "14      0.000206  0.019164  0.012985     Similar\n",
       "70      0.000307  0.008519  0.009125     Similar\n",
       "176     0.192594  0.087238  0.208814   Different\n",
       "295     0.199662  0.149283  0.246484   Different\n",
       "382     0.001103  0.047906  0.036669         Lab\n",
       "419     0.002454  0.099070  0.057033  Instrument\n",
       "425     0.006560  0.139213  0.094563  Instrument\n",
       "723     0.006616  0.149104  0.099622  Instrument\n",
       "731     0.000245  0.024575  0.018870     Similar\n",
       "833     0.000363  0.010278  0.008227     Similar"
      ]
     },
     "execution_count": 25,
     "metadata": {},
     "output_type": "execute_result"
    }
   ],
   "source": [
    "un"
   ]
  },
  {
   "cell_type": "code",
   "execution_count": 26,
   "metadata": {},
   "outputs": [],
   "source": [
    "un.to_csv(\"../data/PM_ML_SVC_Unknown_Prediction.csv\")"
   ]
  },
  {
   "cell_type": "code",
   "execution_count": null,
   "metadata": {},
   "outputs": [],
   "source": []
  }
 ],
 "metadata": {
  "kernelspec": {
   "display_name": "Python 3",
   "language": "python",
   "name": "python3"
  },
  "language_info": {
   "codemirror_mode": {
    "name": "ipython",
    "version": 3
   },
   "file_extension": ".py",
   "mimetype": "text/x-python",
   "name": "python",
   "nbconvert_exporter": "python",
   "pygments_lexer": "ipython3",
   "version": "3.8.5"
  }
 },
 "nbformat": 4,
 "nbformat_minor": 4
}
