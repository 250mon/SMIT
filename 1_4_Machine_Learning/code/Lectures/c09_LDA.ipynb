{
 "cells": [
  {
   "cell_type": "code",
   "execution_count": 1,
   "metadata": {},
   "outputs": [],
   "source": [
    "import pandas as pd\n",
    "import numpy as np\n",
    "from matplotlib import pyplot as plt"
   ]
  },
  {
   "cell_type": "code",
   "execution_count": 2,
   "metadata": {},
   "outputs": [],
   "source": [
    "data=pd.read_excel(\"../data/PM_ML_Data_Final.xlsx\",index_col=\"TestID\")"
   ]
  },
  {
   "cell_type": "code",
   "execution_count": 3,
   "metadata": {},
   "outputs": [
    {
     "data": {
      "text/html": [
       "<div>\n",
       "<style scoped>\n",
       "    .dataframe tbody tr th:only-of-type {\n",
       "        vertical-align: middle;\n",
       "    }\n",
       "\n",
       "    .dataframe tbody tr th {\n",
       "        vertical-align: top;\n",
       "    }\n",
       "\n",
       "    .dataframe thead th {\n",
       "        text-align: right;\n",
       "    }\n",
       "</style>\n",
       "<table border=\"1\" class=\"dataframe\">\n",
       "  <thead>\n",
       "    <tr style=\"text-align: right;\">\n",
       "      <th></th>\n",
       "      <th>WNRD</th>\n",
       "      <th>WNVol</th>\n",
       "      <th>WNNCD</th>\n",
       "      <th>Class</th>\n",
       "    </tr>\n",
       "    <tr>\n",
       "      <th>TestID</th>\n",
       "      <th></th>\n",
       "      <th></th>\n",
       "      <th></th>\n",
       "      <th></th>\n",
       "    </tr>\n",
       "  </thead>\n",
       "  <tbody>\n",
       "    <tr>\n",
       "      <th>1</th>\n",
       "      <td>0.000120</td>\n",
       "      <td>0.012339</td>\n",
       "      <td>0.008525</td>\n",
       "      <td>Similar</td>\n",
       "    </tr>\n",
       "    <tr>\n",
       "      <th>2</th>\n",
       "      <td>0.000120</td>\n",
       "      <td>0.011953</td>\n",
       "      <td>0.008375</td>\n",
       "      <td>Similar</td>\n",
       "    </tr>\n",
       "    <tr>\n",
       "      <th>3</th>\n",
       "      <td>0.000196</td>\n",
       "      <td>0.007618</td>\n",
       "      <td>0.004438</td>\n",
       "      <td>Similar</td>\n",
       "    </tr>\n",
       "    <tr>\n",
       "      <th>4</th>\n",
       "      <td>0.000197</td>\n",
       "      <td>0.007452</td>\n",
       "      <td>0.004424</td>\n",
       "      <td>Similar</td>\n",
       "    </tr>\n",
       "    <tr>\n",
       "      <th>5</th>\n",
       "      <td>0.000162</td>\n",
       "      <td>0.012785</td>\n",
       "      <td>0.009120</td>\n",
       "      <td>Similar</td>\n",
       "    </tr>\n",
       "  </tbody>\n",
       "</table>\n",
       "</div>"
      ],
      "text/plain": [
       "            WNRD     WNVol     WNNCD    Class\n",
       "TestID                                       \n",
       "1       0.000120  0.012339  0.008525  Similar\n",
       "2       0.000120  0.011953  0.008375  Similar\n",
       "3       0.000196  0.007618  0.004438  Similar\n",
       "4       0.000197  0.007452  0.004424  Similar\n",
       "5       0.000162  0.012785  0.009120  Similar"
      ]
     },
     "execution_count": 3,
     "metadata": {},
     "output_type": "execute_result"
    }
   ],
   "source": [
    "data.head()"
   ]
  },
  {
   "cell_type": "markdown",
   "metadata": {},
   "source": [
    "## Data Split"
   ]
  },
  {
   "cell_type": "code",
   "execution_count": 4,
   "metadata": {},
   "outputs": [],
   "source": [
    "from sklearn.model_selection import train_test_split"
   ]
  },
  {
   "cell_type": "code",
   "execution_count": 5,
   "metadata": {},
   "outputs": [],
   "source": [
    "seed=7"
   ]
  },
  {
   "cell_type": "code",
   "execution_count": 7,
   "metadata": {},
   "outputs": [],
   "source": [
    "X=data.drop('Class',axis=1)\n",
    "y=data['Class']"
   ]
  },
  {
   "cell_type": "code",
   "execution_count": 10,
   "metadata": {},
   "outputs": [],
   "source": [
    "X_train,X_test,y_train,y_test=train_test_split(X,y,test_size=0.3,random_state=seed)"
   ]
  },
  {
   "cell_type": "markdown",
   "metadata": {},
   "source": [
    "## LDA"
   ]
  },
  {
   "cell_type": "code",
   "execution_count": 11,
   "metadata": {},
   "outputs": [],
   "source": [
    "from sklearn.discriminant_analysis import LinearDiscriminantAnalysis as LDA"
   ]
  },
  {
   "cell_type": "code",
   "execution_count": 12,
   "metadata": {},
   "outputs": [],
   "source": [
    "lda=LDA()"
   ]
  },
  {
   "cell_type": "code",
   "execution_count": 13,
   "metadata": {},
   "outputs": [
    {
     "data": {
      "text/plain": [
       "LinearDiscriminantAnalysis()"
      ]
     },
     "execution_count": 13,
     "metadata": {},
     "output_type": "execute_result"
    }
   ],
   "source": [
    "lda.fit(X_train,y_train)"
   ]
  },
  {
   "cell_type": "code",
   "execution_count": 14,
   "metadata": {},
   "outputs": [
    {
     "name": "stdout",
     "output_type": "stream",
     "text": [
      "0.8284023668639053\n"
     ]
    }
   ],
   "source": [
    "print(lda.score(X_train,y_train))"
   ]
  },
  {
   "cell_type": "markdown",
   "metadata": {},
   "source": [
    "## Prediction"
   ]
  },
  {
   "cell_type": "code",
   "execution_count": 15,
   "metadata": {},
   "outputs": [
    {
     "data": {
      "text/plain": [
       "array(['Different', 'Instrument', 'Instrument', 'Similar', 'Different',\n",
       "       'Different', 'Different', 'Instrument', 'Different', 'Similar',\n",
       "       'Instrument', 'Similar', 'Instrument', 'Instrument', 'Similar',\n",
       "       'Instrument', 'Different', 'Instrument', 'Similar', 'Similar',\n",
       "       'Similar', 'Instrument', 'Similar', 'Similar', 'Similar',\n",
       "       'Instrument', 'Different', 'Day', 'Different', 'Different',\n",
       "       'Different', 'Similar', 'Similar', 'Similar', 'Similar',\n",
       "       'Different', 'Instrument', 'Similar', 'Similar', 'Different',\n",
       "       'Similar', 'Similar', 'Similar', 'Similar', 'Instrument',\n",
       "       'Instrument', 'Similar', 'Different', 'Instrument', 'Instrument',\n",
       "       'Different', 'Similar', 'Similar', 'Similar', 'Similar',\n",
       "       'Instrument', 'Different', 'Instrument', 'Different', 'Similar',\n",
       "       'Different', 'Different', 'Instrument', 'Instrument', 'Similar',\n",
       "       'Instrument', 'Instrument', 'Instrument', 'Instrument',\n",
       "       'Instrument', 'Similar', 'Different', 'Instrument', 'Instrument',\n",
       "       'Similar', 'Similar', 'Instrument', 'Similar', 'Different',\n",
       "       'Similar', 'Instrument', 'Instrument', 'Instrument', 'Instrument',\n",
       "       'Instrument', 'Similar', 'Instrument', 'Different', 'Instrument',\n",
       "       'Instrument', 'Similar', 'Instrument', 'Instrument', 'Lab',\n",
       "       'Instrument', 'Similar', 'Instrument', 'Different', 'Similar',\n",
       "       'Lab', 'Similar', 'Similar', 'Different', 'Instrument',\n",
       "       'Instrument', 'Similar', 'Similar', 'Similar', 'Similar',\n",
       "       'Similar', 'Instrument', 'Instrument', 'Instrument', 'Different',\n",
       "       'Different', 'Instrument', 'Similar', 'Different', 'Similar',\n",
       "       'Similar', 'Different', 'Lab', 'Instrument', 'Instrument',\n",
       "       'Instrument', 'Different', 'Similar', 'Instrument', 'Similar',\n",
       "       'Similar', 'Instrument', 'Similar', 'Different', 'Similar',\n",
       "       'Instrument', 'Different', 'Instrument', 'Similar', 'Lab',\n",
       "       'Instrument', 'Similar', 'Similar', 'Different', 'Similar', 'Lab',\n",
       "       'Different', 'Instrument', 'Instrument', 'Instrument', 'Similar',\n",
       "       'Instrument', 'Different', 'Instrument', 'Instrument', 'Different',\n",
       "       'Similar', 'Different', 'Different', 'Similar', 'Similar',\n",
       "       'Similar', 'Instrument', 'Lab', 'Instrument', 'Different',\n",
       "       'Different', 'Instrument', 'Similar', 'Similar', 'Similar',\n",
       "       'Different', 'Similar', 'Instrument', 'Instrument', 'Different',\n",
       "       'Different', 'Similar', 'Different', 'Different', 'Instrument',\n",
       "       'Similar', 'Different', 'Lab', 'Lab', 'Similar', 'Instrument',\n",
       "       'Instrument', 'Instrument', 'Lab', 'Similar', 'Instrument',\n",
       "       'Instrument', 'Different', 'Instrument', 'Instrument', 'Similar',\n",
       "       'Different', 'Lab', 'Instrument', 'Similar', 'Different',\n",
       "       'Similar', 'Instrument', 'Instrument', 'Different', 'Different',\n",
       "       'Different', 'Similar', 'Similar', 'Similar', 'Different',\n",
       "       'Instrument', 'Instrument', 'Similar', 'Similar', 'Different',\n",
       "       'Instrument', 'Different', 'Different', 'Instrument', 'Different',\n",
       "       'Different', 'Instrument', 'Similar', 'Different', 'Similar',\n",
       "       'Different', 'Instrument', 'Different', 'Similar', 'Lab',\n",
       "       'Different', 'Instrument', 'Similar', 'Lab', 'Similar',\n",
       "       'Different', 'Similar', 'Similar', 'Instrument', 'Instrument',\n",
       "       'Similar', 'Instrument', 'Similar', 'Different', 'Different',\n",
       "       'Similar', 'Instrument', 'Different', 'Lab', 'Instrument',\n",
       "       'Different', 'Similar', 'Similar', 'Different', 'Instrument',\n",
       "       'Similar', 'Similar', 'Similar', 'Instrument', 'Similar',\n",
       "       'Similar', 'Similar', 'Lab', 'Similar', 'Instrument', 'Similar',\n",
       "       'Similar', 'Similar', 'Instrument', 'Different', 'Different',\n",
       "       'Similar', 'Instrument', 'Similar', 'Instrument', 'Similar',\n",
       "       'Instrument', 'Similar', 'Instrument', 'Different', 'Similar',\n",
       "       'Similar', 'Instrument', 'Similar', 'Similar', 'Different',\n",
       "       'Different', 'Similar', 'Instrument'], dtype='<U10')"
      ]
     },
     "execution_count": 15,
     "metadata": {},
     "output_type": "execute_result"
    }
   ],
   "source": [
    "lda.predict(X_test)"
   ]
  },
  {
   "cell_type": "markdown",
   "metadata": {},
   "source": [
    "## Evaluation"
   ]
  },
  {
   "cell_type": "code",
   "execution_count": 19,
   "metadata": {},
   "outputs": [],
   "source": [
    "predictions=lda.predict(X_test)"
   ]
  },
  {
   "cell_type": "code",
   "execution_count": 20,
   "metadata": {},
   "outputs": [],
   "source": [
    "from sklearn.metrics import classification_report,confusion_matrix"
   ]
  },
  {
   "cell_type": "code",
   "execution_count": 21,
   "metadata": {},
   "outputs": [
    {
     "name": "stdout",
     "output_type": "stream",
     "text": [
      "              precision    recall  f1-score   support\n",
      "\n",
      "         Day       0.00      0.00      0.00        35\n",
      "   Different       1.00      0.89      0.94        80\n",
      "  Instrument       0.88      0.92      0.90        92\n",
      "         Lab       0.57      0.62      0.59        13\n",
      "     Similar       0.65      1.00      0.79        70\n",
      "\n",
      "    accuracy                           0.81       290\n",
      "   macro avg       0.62      0.69      0.64       290\n",
      "weighted avg       0.74      0.81      0.76       290\n",
      "\n"
     ]
    }
   ],
   "source": [
    "print(classification_report(y_test,predictions))"
   ]
  },
  {
   "cell_type": "code",
   "execution_count": 22,
   "metadata": {},
   "outputs": [
    {
     "name": "stdout",
     "output_type": "stream",
     "text": [
      "[[ 0  0  0  0 35]\n",
      " [ 0 71  9  0  0]\n",
      " [ 0  0 85  6  1]\n",
      " [ 1  0  3  8  1]\n",
      " [ 0  0  0  0 70]]\n"
     ]
    }
   ],
   "source": [
    "print(confusion_matrix(y_test,predictions))"
   ]
  },
  {
   "cell_type": "code",
   "execution_count": null,
   "metadata": {},
   "outputs": [],
   "source": []
  }
 ],
 "metadata": {
  "kernelspec": {
   "display_name": "Python 3",
   "language": "python",
   "name": "python3"
  },
  "language_info": {
   "codemirror_mode": {
    "name": "ipython",
    "version": 3
   },
   "file_extension": ".py",
   "mimetype": "text/x-python",
   "name": "python",
   "nbconvert_exporter": "python",
   "pygments_lexer": "ipython3",
   "version": "3.8.5"
  }
 },
 "nbformat": 4,
 "nbformat_minor": 4
}
