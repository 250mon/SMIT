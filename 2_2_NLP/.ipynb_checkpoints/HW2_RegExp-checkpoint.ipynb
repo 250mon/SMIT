{
 "cells": [
  {
   "cell_type": "code",
   "execution_count": 1,
   "id": "d994c439",
   "metadata": {},
   "outputs": [],
   "source": [
    "import re"
   ]
  },
  {
   "cell_type": "code",
   "execution_count": 5,
   "id": "97562edc",
   "metadata": {},
   "outputs": [
    {
     "name": "stdout",
     "output_type": "stream",
     "text": [
      "found  world:cat\n"
     ]
    }
   ],
   "source": [
    "str = 'my test world:cat!'\n",
    "match = re.search(\"\\w+:\\w+\", str)\n",
    "print('found ', match.group())"
   ]
  },
  {
   "cell_type": "code",
   "execution_count": 15,
   "id": "de0e0d89",
   "metadata": {},
   "outputs": [
    {
     "name": "stdout",
     "output_type": "stream",
     "text": [
      "bcd\n"
     ]
    }
   ],
   "source": [
    "match = re.search('[b-d]+', '@@bcdef!!') #match.group() = “bcd”\n",
    "print(match.group())"
   ]
  },
  {
   "cell_type": "code",
   "execution_count": 19,
   "id": "16fde12a",
   "metadata": {},
   "outputs": [
    {
     "name": "stdout",
     "output_type": "stream",
     "text": [
      "1 2  4\n"
     ]
    }
   ],
   "source": [
    "match = re.search('[1-4 ]+','yy1 2  4yy') # found, match.group() == \"1 2  4\"\n",
    "print(match.group())"
   ]
  },
  {
   "cell_type": "code",
   "execution_count": 22,
   "id": "9f077f1f",
   "metadata": {},
   "outputs": [
    {
     "name": "stdout",
     "output_type": "stream",
     "text": [
      "12  4\n"
     ]
    }
   ],
   "source": [
    "match = re.search('(\\d+\\s*)+','yy12  4yy') # found, match.group() == \"12  4\"\n",
    "print(match.group())"
   ]
  },
  {
   "cell_type": "code",
   "execution_count": 24,
   "id": "2228683b",
   "metadata": {},
   "outputs": [
    {
     "name": "stdout",
     "output_type": "stream",
     "text": [
      "124\n"
     ]
    }
   ],
   "source": [
    "match = re.search('\\d{3}','yy124yy') # found, match.group() == \"124\"\n",
    "print(match.group())"
   ]
  },
  {
   "cell_type": "code",
   "execution_count": 27,
   "id": "9eae9dce",
   "metadata": {},
   "outputs": [
    {
     "name": "stdout",
     "output_type": "stream",
     "text": [
      "\n"
     ]
    }
   ],
   "source": [
    "match = re.search('', 'foobar') # not found, match == None\n",
    "print(match.group())"
   ]
  },
  {
   "cell_type": "code",
   "execution_count": 28,
   "id": "87a1af01",
   "metadata": {},
   "outputs": [
    {
     "name": "stdout",
     "output_type": "stream",
     "text": [
      "bar\n"
     ]
    }
   ],
   "source": [
    "match = re.search('b\\w+', 'foobar') # not found, match == None\n",
    "print(match.group())"
   ]
  },
  {
   "cell_type": "code",
   "execution_count": null,
   "id": "31f786e9",
   "metadata": {},
   "outputs": [],
   "source": []
  }
 ],
 "metadata": {
  "kernelspec": {
   "display_name": "Python 3",
   "language": "python",
   "name": "python3"
  },
  "language_info": {
   "codemirror_mode": {
    "name": "ipython",
    "version": 3
   },
   "file_extension": ".py",
   "mimetype": "text/x-python",
   "name": "python",
   "nbconvert_exporter": "python",
   "pygments_lexer": "ipython3",
   "version": "3.7.10"
  }
 },
 "nbformat": 4,
 "nbformat_minor": 5
}
