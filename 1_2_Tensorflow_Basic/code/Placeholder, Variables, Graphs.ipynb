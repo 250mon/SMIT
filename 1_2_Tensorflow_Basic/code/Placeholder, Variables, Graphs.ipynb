{
 "cells": [
  {
   "cell_type": "code",
   "execution_count": 37,
   "id": "93708c10",
   "metadata": {},
   "outputs": [],
   "source": [
    "import tensorflow.compat.v1 as tf\n",
    "\n",
    "tf.disable_eager_execution()"
   ]
  },
  {
   "cell_type": "code",
   "execution_count": 38,
   "id": "d1f75ee6",
   "metadata": {},
   "outputs": [
    {
     "name": "stdout",
     "output_type": "stream",
     "text": [
      "Exception reporting mode: Plain\n"
     ]
    }
   ],
   "source": [
    "%xmode plain"
   ]
  },
  {
   "cell_type": "markdown",
   "id": "d8e6c1cf",
   "metadata": {},
   "source": [
    "## Variables"
   ]
  },
  {
   "cell_type": "code",
   "execution_count": 17,
   "id": "4956ad3a",
   "metadata": {},
   "outputs": [
    {
     "name": "stdout",
     "output_type": "stream",
     "text": [
      "Final result: Wx + b =  [ 30. 410.]\n"
     ]
    }
   ],
   "source": [
    "# here W is a Variable\n",
    "W = tf.Variable([2.5, 4.0], tf.float32, name='var_W')\n",
    "x = tf.placeholder(tf.float32, name='x')\n",
    "# b is also a variable with initial value 5 and 10\n",
    "b = tf.Variable([5.0, 10.0], tf.float32, name='var_b')\n",
    "y = W * x + b\n",
    "\n",
    "# initialize all variables defined\n",
    "init = tf.global_variables_initializer()\n",
    "# use 'with' statement to instantiate and assign a session\n",
    "with tf.Session() as sess:\n",
    "    sess.run(init)\n",
    "    # this computation is required to initialize the variable\n",
    "    print(\"Final result: Wx + b = \", sess.run(y, feed_dict={x: [10,100]}))"
   ]
  },
  {
   "cell_type": "code",
   "execution_count": 5,
   "id": "df4bc537",
   "metadata": {},
   "outputs": [
    {
     "data": {
      "text/plain": [
       "<tf.Variable 'var_W_1:0' shape=(2,) dtype=float32>"
      ]
     },
     "execution_count": 5,
     "metadata": {},
     "output_type": "execute_result"
    }
   ],
   "source": [
    "W"
   ]
  },
  {
   "cell_type": "markdown",
   "id": "acba8f3e",
   "metadata": {},
   "source": [
    "## Multiple graphs"
   ]
  },
  {
   "cell_type": "markdown",
   "id": "787df37a",
   "metadata": {},
   "source": [
    "## `as_default()`\n",
    "Returns a context manager that makes this Graph the default graph.\n",
    "\n",
    "This method should be used if you want to create multiple graphs in the same process. For convenience, a global default graph is provided, and all ops will be added to this graph if you do not create a new graph explicitly.\n",
    "\n",
    "Use this method with the with keyword to specify that ops created within the scope of a block should be added to this graph. In this case, once the scope of the with is exited, the previous default graph is set again as default. There is a stack, so it's ok to have multiple nested levels of as_default calls.\n",
    "\n",
    "The default graph is a property of the current thread. If you create a new thread, and wish to use the default graph in that thread, you must explicitly add a with `g.as_default()`: in that thread's function.\n",
    "\n",
    "The following code examples are equivalent:\n",
    "\n",
    "\n",
    "### 1. Using Graph.as_default():\n",
    "```python\n",
    "g = tf.Graph()\n",
    "with g.as_default():\n",
    "  c = tf.constant(5.0)\n",
    "  assert c.graph is g\n",
    "```\n",
    "\n",
    "### 2. Constructing and making default:\n",
    "```python\n",
    "with tf.Graph().as_default() as g:\n",
    "  c = tf.constant(5.0)\n",
    "  assert c.graph is g\n",
    "```\n",
    "If eager execution is enabled ops created under this context manager will be added to the graph instead of executed eagerly."
   ]
  },
  {
   "cell_type": "code",
   "execution_count": 30,
   "id": "bbb80b86",
   "metadata": {},
   "outputs": [
    {
     "name": "stdout",
     "output_type": "stream",
     "text": [
      "[ 53 704]\n"
     ]
    }
   ],
   "source": [
    "g1 = tf.Graph()\n",
    "with g1.as_default():\n",
    "    with tf.Session() as sess:\n",
    "        A = tf.constant([5,7],tf.int32, name='A')\n",
    "        x = tf.placehoalder(tf.int32, name='x')\n",
    "        b = tf.constant([3,4],tf.int32, name='b')\n",
    "        y = A * x + b\n",
    "        print(sess.run(y, feed_dict={x: [10, 100]}))\n",
    "assert y.graph is g1"
   ]
  },
  {
   "cell_type": "code",
   "execution_count": 57,
   "id": "7efe28cf",
   "metadata": {},
   "outputs": [
    {
     "data": {
      "text/plain": [
       "(<tf.Tensor 'A_8:0' shape=(2,) dtype=int32>,\n",
       " <tf.Tensor 'x_11:0' shape=<unknown> dtype=int32>,\n",
       " <tf.Tensor 'b_8:0' shape=(2,) dtype=int32>)"
      ]
     },
     "execution_count": 57,
     "metadata": {},
     "output_type": "execute_result"
    }
   ],
   "source": [
    "A = tf.constant([5,7],tf.int32, name='A')\n",
    "x = tf.placeholder(tf.int32, name='x')\n",
    "b = tf.constant([3,4],tf.int32, name='b')\n",
    "A, x, b"
   ]
  },
  {
   "cell_type": "code",
   "execution_count": 64,
   "id": "b6ea8896",
   "metadata": {},
   "outputs": [
    {
     "data": {
      "text/plain": [
       "<tf.Tensor 'A_8:0' shape=(2,) dtype=int32>"
      ]
     },
     "execution_count": 64,
     "metadata": {},
     "output_type": "execute_result"
    }
   ],
   "source": [
    "#default_graph\n",
    "default_graph.get_tensor_by_name('A_8:0') # op_name: index"
   ]
  },
  {
   "cell_type": "code",
   "execution_count": 48,
   "id": "0b22a051",
   "metadata": {},
   "outputs": [
    {
     "ename": "RuntimeError",
     "evalue": "The Session graph is empty.  Add operations to the graph before calling run().",
     "output_type": "error",
     "traceback": [
      "Traceback \u001b[1;36m(most recent call last)\u001b[0m:\n",
      "  File \u001b[0;32m\"<ipython-input-48-97a7ae643a83>\"\u001b[0m, line \u001b[0;32m12\u001b[0m, in \u001b[0;35m<module>\u001b[0m\n    print(sess.run(y, feed_dict={x: [10, 100]}))\n",
      "  File \u001b[0;32m\"E:\\anaconda3\\envs\\shared_smit\\lib\\site-packages\\tensorflow\\python\\client\\session.py\"\u001b[0m, line \u001b[0;32m957\u001b[0m, in \u001b[0;35mrun\u001b[0m\n    result = self._run(None, fetches, feed_dict, options_ptr,\n",
      "\u001b[1;36m  File \u001b[1;32m\"E:\\anaconda3\\envs\\shared_smit\\lib\\site-packages\\tensorflow\\python\\client\\session.py\"\u001b[1;36m, line \u001b[1;32m1106\u001b[1;36m, in \u001b[1;35m_run\u001b[1;36m\u001b[0m\n\u001b[1;33m    raise RuntimeError('The Session graph is empty.  Add operations to the '\u001b[0m\n",
      "\u001b[1;31mRuntimeError\u001b[0m\u001b[1;31m:\u001b[0m The Session graph is empty.  Add operations to the graph before calling run().\n"
     ]
    }
   ],
   "source": [
    "g1 = tf.Graph()\n",
    "with g1.as_default():\n",
    "    sess = tf.Session()\n",
    "#     A = tf.constant([5,7],tf.int32, name='A')\n",
    "#     x = tf.placeholder(tf.int32, name='x')\n",
    "#     b = tf.constant([3,4],tf.int32, name='b')\n",
    "    y = A * x + b\n",
    "    print(sess.run(y, feed_dict={x: [10, 100]}))"
   ]
  },
  {
   "cell_type": "code",
   "execution_count": 70,
   "id": "d32c002c",
   "metadata": {},
   "outputs": [
    {
     "name": "stdout",
     "output_type": "stream",
     "text": [
      "[  125 16807]\n"
     ]
    }
   ],
   "source": [
    "g2 = tf.Graph()\n",
    "with g2.as_default():\n",
    "    with tf.Session() as sess:\n",
    "        A = tf.constant([5,7],tf.int32, name='A')\n",
    "        x = tf.placeholder(tf.int32, name='x')\n",
    "        y = tf.pow(A, x, name='y')\n",
    "        print( sess.run(y, feed_dict={x: [3, 5]}))\n",
    "assert y.graph is g2"
   ]
  },
  {
   "cell_type": "code",
   "execution_count": 71,
   "id": "1beed433",
   "metadata": {},
   "outputs": [
    {
     "data": {
      "text/plain": [
       "(<tf.Tensor 'A:0' shape=(2,) dtype=int32>,\n",
       " <tf.Tensor 'x:0' shape=<unknown> dtype=int32>,\n",
       " <tf.Tensor 'y:0' shape=<unknown> dtype=int32>)"
      ]
     },
     "execution_count": 71,
     "metadata": {},
     "output_type": "execute_result"
    }
   ],
   "source": [
    "A, x, y"
   ]
  },
  {
   "cell_type": "code",
   "execution_count": 72,
   "id": "52bdac05",
   "metadata": {},
   "outputs": [
    {
     "ename": "AssertionError",
     "evalue": "",
     "output_type": "error",
     "traceback": [
      "Traceback \u001b[1;36m(most recent call last)\u001b[0m:\n",
      "\u001b[1;36m  File \u001b[1;32m\"<ipython-input-72-2c159d32eda5>\"\u001b[1;36m, line \u001b[1;32m2\u001b[1;36m, in \u001b[1;35m<module>\u001b[1;36m\u001b[0m\n\u001b[1;33m    assert default_graph is g2\u001b[0m\n",
      "\u001b[1;31mAssertionError\u001b[0m\n"
     ]
    }
   ],
   "source": [
    "default_graph = tf.get_default_graph()\n",
    "assert default_graph is g2"
   ]
  },
  {
   "cell_type": "code",
   "execution_count": 67,
   "id": "d5ad0c05",
   "metadata": {},
   "outputs": [
    {
     "ename": "TypeError",
     "evalue": "Input 'y' of 'AddV2' Op has type float32 that does not match type int32 of argument 'x'.",
     "output_type": "error",
     "traceback": [
      "Traceback \u001b[1;36m(most recent call last)\u001b[0m:\n",
      "  File \u001b[0;32m\"E:\\anaconda3\\envs\\shared_smit\\lib\\site-packages\\tensorflow\\python\\ops\\math_ops.py\"\u001b[0m, line \u001b[0;32m1136\u001b[0m, in \u001b[0;35mbinary_op_wrapper\u001b[0m\n    out = r_op(x)\n",
      "  File \u001b[0;32m\"E:\\anaconda3\\envs\\shared_smit\\lib\\site-packages\\tensorflow\\python\\ops\\math_ops.py\"\u001b[0m, line \u001b[0;32m1155\u001b[0m, in \u001b[0;35mr_binary_op_wrapper\u001b[0m\n    x = ops.convert_to_tensor(x, dtype=y.dtype.base_dtype, name=\"x\")\n",
      "\u001b[1;36m  File \u001b[1;32m\"E:\\anaconda3\\envs\\shared_smit\\lib\\site-packages\\tensorflow\\python\\framework\\ops.py\"\u001b[1;36m, line \u001b[1;32m1473\u001b[1;36m, in \u001b[1;35mconvert_to_tensor\u001b[1;36m\u001b[0m\n\u001b[1;33m    raise ValueError(\u001b[0m\n",
      "\u001b[1;31mValueError\u001b[0m\u001b[1;31m:\u001b[0m Tensor conversion requested dtype float32 for Tensor with dtype int32: <tf.Tensor 'A:0' shape=(2,) dtype=int32>\n",
      "\nDuring handling of the above exception, another exception occurred:\n",
      "Traceback \u001b[1;36m(most recent call last)\u001b[0m:\n",
      "  File \u001b[0;32m\"<ipython-input-67-2d644b6517eb>\"\u001b[0m, line \u001b[0;32m7\u001b[0m, in \u001b[0;35m<module>\u001b[0m\n    y = A + x\n",
      "  File \u001b[0;32m\"E:\\anaconda3\\envs\\shared_smit\\lib\\site-packages\\tensorflow\\python\\ops\\math_ops.py\"\u001b[0m, line \u001b[0;32m1141\u001b[0m, in \u001b[0;35mbinary_op_wrapper\u001b[0m\n    raise e\n",
      "  File \u001b[0;32m\"E:\\anaconda3\\envs\\shared_smit\\lib\\site-packages\\tensorflow\\python\\ops\\math_ops.py\"\u001b[0m, line \u001b[0;32m1125\u001b[0m, in \u001b[0;35mbinary_op_wrapper\u001b[0m\n    return func(x, y, name=name)\n",
      "  File \u001b[0;32m\"E:\\anaconda3\\envs\\shared_smit\\lib\\site-packages\\tensorflow\\python\\util\\dispatch.py\"\u001b[0m, line \u001b[0;32m201\u001b[0m, in \u001b[0;35mwrapper\u001b[0m\n    return target(*args, **kwargs)\n",
      "  File \u001b[0;32m\"E:\\anaconda3\\envs\\shared_smit\\lib\\site-packages\\tensorflow\\python\\ops\\math_ops.py\"\u001b[0m, line \u001b[0;32m1447\u001b[0m, in \u001b[0;35m_add_dispatch\u001b[0m\n    return gen_math_ops.add_v2(x, y, name=name)\n",
      "  File \u001b[0;32m\"E:\\anaconda3\\envs\\shared_smit\\lib\\site-packages\\tensorflow\\python\\ops\\gen_math_ops.py\"\u001b[0m, line \u001b[0;32m494\u001b[0m, in \u001b[0;35madd_v2\u001b[0m\n    _, _, _op, _outputs = _op_def_library._apply_op_helper(\n",
      "\u001b[1;36m  File \u001b[1;32m\"E:\\anaconda3\\envs\\shared_smit\\lib\\site-packages\\tensorflow\\python\\framework\\op_def_library.py\"\u001b[1;36m, line \u001b[1;32m503\u001b[1;36m, in \u001b[1;35m_apply_op_helper\u001b[1;36m\u001b[0m\n\u001b[1;33m    raise TypeError(\u001b[0m\n",
      "\u001b[1;31mTypeError\u001b[0m\u001b[1;31m:\u001b[0m Input 'y' of 'AddV2' Op has type float32 that does not match type int32 of argument 'x'.\n"
     ]
    }
   ],
   "source": [
    "with tf.Session() as sess:\n",
    "    A = default_graph.get_tensor_by_name('A:0')\n",
    "    x = default_graph.get_tensor_by_name('x:0')\n",
    "#     A = tf.constant([5,7], tf.int32, name='A')\n",
    "#     x = tf.placeholder(tf.int32, name='x')\n",
    "    y = A + x\n",
    "    print(sess.run(y, feed_dict={x: [3, 5]}))\n",
    "assert y.graph is default_graph"
   ]
  },
  {
   "cell_type": "code",
   "execution_count": null,
   "id": "10a5ec89",
   "metadata": {},
   "outputs": [],
   "source": []
  }
 ],
 "metadata": {
  "kernelspec": {
   "display_name": "Python 3",
   "language": "python",
   "name": "python3"
  },
  "language_info": {
   "codemirror_mode": {
    "name": "ipython",
    "version": 3
   },
   "file_extension": ".py",
   "mimetype": "text/x-python",
   "name": "python",
   "nbconvert_exporter": "python",
   "pygments_lexer": "ipython3",
   "version": "3.8.8"
  }
 },
 "nbformat": 4,
 "nbformat_minor": 5
}
