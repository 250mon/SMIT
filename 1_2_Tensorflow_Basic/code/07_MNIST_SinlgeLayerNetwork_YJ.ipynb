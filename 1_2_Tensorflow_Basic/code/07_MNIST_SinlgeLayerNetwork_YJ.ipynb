{
 "cells": [
  {
   "cell_type": "markdown",
   "metadata": {
    "id": "rGLLnOIevnj5"
   },
   "source": [
    "**[MSE-01]** 모듈을 임포트하고 난수의 시드를 설정한다."
   ]
  },
  {
   "cell_type": "code",
   "execution_count": 1,
   "metadata": {
    "colab": {
     "base_uri": "https://localhost:8080/"
    },
    "id": "1JsQeccwvnj8",
    "outputId": "4759fbae-68bc-4f89-c2a5-7824abf1538d"
   },
   "outputs": [
    {
     "name": "stdout",
     "output_type": "stream",
     "text": [
      "TensorFlow 1.x selected.\n"
     ]
    }
   ],
   "source": [
    "%tensorflow_version 1.x\n",
    "\n",
    "import tensorflow as tf\n",
    "import numpy as np\n",
    "import matplotlib.pyplot as plt\n",
    "from tensorflow.examples.tutorials.mnist import input_data\n",
    "\n",
    "np.random.seed(20160604)"
   ]
  },
  {
   "cell_type": "markdown",
   "metadata": {
    "id": "AO5G2WhFvnkA"
   },
   "source": [
    "**[MSE-02]** MNIST 데이터 세트를 준비한다."
   ]
  },
  {
   "cell_type": "code",
   "execution_count": 2,
   "metadata": {
    "colab": {
     "base_uri": "https://localhost:8080/"
    },
    "id": "QC9upljdvnkB",
    "outputId": "f4fce24f-d2c1-4c08-f7ce-ced5522969a2"
   },
   "outputs": [
    {
     "name": "stdout",
     "output_type": "stream",
     "text": [
      "WARNING:tensorflow:From <ipython-input-2-d651cc53d7d8>:1: read_data_sets (from tensorflow.contrib.learn.python.learn.datasets.mnist) is deprecated and will be removed in a future version.\n",
      "Instructions for updating:\n",
      "Please use alternatives such as official/mnist/dataset.py from tensorflow/models.\n",
      "WARNING:tensorflow:From /tensorflow-1.15.2/python3.7/tensorflow_core/contrib/learn/python/learn/datasets/mnist.py:260: maybe_download (from tensorflow.contrib.learn.python.learn.datasets.base) is deprecated and will be removed in a future version.\n",
      "Instructions for updating:\n",
      "Please write your own downloading logic.\n",
      "WARNING:tensorflow:From /tensorflow-1.15.2/python3.7/tensorflow_core/contrib/learn/python/learn/datasets/base.py:252: _internal_retry.<locals>.wrap.<locals>.wrapped_fn (from tensorflow.contrib.learn.python.learn.datasets.base) is deprecated and will be removed in a future version.\n",
      "Instructions for updating:\n",
      "Please use urllib or similar directly.\n",
      "Successfully downloaded train-images-idx3-ubyte.gz 9912422 bytes.\n",
      "WARNING:tensorflow:From /tensorflow-1.15.2/python3.7/tensorflow_core/contrib/learn/python/learn/datasets/mnist.py:262: extract_images (from tensorflow.contrib.learn.python.learn.datasets.mnist) is deprecated and will be removed in a future version.\n",
      "Instructions for updating:\n",
      "Please use tf.data to implement this functionality.\n",
      "Extracting /tmp/data/train-images-idx3-ubyte.gz\n",
      "Successfully downloaded train-labels-idx1-ubyte.gz 28881 bytes.\n",
      "WARNING:tensorflow:From /tensorflow-1.15.2/python3.7/tensorflow_core/contrib/learn/python/learn/datasets/mnist.py:267: extract_labels (from tensorflow.contrib.learn.python.learn.datasets.mnist) is deprecated and will be removed in a future version.\n",
      "Instructions for updating:\n",
      "Please use tf.data to implement this functionality.\n",
      "Extracting /tmp/data/train-labels-idx1-ubyte.gz\n",
      "WARNING:tensorflow:From /tensorflow-1.15.2/python3.7/tensorflow_core/contrib/learn/python/learn/datasets/mnist.py:110: dense_to_one_hot (from tensorflow.contrib.learn.python.learn.datasets.mnist) is deprecated and will be removed in a future version.\n",
      "Instructions for updating:\n",
      "Please use tf.one_hot on tensors.\n",
      "Successfully downloaded t10k-images-idx3-ubyte.gz 1648877 bytes.\n",
      "Extracting /tmp/data/t10k-images-idx3-ubyte.gz\n",
      "Successfully downloaded t10k-labels-idx1-ubyte.gz 4542 bytes.\n",
      "Extracting /tmp/data/t10k-labels-idx1-ubyte.gz\n",
      "WARNING:tensorflow:From /tensorflow-1.15.2/python3.7/tensorflow_core/contrib/learn/python/learn/datasets/mnist.py:290: DataSet.__init__ (from tensorflow.contrib.learn.python.learn.datasets.mnist) is deprecated and will be removed in a future version.\n",
      "Instructions for updating:\n",
      "Please use alternatives such as official/mnist/dataset.py from tensorflow/models.\n"
     ]
    }
   ],
   "source": [
    "mnist = input_data.read_data_sets(\"/tmp/data/\", one_hot=True)"
   ]
  },
  {
   "cell_type": "markdown",
   "metadata": {
    "id": "WZw8fb_gvnkH"
   },
   "source": [
    "**[MSE-03]** 소프트맥스 함수에 의한 확률 p 계산식을 준비한다."
   ]
  },
  {
   "cell_type": "code",
   "execution_count": 3,
   "metadata": {
    "id": "ZEJu8BxTvnkI"
   },
   "outputs": [],
   "source": [
    "num_units = 1024\n",
    "\n",
    "x = tf.placeholder(tf.float32, [None, 784])\n",
    "\n",
    "w1 = tf.Variable(tf.truncated_normal([784, num_units]))\n",
    "b1 = tf.Variable(tf.zeros([num_units]))\n",
    "hidden1 = tf.nn.relu(tf.matmul(x, w1) + b1)\n",
    "\n",
    "w0 = tf.Variable(tf.zeros([num_units, 10]))\n",
    "b0 = tf.Variable(tf.zeros([10]))\n",
    "p = tf.nn.softmax(tf.matmul(hidden1, w0) + b0)"
   ]
  },
  {
   "cell_type": "markdown",
   "metadata": {
    "id": "VsFMUjKXvnkM"
   },
   "source": [
    "**[MSE-04]** 오차 함수 loss와 트레이닝 알고리즘 train_step을 준비한다."
   ]
  },
  {
   "cell_type": "code",
   "execution_count": 4,
   "metadata": {
    "id": "uev9KEDjvnkM"
   },
   "outputs": [],
   "source": [
    "t = tf.placeholder(tf.float32, [None, 10])\n",
    "#loss = -tf.reduce_sum(t * tf.log(p)) \n",
    "loss =  tf.reduce_mean(tf.nn.softmax_cross_entropy_with_logits_v2(logits=p, labels=tf.stop_gradient(t)))\n",
    "train_step = tf.train.AdamOptimizer().minimize(loss)"
   ]
  },
  {
   "cell_type": "markdown",
   "metadata": {
    "id": "dxDd0GwLvnkP"
   },
   "source": [
    "**[MSE-05]** 정답률 accuracy를 정의한다."
   ]
  },
  {
   "cell_type": "code",
   "execution_count": 5,
   "metadata": {
    "id": "Z_s8vY82vnkQ"
   },
   "outputs": [],
   "source": [
    "correct_prediction = tf.equal(tf.argmax(p, 1), tf.argmax(t, 1))\n",
    "accuracy = tf.reduce_mean(tf.cast(correct_prediction, tf.float32))"
   ]
  },
  {
   "cell_type": "markdown",
   "metadata": {
    "id": "Mbybk4XqvnkT"
   },
   "source": [
    "**[MSE-06]** 세션을 준비하고 Variable을 초기화한다."
   ]
  },
  {
   "cell_type": "code",
   "execution_count": 6,
   "metadata": {
    "id": "Wcr8GxYTvnkU"
   },
   "outputs": [],
   "source": [
    "sess = tf.InteractiveSession()\n",
    "sess.run(tf.global_variables_initializer())"
   ]
  },
  {
   "cell_type": "markdown",
   "metadata": {
    "id": "tdxT4S1IvnkX"
   },
   "source": [
    "**[MSE-07]** "
   ]
  },
  {
   "cell_type": "code",
   "execution_count": 7,
   "metadata": {
    "colab": {
     "base_uri": "https://localhost:8080/"
    },
    "id": "bEqYb82xvnkX",
    "outputId": "f9566545-ab81-4e4c-af94-bba6420f3f2d"
   },
   "outputs": [
    {
     "name": "stdout",
     "output_type": "stream",
     "text": [
      "num_iterations = 550\n",
      "Epoch : 0001,  Loss: 1.635482809,  Accuracy: 0.829509089\n",
      "Epoch : 0002,  Loss: 1.597457968,  Accuracy: 0.863999999\n",
      "Epoch : 0003,  Loss: 1.587853947,  Accuracy: 0.872800000\n",
      "Epoch : 0004,  Loss: 1.543918503,  Accuracy: 0.917672729\n",
      "Epoch : 0005,  Loss: 1.492252649,  Accuracy: 0.969909098\n",
      "Epoch : 0006,  Loss: 1.485963105,  Accuracy: 0.975927282\n",
      "Epoch : 0007,  Loss: 1.481970295,  Accuracy: 0.980236376\n",
      "Epoch : 0008,  Loss: 1.478976554,  Accuracy: 0.983018192\n",
      "Epoch : 0009,  Loss: 1.477490346,  Accuracy: 0.984290919\n",
      "Epoch : 0010,  Loss: 1.476192087,  Accuracy: 0.985363647\n",
      "Epoch : 0011,  Loss: 1.474557022,  Accuracy: 0.987054555\n",
      "Epoch : 0012,  Loss: 1.473748869,  Accuracy: 0.987618191\n",
      "Epoch : 0013,  Loss: 1.471996016,  Accuracy: 0.989581827\n",
      "Epoch : 0014,  Loss: 1.471549116,  Accuracy: 0.990018190\n",
      "Epoch : 0015,  Loss: 1.470817632,  Accuracy: 0.990781826\n",
      "Epoch : 0016,  Loss: 1.470840466,  Accuracy: 0.990836372\n",
      "Epoch : 0017,  Loss: 1.469672324,  Accuracy: 0.991836371\n",
      "Epoch : 0018,  Loss: 1.469325067,  Accuracy: 0.992109098\n",
      "Epoch : 0019,  Loss: 1.469825607,  Accuracy: 0.991618189\n",
      "Epoch : 0020,  Loss: 1.469076765,  Accuracy: 0.992327280\n",
      "Epoch : 0021,  Loss: 1.468241313,  Accuracy: 0.993127279\n",
      "Epoch : 0022,  Loss: 1.468687020,  Accuracy: 0.992509098\n",
      "Epoch : 0023,  Loss: 1.468421188,  Accuracy: 0.992909097\n",
      "Epoch : 0024,  Loss: 1.468390345,  Accuracy: 0.992890916\n",
      "Epoch : 0025,  Loss: 1.468476400,  Accuracy: 0.992927279\n",
      "Epoch : 0026,  Loss: 1.467944712,  Accuracy: 0.993400006\n",
      "Epoch : 0027,  Loss: 1.467729453,  Accuracy: 0.993545461\n",
      "Epoch : 0028,  Loss: 1.467521764,  Accuracy: 0.993672733\n",
      "Epoch : 0029,  Loss: 1.467828153,  Accuracy: 0.993600006\n",
      "Epoch : 0030,  Loss: 1.467412786,  Accuracy: 0.993709097\n",
      "Epoch : 0031,  Loss: 1.467293183,  Accuracy: 0.993909096\n",
      "Epoch : 0032,  Loss: 1.467414283,  Accuracy: 0.993836369\n",
      "Epoch : 0033,  Loss: 1.467454583,  Accuracy: 0.993763642\n",
      "Epoch : 0034,  Loss: 1.467174906,  Accuracy: 0.994000006\n",
      "Epoch : 0035,  Loss: 1.467561276,  Accuracy: 0.993654551\n",
      "Epoch : 0036,  Loss: 1.467274363,  Accuracy: 0.993981824\n",
      "Epoch : 0037,  Loss: 1.467367752,  Accuracy: 0.993836369\n",
      "Epoch : 0038,  Loss: 1.466998772,  Accuracy: 0.994181823\n",
      "Epoch : 0039,  Loss: 1.466759134,  Accuracy: 0.994472732\n",
      "Epoch : 0040,  Loss: 1.466616986,  Accuracy: 0.994527278\n",
      "Epoch : 0041,  Loss: 1.466725122,  Accuracy: 0.994472732\n",
      "Epoch : 0042,  Loss: 1.466702324,  Accuracy: 0.994509096\n",
      "Epoch : 0043,  Loss: 1.466872597,  Accuracy: 0.994327278\n",
      "Epoch : 0044,  Loss: 1.466583574,  Accuracy: 0.994563641\n",
      "Epoch : 0045,  Loss: 1.466770395,  Accuracy: 0.994400005\n",
      "Epoch : 0046,  Loss: 1.466286836,  Accuracy: 0.994927278\n",
      "Epoch : 0047,  Loss: 1.466514103,  Accuracy: 0.994690914\n",
      "Epoch : 0048,  Loss: 1.466437223,  Accuracy: 0.994745459\n",
      "Epoch : 0049,  Loss: 1.466703098,  Accuracy: 0.994527278\n",
      "Epoch : 0050,  Loss: 1.466218629,  Accuracy: 0.994963641\n",
      "Learning Finished\n",
      "Accuracy: 0.9809\n"
     ]
    }
   ],
   "source": [
    "batch_size = 100\n",
    "num_epochs = 50\n",
    "num_iterations = int(mnist.train.num_examples / batch_size)\n",
    "print(\"num_iterations = %d\" %(num_iterations))\n",
    "\n",
    "epoch = 0\n",
    "for _ in range(num_epochs):\n",
    "    epoch += 1\n",
    "    avg_loss = 0 \n",
    "    avg_accuracy = 0\n",
    "    \n",
    "    for iteration in range (num_iterations):\n",
    "      batch_xs, batch_ts = mnist.train.next_batch(batch_size)\n",
    "      _, loss_val, acc_val = sess.run([train_step, loss, accuracy], feed_dict={x: batch_xs, t: batch_ts})\n",
    "      avg_loss += loss_val / num_iterations\n",
    "      avg_accuracy += acc_val / num_iterations\n",
    "      \n",
    "    print(\"Epoch : %04d,  Loss: %0.9f,  Accuracy: %0.9f\" %(epoch, avg_loss, avg_accuracy))\n",
    " \n",
    "print(\"Learning Finished\")\n",
    "  \n",
    "#Test model and check accuracy\n",
    "print( \"Accuracy:\", sess.run(accuracy, feed_dict={x:mnist.test.images, t:mnist.test.labels}))"
   ]
  },
  {
   "cell_type": "markdown",
   "metadata": {
    "id": "CfLOlUD2vnkb"
   },
   "source": [
    "**[MSE-08]** 이 시점의 파라미터를 이용해 테스트 세트에 대한 예측을 출력한다.\n",
    "\n",
    "여기서는 '0' ~ '9'의 숫자에 대해 정답과 오답 예를 3개씩 출력한다."
   ]
  },
  {
   "cell_type": "code",
   "execution_count": 8,
   "metadata": {
    "colab": {
     "base_uri": "https://localhost:8080/",
     "height": 860
    },
    "id": "yEHZSntXvnkc",
    "outputId": "c8528cd8-8359-4788-cbf7-797448043509"
   },
   "outputs": [
    {
     "data": {
      "image/png": "[encoded data removed]",
      "text/plain": [
       "<Figure size 576x1080 with 60 Axes>"
      ]
     },
     "metadata": {
      "tags": []
     },
     "output_type": "display_data"
    }
   ],
   "source": [
    "#@title\n",
    "images, labels = mnist.test.images, mnist.test.labels\n",
    "p_val = sess.run(p, feed_dict={x:images, t: labels}) \n",
    "\n",
    "fig = plt.figure(figsize=(8,15))\n",
    "for i in range(10):\n",
    "    c = 1\n",
    "    for (image, label, pred) in zip(images, labels, p_val):\n",
    "        prediction, actual = np.argmax(pred), np.argmax(label)\n",
    "        if prediction != i:\n",
    "            continue\n",
    "        if (c < 4 and i == actual) or (c >= 4 and i != actual):\n",
    "            subplot = fig.add_subplot(10,6,i*6+c)\n",
    "            subplot.set_xticks([])\n",
    "            subplot.set_yticks([])\n",
    "            subplot.set_title('%d / %d' % (prediction, actual))\n",
    "            subplot.imshow(image.reshape((28,28)), vmin=0, vmax=1,\n",
    "                           cmap=plt.cm.gray_r, interpolation=\"nearest\")\n",
    "            c += 1\n",
    "            if c > 6:\n",
    "                break"
   ]
  },
  {
   "cell_type": "code",
   "execution_count": 8,
   "metadata": {
    "id": "i6egZgu_3dHM"
   },
   "outputs": [],
   "source": []
  }
 ],
 "metadata": {
  "accelerator": "GPU",
  "colab": {
   "collapsed_sections": [],
   "name": "MNIST_SinlgeLayerNetwork_YJ.ipynb",
   "provenance": []
  },
  "kernelspec": {
   "display_name": "Python 3",
   "language": "python",
   "name": "python3"
  },
  "language_info": {
   "codemirror_mode": {
    "name": "ipython",
    "version": 3
   },
   "file_extension": ".py",
   "mimetype": "text/x-python",
   "name": "python",
   "nbconvert_exporter": "python",
   "pygments_lexer": "ipython3",
   "version": "3.8.8"
  }
 },
 "nbformat": 4,
 "nbformat_minor": 1
}
